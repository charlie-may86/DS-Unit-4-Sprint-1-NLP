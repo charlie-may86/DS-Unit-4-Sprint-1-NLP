{
 "cells": [
  {
   "cell_type": "markdown",
   "metadata": {
    "colab_type": "text",
    "id": "cOMBkFKn6uEK"
   },
   "source": [
    "# Topic Modeling (Prepare)\n",
    "\n",
    "On Monday we talked about summarizing your documents using just token counts. Today, we're going to learn about a much more sophisticated approach - learning 'topics' from documents. Topics are a latent structure. They are not directly observable in the data, but we know they're there by reading them.\n",
    "\n",
    "> **latent**: existing but not yet developed or manifest; hidden or concealed.\n",
    "\n",
    "## Use Cases\n",
    "Primary use case: what the hell are your documents about? Who might want to know that in industry - \n",
    "* Identifying common themes in customer reviews\n",
    "* Discovering the needle in a haystack \n",
    "* Monitoring communications (Email - State Department) \n",
    "\n",
    "## Learning Objectives\n",
    "*At the end of the lesson you should be able to:*\n",
    "* Part 0: Warm-Up\n",
    "* Part 1: Describe how an LDA Model works\n",
    "* Part 2: Estimate a LDA Model with Gensim\n",
    "* Part 3: Interpret LDA results & Select the appropriate number of topics"
   ]
  },
  {
   "cell_type": "markdown",
   "metadata": {
    "colab_type": "text",
    "id": "cxH0cRGX6uEL"
   },
   "source": [
    "# Part 0: Warm-Up\n",
    "How do we do a grid search? "
   ]
  },
  {
   "cell_type": "code",
   "execution_count": 51,
   "metadata": {
    "colab": {},
    "colab_type": "code",
    "id": "FFjplZ7r3Lyk"
   },
   "outputs": [
    {
     "name": "stderr",
     "output_type": "stream",
     "text": [
      "/opt/anaconda3/envs/U4-S1-NLP/lib/python3.7/site-packages/ipykernel/ipkernel.py:287: DeprecationWarning: `should_run_async` will not call `transform_cell` automatically in the future. Please pass the result to `transformed_cell` argument and any exception that happen during thetransform in `preprocessing_exc_tuple` in IPython 7.17 and above.\n",
      "  and should_run_async(code)\n"
     ]
    }
   ],
   "source": [
    "import warnings\n",
    "warnings.filterwarnings(\"ignore\")"
   ]
  },
  {
   "cell_type": "code",
   "execution_count": 2,
   "metadata": {
    "colab": {},
    "colab_type": "code",
    "id": "rnyNg8sQ6uEL"
   },
   "outputs": [],
   "source": [
    "import pandas as pd\n",
    "from sklearn.datasets import fetch_20newsgroups\n",
    "from sklearn.ensemble import RandomForestClassifier\n",
    "from sklearn.model_selection import GridSearchCV\n",
    "from sklearn.feature_extraction.text import TfidfVectorizer"
   ]
  },
  {
   "cell_type": "code",
   "execution_count": 3,
   "metadata": {
    "colab": {},
    "colab_type": "code",
    "id": "boKWVkRz6uEO"
   },
   "outputs": [
    {
     "name": "stdout",
     "output_type": "stream",
     "text": [
      "Training Samples: 11314\n",
      "Testing Samples: 7532\n"
     ]
    }
   ],
   "source": [
    "# Load training data\n",
    "newsgroups_train = fetch_20newsgroups(subset='train', \n",
    "                                      remove=('headers', 'footers', 'quotes'))\n",
    "\n",
    "# Load testing data\n",
    "newsgroups_test = fetch_20newsgroups(subset='test', \n",
    "                                     remove=('headers', 'footers', 'quotes'))\n",
    "\n",
    "print(f'Training Samples: {len(newsgroups_train.data)}')\n",
    "print(f'Testing Samples: {len(newsgroups_test.data)}')"
   ]
  },
  {
   "cell_type": "code",
   "execution_count": 4,
   "metadata": {
    "colab": {},
    "colab_type": "code",
    "id": "hPpukADi7Ofv"
   },
   "outputs": [
    {
     "data": {
      "text/plain": [
       "dict_keys(['data', 'filenames', 'target_names', 'target', 'DESCR'])"
      ]
     },
     "execution_count": 4,
     "metadata": {},
     "output_type": "execute_result"
    }
   ],
   "source": [
    "newsgroups_train.keys()"
   ]
  },
  {
   "cell_type": "code",
   "execution_count": 5,
   "metadata": {
    "colab": {},
    "colab_type": "code",
    "id": "g9Jhb3j-7_e2"
   },
   "outputs": [
    {
     "data": {
      "text/plain": [
       "['alt.atheism',\n",
       " 'comp.graphics',\n",
       " 'comp.os.ms-windows.misc',\n",
       " 'comp.sys.ibm.pc.hardware',\n",
       " 'comp.sys.mac.hardware',\n",
       " 'comp.windows.x',\n",
       " 'misc.forsale',\n",
       " 'rec.autos',\n",
       " 'rec.motorcycles',\n",
       " 'rec.sport.baseball',\n",
       " 'rec.sport.hockey',\n",
       " 'sci.crypt',\n",
       " 'sci.electronics',\n",
       " 'sci.med',\n",
       " 'sci.space',\n",
       " 'soc.religion.christian',\n",
       " 'talk.politics.guns',\n",
       " 'talk.politics.mideast',\n",
       " 'talk.politics.misc',\n",
       " 'talk.religion.misc']"
      ]
     },
     "execution_count": 5,
     "metadata": {},
     "output_type": "execute_result"
    }
   ],
   "source": [
    "newsgroups_train['target_names']"
   ]
  },
  {
   "cell_type": "code",
   "execution_count": 6,
   "metadata": {
    "colab": {},
    "colab_type": "code",
    "id": "JbVoIoMm8HbR"
   },
   "outputs": [
    {
     "data": {
      "text/plain": [
       "\"Anybody seen mouse cursor distortion running the Diamond 1024x768x256 driver?\\nSorry, don't know the version of the driver (no indication in the menus) but it's a recently\\ndelivered Gateway system.  Am going to try the latest drivers from Diamond BBS but wondered\\nif anyone else had seen this.\\n\\npost or email\""
      ]
     },
     "execution_count": 6,
     "metadata": {},
     "output_type": "execute_result"
    }
   ],
   "source": [
    "newsgroups_train['data'][1000]"
   ]
  },
  {
   "cell_type": "markdown",
   "metadata": {
    "colab_type": "text",
    "id": "w-39zg9a6uEQ"
   },
   "source": [
    "### GridSearch on Just Classifier\n",
    "* Fit the vectorizer and prepare BEFORE it goes into the gridsearch"
   ]
  },
  {
   "cell_type": "code",
   "execution_count": 7,
   "metadata": {
    "colab": {},
    "colab_type": "code",
    "id": "2q3NmHEo6uEQ"
   },
   "outputs": [
    {
     "name": "stdout",
     "output_type": "stream",
     "text": [
      "(11314, 18101)\n"
     ]
    }
   ],
   "source": [
    "# Instantiate vectorizer\n",
    "vect = TfidfVectorizer(min_df=5)\n",
    "\n",
    "# Transform the training data\n",
    "X_train = vect.fit_transform(newsgroups_train['data'])\n",
    "print(X_train.shape)"
   ]
  },
  {
   "cell_type": "code",
   "execution_count": 8,
   "metadata": {
    "colab": {},
    "colab_type": "code",
    "id": "7OfA7KNQ6uEU"
   },
   "outputs": [
    {
     "name": "stdout",
     "output_type": "stream",
     "text": [
      "Fitting 5 folds for each of 4 candidates, totalling 20 fits\n"
     ]
    },
    {
     "name": "stderr",
     "output_type": "stream",
     "text": [
      "[Parallel(n_jobs=-1)]: Using backend LokyBackend with 12 concurrent workers.\n",
      "[Parallel(n_jobs=-1)]: Done  18 out of  20 | elapsed:   27.9s remaining:    3.1s\n",
      "[Parallel(n_jobs=-1)]: Done  20 out of  20 | elapsed:   27.9s finished\n"
     ]
    },
    {
     "data": {
      "text/plain": [
       "GridSearchCV(cv=5, error_score=nan,\n",
       "             estimator=RandomForestClassifier(bootstrap=True, ccp_alpha=0.0,\n",
       "                                              class_weight=None,\n",
       "                                              criterion='gini', max_depth=None,\n",
       "                                              max_features='auto',\n",
       "                                              max_leaf_nodes=None,\n",
       "                                              max_samples=None,\n",
       "                                              min_impurity_decrease=0.0,\n",
       "                                              min_impurity_split=None,\n",
       "                                              min_samples_leaf=1,\n",
       "                                              min_samples_split=2,\n",
       "                                              min_weight_fraction_leaf=0.0,\n",
       "                                              n_estimators=100, n_jobs=None,\n",
       "                                              oob_score=False,\n",
       "                                              random_state=None, verbose=0,\n",
       "                                              warm_start=False),\n",
       "             iid='deprecated', n_jobs=-1,\n",
       "             param_grid={'min_samples_leaf': [1, 2, 5, 10]},\n",
       "             pre_dispatch='2*n_jobs', refit=True, return_train_score=False,\n",
       "             scoring=None, verbose=1)"
      ]
     },
     "execution_count": 8,
     "metadata": {},
     "output_type": "execute_result"
    }
   ],
   "source": [
    "params_1 = {\n",
    "    'min_samples_leaf': [1, 2, 5, 10]\n",
    "}\n",
    "\n",
    "# Instantiate classifier\n",
    "clf = RandomForestClassifier()\n",
    "\n",
    "# GridSearch\n",
    "gs1 = GridSearchCV(clf, params_1, cv=5, n_jobs=-1, verbose=1)\n",
    "gs1.fit(X_train, newsgroups_train['target'])"
   ]
  },
  {
   "cell_type": "code",
   "execution_count": 9,
   "metadata": {},
   "outputs": [
    {
     "data": {
      "text/plain": [
       "0.6421248212020302"
      ]
     },
     "execution_count": 9,
     "metadata": {},
     "output_type": "execute_result"
    }
   ],
   "source": [
    "gs1.best_score_"
   ]
  },
  {
   "cell_type": "code",
   "execution_count": 10,
   "metadata": {},
   "outputs": [
    {
     "data": {
      "text/plain": [
       "{'min_samples_leaf': 2}"
      ]
     },
     "execution_count": 10,
     "metadata": {},
     "output_type": "execute_result"
    }
   ],
   "source": [
    "gs1.best_params_"
   ]
  },
  {
   "cell_type": "code",
   "execution_count": 11,
   "metadata": {
    "colab": {},
    "colab_type": "code",
    "id": "gDkMaXvG83Zt"
   },
   "outputs": [
    {
     "data": {
      "text/plain": [
       "(1, 18101)"
      ]
     },
     "execution_count": 11,
     "metadata": {},
     "output_type": "execute_result"
    }
   ],
   "source": [
    "test_sample = vect.transform([\"The new york yankees are the best team in the region.\"])\n",
    "test_sample.shape"
   ]
  },
  {
   "cell_type": "code",
   "execution_count": 12,
   "metadata": {
    "colab": {},
    "colab_type": "code",
    "id": "cMq_hw5W6uEX"
   },
   "outputs": [
    {
     "data": {
      "text/plain": [
       "10"
      ]
     },
     "execution_count": 12,
     "metadata": {},
     "output_type": "execute_result"
    }
   ],
   "source": [
    "gs1.predict(test_sample)[0]"
   ]
  },
  {
   "cell_type": "code",
   "execution_count": 13,
   "metadata": {},
   "outputs": [
    {
     "data": {
      "text/plain": [
       "'rec.sport.baseball'"
      ]
     },
     "execution_count": 13,
     "metadata": {},
     "output_type": "execute_result"
    }
   ],
   "source": [
    "newsgroups_train['target_names'][9]"
   ]
  },
  {
   "cell_type": "markdown",
   "metadata": {
    "colab_type": "text",
    "id": "WdVTuXKl6uEZ"
   },
   "source": [
    "### GridSearch with BOTH the Vectoizer & Classifier"
   ]
  },
  {
   "cell_type": "code",
   "execution_count": 14,
   "metadata": {
    "colab": {},
    "colab_type": "code",
    "id": "97TjUtoI6uEZ"
   },
   "outputs": [
    {
     "name": "stdout",
     "output_type": "stream",
     "text": [
      "Fitting 5 folds for each of 8 candidates, totalling 40 fits\n"
     ]
    },
    {
     "name": "stderr",
     "output_type": "stream",
     "text": [
      "[Parallel(n_jobs=-1)]: Using backend LokyBackend with 12 concurrent workers.\n",
      "[Parallel(n_jobs=-1)]: Done  40 out of  40 | elapsed:  1.3min finished\n"
     ]
    },
    {
     "data": {
      "text/plain": [
       "GridSearchCV(cv=5, error_score=nan,\n",
       "             estimator=Pipeline(memory=None,\n",
       "                                steps=[('vect',\n",
       "                                        TfidfVectorizer(analyzer='word',\n",
       "                                                        binary=False,\n",
       "                                                        decode_error='strict',\n",
       "                                                        dtype=<class 'numpy.float64'>,\n",
       "                                                        encoding='utf-8',\n",
       "                                                        input='content',\n",
       "                                                        lowercase=True,\n",
       "                                                        max_df=1.0,\n",
       "                                                        max_features=None,\n",
       "                                                        min_df=1,\n",
       "                                                        ngram_range=(1, 1),\n",
       "                                                        norm='l2',\n",
       "                                                        preprocessor=None,\n",
       "                                                        smooth_idf=True,\n",
       "                                                        stop_words=None,\n",
       "                                                        strip_acce...\n",
       "                                                               min_samples_split=2,\n",
       "                                                               min_weight_fraction_leaf=0.0,\n",
       "                                                               n_estimators=100,\n",
       "                                                               n_jobs=None,\n",
       "                                                               oob_score=False,\n",
       "                                                               random_state=42,\n",
       "                                                               verbose=0,\n",
       "                                                               warm_start=False))],\n",
       "                                verbose=False),\n",
       "             iid='deprecated', n_jobs=-1,\n",
       "             param_grid={'clf__max_depth': (10, None), 'vect__min_df': (2, 5),\n",
       "                         'vect__stop_words': (None, 'english')},\n",
       "             pre_dispatch='2*n_jobs', refit=True, return_train_score=False,\n",
       "             scoring=None, verbose=1)"
      ]
     },
     "execution_count": 14,
     "metadata": {},
     "output_type": "execute_result"
    }
   ],
   "source": [
    "from sklearn.pipeline import Pipeline\n",
    "\n",
    "# 1. Create a pipeline with a vectorize and a classifier\n",
    "# 2. Use Grid Search to optimize the entire pipeline\n",
    "pipe = Pipeline([\n",
    "    ('vect', TfidfVectorizer()),\n",
    "    ('clf', RandomForestClassifier(random_state=42))\n",
    "])\n",
    "\n",
    "params_2 = {\n",
    "    'vect__stop_words': (None, 'english'), \n",
    "    'vect__min_df': (2, 5),\n",
    "    'clf__max_depth': (10, None)\n",
    "}\n",
    "\n",
    "gs2 = GridSearchCV(pipe, params_2, cv=5, n_jobs=-1, verbose=1)\n",
    "gs2.fit(newsgroups_train['data'], newsgroups_train['target'])"
   ]
  },
  {
   "cell_type": "code",
   "execution_count": 15,
   "metadata": {},
   "outputs": [
    {
     "data": {
      "text/plain": [
       "0.6607746264533867"
      ]
     },
     "execution_count": 15,
     "metadata": {},
     "output_type": "execute_result"
    }
   ],
   "source": [
    "gs2.best_score_"
   ]
  },
  {
   "cell_type": "code",
   "execution_count": 16,
   "metadata": {},
   "outputs": [
    {
     "data": {
      "text/plain": [
       "{'clf__max_depth': None, 'vect__min_df': 2, 'vect__stop_words': 'english'}"
      ]
     },
     "execution_count": 16,
     "metadata": {},
     "output_type": "execute_result"
    }
   ],
   "source": [
    "gs2.best_params_"
   ]
  },
  {
   "cell_type": "code",
   "execution_count": 17,
   "metadata": {
    "colab": {},
    "colab_type": "code",
    "id": "IdIE67Us6uEc"
   },
   "outputs": [
    {
     "data": {
      "text/plain": [
       "array([9])"
      ]
     },
     "execution_count": 17,
     "metadata": {},
     "output_type": "execute_result"
    }
   ],
   "source": [
    "pred = gs2.predict([\"The new york yankees are the best team in the region.\"])\n",
    "pred"
   ]
  },
  {
   "cell_type": "code",
   "execution_count": 18,
   "metadata": {
    "colab": {},
    "colab_type": "code",
    "id": "xhcb5G0W-Dch"
   },
   "outputs": [
    {
     "data": {
      "text/plain": [
       "'rec.sport.baseball'"
      ]
     },
     "execution_count": 18,
     "metadata": {},
     "output_type": "execute_result"
    }
   ],
   "source": [
    "newsgroups_train['target_names'][pred[0]]"
   ]
  },
  {
   "cell_type": "markdown",
   "metadata": {
    "colab_type": "text",
    "id": "F2R2ACd36uEd"
   },
   "source": [
    "Advantages to using GS with the Pipe:\n",
    "* Allows us to make predictions on raw text increasing reproducibility. :)\n",
    "* Allows us to tune the parameters of the vectorizer along side the classifier. :D "
   ]
  },
  {
   "cell_type": "markdown",
   "metadata": {
    "colab_type": "text",
    "id": "xbZjG6U86uEe"
   },
   "source": [
    "# Part 1: Describe how an LDA Model works"
   ]
  },
  {
   "cell_type": "markdown",
   "metadata": {
    "colab_type": "text",
    "id": "dMzU-XOM3LzW"
   },
   "source": [
    "[Your Guide to Latent Dirichlet Allocation](https://medium.com/@lettier/how-does-lda-work-ill-explain-using-emoji-108abf40fa7d)\n",
    "\n",
    "[LDA Topic Modeling](https://lettier.com/projects/lda-topic-modeling/)\n",
    "\n",
    "[Topic Modeling with Gensim](https://www.machinelearningplus.com/nlp/topic-modeling-gensim-python/)"
   ]
  },
  {
   "cell_type": "code",
   "execution_count": 19,
   "metadata": {
    "colab": {},
    "colab_type": "code",
    "id": "yPIlE_IeF0cX"
   },
   "outputs": [
    {
     "name": "stdout",
     "output_type": "stream",
     "text": [
      "\u001b[38;5;2m✔ Download and installation successful\u001b[0m\n",
      "You can now load the model via spacy.load('en_core_web_lg')\n"
     ]
    }
   ],
   "source": [
    "# Download spacy model\n",
    "import spacy.cli\n",
    "spacy.cli.download(\"en_core_web_lg\")"
   ]
  },
  {
   "cell_type": "code",
   "execution_count": 20,
   "metadata": {
    "colab": {},
    "colab_type": "code",
    "id": "qapChu_UGBFc"
   },
   "outputs": [],
   "source": [
    "import re\n",
    "import numpy as np\n",
    "import pandas as pd\n",
    "from pprint import pprint\n",
    "\n",
    "import gensim\n",
    "import gensim.corpora as corpora\n",
    "from gensim.utils import simple_preprocess\n",
    "from gensim.models import CoherenceModel\n",
    "\n",
    "import spacy\n",
    "import pyLDAvis\n",
    "import pyLDAvis.gensim \n",
    "import matplotlib.pyplot as plt\n",
    "%matplotlib inline"
   ]
  },
  {
   "cell_type": "code",
   "execution_count": 21,
   "metadata": {
    "colab": {},
    "colab_type": "code",
    "id": "qaMsy1XAGLxc"
   },
   "outputs": [
    {
     "name": "stdout",
     "output_type": "stream",
     "text": [
      "(11314, 3)\n"
     ]
    },
    {
     "name": "stderr",
     "output_type": "stream",
     "text": [
      "/opt/anaconda3/envs/U4-S1-NLP/lib/python3.7/site-packages/ipykernel/ipkernel.py:287: DeprecationWarning: `should_run_async` will not call `transform_cell` automatically in the future. Please pass the result to `transformed_cell` argument and any exception that happen during thetransform in `preprocessing_exc_tuple` in IPython 7.17 and above.\n",
      "  and should_run_async(code)\n"
     ]
    }
   ],
   "source": [
    "df = pd.DataFrame({\n",
    "    'content': newsgroups_train['data'],\n",
    "    'target': newsgroups_train['target'],\n",
    "    'target_names': [newsgroups_train['target_names'][i] for i in newsgroups_train['target']]\n",
    "})\n",
    "print(df.shape)"
   ]
  },
  {
   "cell_type": "code",
   "execution_count": 22,
   "metadata": {},
   "outputs": [
    {
     "name": "stderr",
     "output_type": "stream",
     "text": [
      "/opt/anaconda3/envs/U4-S1-NLP/lib/python3.7/site-packages/ipykernel/ipkernel.py:287: DeprecationWarning: `should_run_async` will not call `transform_cell` automatically in the future. Please pass the result to `transformed_cell` argument and any exception that happen during thetransform in `preprocessing_exc_tuple` in IPython 7.17 and above.\n",
      "  and should_run_async(code)\n"
     ]
    },
    {
     "data": {
      "text/html": [
       "<div>\n",
       "<style scoped>\n",
       "    .dataframe tbody tr th:only-of-type {\n",
       "        vertical-align: middle;\n",
       "    }\n",
       "\n",
       "    .dataframe tbody tr th {\n",
       "        vertical-align: top;\n",
       "    }\n",
       "\n",
       "    .dataframe thead th {\n",
       "        text-align: right;\n",
       "    }\n",
       "</style>\n",
       "<table border=\"1\" class=\"dataframe\">\n",
       "  <thead>\n",
       "    <tr style=\"text-align: right;\">\n",
       "      <th></th>\n",
       "      <th>content</th>\n",
       "      <th>target</th>\n",
       "      <th>target_names</th>\n",
       "    </tr>\n",
       "  </thead>\n",
       "  <tbody>\n",
       "    <tr>\n",
       "      <th>5551</th>\n",
       "      <td>If a PC has one, does Windows 3.1 use a math co-processor?  I'm not talking\\nabout specific apps, but the OS (if you want to call it that) itself?\\n\\nPlease respond by email.</td>\n",
       "      <td>2</td>\n",
       "      <td>comp.os.ms-windows.misc</td>\n",
       "    </tr>\n",
       "    <tr>\n",
       "      <th>10896</th>\n",
       "      <td>: .\\n: .\\n: &gt;I have a friend who connects to the mainframe and unix machines here\\n: &gt;using [Procomm Plus for Windows], but the screen seems to have a problem \\n: &gt;keeping up with the\\n: &gt;modem....he has a 14,400 modem on a 486 50 Mhz machine.\\n\\n: Tell him he probably needs to upgrade to a faster video card!  My 9600 baud\\n: modem was one of the reasons I sought out the Diamond Speedstar 24X. I get\\n: about 7 million WinMarks on my 386-25 and it just about keeps up with the\\n: modem speed (using procomm plus for windows, too).  He should get over\\n: 10 million on his machine with the same card.  Anything 10+ should yield\\n: acceptable speed...\\n\\nI'm using PC Plus at home on my trusty old NEC 386 SX/20 with a 14,400\\nbaud modem with no problems at all.  I am, however, running only\\nstraight 16 color VGA.\\n\\n--</td>\n",
       "      <td>2</td>\n",
       "      <td>comp.os.ms-windows.misc</td>\n",
       "    </tr>\n",
       "    <tr>\n",
       "      <th>9547</th>\n",
       "      <td>\\nGee, I got the idea from somewhere that devices like this were in common\\nuse in WWII, so that commanders on board ships could bellow at the troops\\nlanding on a beach, for example.\\n\\nWhich reminds me of an anecdote from the mid-60s.  At a communications\\nconference a Marine Corps communications officer said he didn't care\\nmuch for all the spread-spectrum multi-access expensive communication\\nsystems that people were talking about at the time; what he wanted\\nwas a kilowatt broadcast transmitter on the ship and a $4.95 Japanese\\ntransistor radio stuck in the ear of every Marine hitting the beach.\\n-- \\nhaynes@cats.ucsc.edu\\nhaynes@cats.bitnet</td>\n",
       "      <td>12</td>\n",
       "      <td>sci.electronics</td>\n",
       "    </tr>\n",
       "  </tbody>\n",
       "</table>\n",
       "</div>"
      ],
      "text/plain": [
       "                                                                                                                                                                                                                                                                                                                                                                                                                                                                                                                                                                                                                                                                                                                                                                                                                                                      content  \\\n",
       "5551   If a PC has one, does Windows 3.1 use a math co-processor?  I'm not talking\\nabout specific apps, but the OS (if you want to call it that) itself?\\n\\nPlease respond by email.                                                                                                                                                                                                                                                                                                                                                                                                                                                                                                                                                                                                                                                                           \n",
       "10896  : .\\n: .\\n: >I have a friend who connects to the mainframe and unix machines here\\n: >using [Procomm Plus for Windows], but the screen seems to have a problem \\n: >keeping up with the\\n: >modem....he has a 14,400 modem on a 486 50 Mhz machine.\\n\\n: Tell him he probably needs to upgrade to a faster video card!  My 9600 baud\\n: modem was one of the reasons I sought out the Diamond Speedstar 24X. I get\\n: about 7 million WinMarks on my 386-25 and it just about keeps up with the\\n: modem speed (using procomm plus for windows, too).  He should get over\\n: 10 million on his machine with the same card.  Anything 10+ should yield\\n: acceptable speed...\\n\\nI'm using PC Plus at home on my trusty old NEC 386 SX/20 with a 14,400\\nbaud modem with no problems at all.  I am, however, running only\\nstraight 16 color VGA.\\n\\n--   \n",
       "9547   \\nGee, I got the idea from somewhere that devices like this were in common\\nuse in WWII, so that commanders on board ships could bellow at the troops\\nlanding on a beach, for example.\\n\\nWhich reminds me of an anecdote from the mid-60s.  At a communications\\nconference a Marine Corps communications officer said he didn't care\\nmuch for all the spread-spectrum multi-access expensive communication\\nsystems that people were talking about at the time; what he wanted\\nwas a kilowatt broadcast transmitter on the ship and a $4.95 Japanese\\ntransistor radio stuck in the ear of every Marine hitting the beach.\\n-- \\nhaynes@cats.ucsc.edu\\nhaynes@cats.bitnet                                                                                                                                                                           \n",
       "\n",
       "       target             target_names  \n",
       "5551   2       comp.os.ms-windows.misc  \n",
       "10896  2       comp.os.ms-windows.misc  \n",
       "9547   12      sci.electronics          "
      ]
     },
     "execution_count": 22,
     "metadata": {},
     "output_type": "execute_result"
    }
   ],
   "source": [
    "pd.set_option('display.max_colwidth', 0)\n",
    "df.sample(3)"
   ]
  },
  {
   "cell_type": "code",
   "execution_count": 23,
   "metadata": {},
   "outputs": [
    {
     "name": "stderr",
     "output_type": "stream",
     "text": [
      "/opt/anaconda3/envs/U4-S1-NLP/lib/python3.7/site-packages/ipykernel/ipkernel.py:287: DeprecationWarning: `should_run_async` will not call `transform_cell` automatically in the future. Please pass the result to `transformed_cell` argument and any exception that happen during thetransform in `preprocessing_exc_tuple` in IPython 7.17 and above.\n",
      "  and should_run_async(code)\n"
     ]
    },
    {
     "data": {
      "text/plain": [
       "'The apple has fallen from the tree.'"
      ]
     },
     "execution_count": 23,
     "metadata": {},
     "output_type": "execute_result"
    }
   ],
   "source": [
    "' '.join(\"  The apple has         fallen from the tree.  \".split())"
   ]
  },
  {
   "cell_type": "code",
   "execution_count": 24,
   "metadata": {
    "colab": {},
    "colab_type": "code",
    "id": "na2bkOcFGter"
   },
   "outputs": [
    {
     "name": "stderr",
     "output_type": "stream",
     "text": [
      "/opt/anaconda3/envs/U4-S1-NLP/lib/python3.7/site-packages/ipykernel/ipkernel.py:287: DeprecationWarning: `should_run_async` will not call `transform_cell` automatically in the future. Please pass the result to `transformed_cell` argument and any exception that happen during thetransform in `preprocessing_exc_tuple` in IPython 7.17 and above.\n",
      "  and should_run_async(code)\n",
      "<>:5: DeprecationWarning: invalid escape sequence \\s\n",
      "<>:8: DeprecationWarning: invalid escape sequence \\S\n",
      "<>:5: DeprecationWarning: invalid escape sequence \\s\n",
      "<>:8: DeprecationWarning: invalid escape sequence \\S\n",
      "<>:5: DeprecationWarning: invalid escape sequence \\s\n",
      "<>:8: DeprecationWarning: invalid escape sequence \\S\n",
      "<ipython-input-24-ef192abb48ae>:5: DeprecationWarning: invalid escape sequence \\s\n",
      "  df['clean_text'] = df['content'].apply(lambda x: re.sub('\\s+', ' ', x))\n",
      "<ipython-input-24-ef192abb48ae>:8: DeprecationWarning: invalid escape sequence \\S\n",
      "  df['clean_text'] = df['clean_text'].apply(lambda x: re.sub('From: \\S+@\\S+', '', x))\n"
     ]
    }
   ],
   "source": [
    "# For reference on regex: https://docs.python.org/3/library/re.html\n",
    "# From 'content' column: \n",
    "\n",
    "# 1. Remove new line characters\n",
    "df['clean_text'] = df['content'].apply(lambda x: re.sub('\\s+', ' ', x))\n",
    "\n",
    "# 2. Remove Emails\n",
    "df['clean_text'] = df['clean_text'].apply(lambda x: re.sub('From: \\S+@\\S+', '', x))\n",
    "\n",
    "# 3. Remove non-alphanumeric characters\n",
    "df['clean_text'] = df['clean_text'].apply(lambda x: re.sub('[^a-zA-Z]', ' ', x))\n",
    "\n",
    "# 4. Remove extra whitespace \n",
    "df['clean_text'] = df['clean_text'].apply(lambda x: ' '.join(x.split()))"
   ]
  },
  {
   "cell_type": "code",
   "execution_count": 20,
   "metadata": {
    "colab": {},
    "colab_type": "code",
    "id": "2prKILFo3Lzg"
   },
   "outputs": [
    {
     "data": {
      "text/html": [
       "<div>\n",
       "<style scoped>\n",
       "    .dataframe tbody tr th:only-of-type {\n",
       "        vertical-align: middle;\n",
       "    }\n",
       "\n",
       "    .dataframe tbody tr th {\n",
       "        vertical-align: top;\n",
       "    }\n",
       "\n",
       "    .dataframe thead th {\n",
       "        text-align: right;\n",
       "    }\n",
       "</style>\n",
       "<table border=\"1\" class=\"dataframe\">\n",
       "  <thead>\n",
       "    <tr style=\"text-align: right;\">\n",
       "      <th></th>\n",
       "      <th>content</th>\n",
       "      <th>target</th>\n",
       "      <th>target_names</th>\n",
       "      <th>clean_text</th>\n",
       "    </tr>\n",
       "  </thead>\n",
       "  <tbody>\n",
       "    <tr>\n",
       "      <th>11152</th>\n",
       "      <td>\\n\\nMy whole point was not to say that the cars *couldn't* go that fast,\\nbut that they *shouldn't* go that fast.  A family sedan designed to be\\noperable at 85mph doesn't suddenly become operable at 130mph because\\nyou added some plastic aero effects, slightly wider tires, and a much\\nlarger engine.  That's what the SHO is -- a slightly modified family\\nsedan with a powerful engine.  They didn't even bother improving the\\n*brakes.*\\n\\nThe Mustang is essentially the same deal as the SHO -- a big power\\nplant stuck in a mid-size sedan, with almost no other modifications.\\nI have real-life experience with the Mustang -- it handles like a\\nbrick (except when you're invoking oversteer, of course, something I\\npersonally avoid doing on the highway) and stopping power is\\ninadequate even from 80mph.  Lots of accelleration -- but the rest of\\nthe car is not up to par.\\n\\nI picked the Porsche example because they are designed with speed in\\nmind.  It didn't have to be the 911 -- it could have been the much\\ncheaper 944 or one of several Mercedes or Audi models.  All of these\\ncars are fairly expensive -- but so are the parts that make them\\ndrivable at high speed.  This should be elementary.\\n\\nThere are a few things to keep in mind about Europe, since you brought\\nit up.  My Autobahn knowledge is admittedly second-hand, but I believe\\nthe following to be true:\\n\\n1. Drivers are much better disciplined in Europe than they are here.\\n2. The roads comprising the Autobahn are much better designed than\\n   they are here, and usually include animal fences.  This makes them\\n   far more predictable than most US highways.\\n3. Not all of Europe is the Autobahn.  Most places in Europe have\\n   speed limits that aren't out-of-line with what we used to have in\\n   the US -- if my friends weren't lying to me they're typically not\\n   much higher than 120km/h.\\n\\nI strongly suspect you won't find a lot of Rabbit owners doing 120mph\\n(nearly 200km/h) on the Autobahn, but I could be wrong.  Some people\\nhave no respect for their own lives.\\n\\n\\n\\nIf you think so you sure don't pay attention to my postings.</td>\n",
       "      <td>7</td>\n",
       "      <td>rec.autos</td>\n",
       "      <td>My whole point was not to say that the cars couldn t go that fast but that they shouldn t go that fast A family sedan designed to be operable at mph doesn t suddenly become operable at mph because you added some plastic aero effects slightly wider tires and a much larger engine That s what the SHO is a slightly modified family sedan with a powerful engine They didn t even bother improving the brakes The Mustang is essentially the same deal as the SHO a big power plant stuck in a mid size sedan with almost no other modifications I have real life experience with the Mustang it handles like a brick except when you re invoking oversteer of course something I personally avoid doing on the highway and stopping power is inadequate even from mph Lots of accelleration but the rest of the car is not up to par I picked the Porsche example because they are designed with speed in mind It didn t have to be the it could have been the much cheaper or one of several Mercedes or Audi models All of these cars are fairly expensive but so are the parts that make them drivable at high speed This should be elementary There are a few things to keep in mind about Europe since you brought it up My Autobahn knowledge is admittedly second hand but I believe the following to be true Drivers are much better disciplined in Europe than they are here The roads comprising the Autobahn are much better designed than they are here and usually include animal fences This makes them far more predictable than most US highways Not all of Europe is the Autobahn Most places in Europe have speed limits that aren t out of line with what we used to have in the US if my friends weren t lying to me they re typically not much higher than km h I strongly suspect you won t find a lot of Rabbit owners doing mph nearly km h on the Autobahn but I could be wrong Some people have no respect for their own lives If you think so you sure don t pay attention to my postings</td>\n",
       "    </tr>\n",
       "    <tr>\n",
       "      <th>6576</th>\n",
       "      <td>+++\\n++Once inflated the substance was no longer\\n++needed since there is nothing to cause the balloon to collapse.\\n++This inflatable structure could suffer multiple holes with no \\n++disastrous deflation.\\n+\\n+preasure (and the internal preasure that was needed to maintain\\n+a spherical shape against this resistance) caused them to\\n+catastrophically deflated.  The large silvered shards\\n+\\n+The billboard should pop like a dime store balloon.\\n\\nNo, you're wrong about this. Give me some time to get my references.\\n\\n</td>\n",
       "      <td>14</td>\n",
       "      <td>sci.space</td>\n",
       "      <td>Once inflated the substance was no longer needed since there is nothing to cause the balloon to collapse This inflatable structure could suffer multiple holes with no disastrous deflation preasure and the internal preasure that was needed to maintain a spherical shape against this resistance caused them to catastrophically deflated The large silvered shards The billboard should pop like a dime store balloon No you re wrong about this Give me some time to get my references</td>\n",
       "    </tr>\n",
       "    <tr>\n",
       "      <th>7363</th>\n",
       "      <td>2-gigabyte Fujitsu 5.25\" disk drive\\ninternal drive, model M26525A\\n(uses either a SCSI or EDI interface on your disk controller card)\\nbrand new, still in box, never used\\n\\n  only $1800 (compare to $2400 in cheapest mail-order catalogs)</td>\n",
       "      <td>6</td>\n",
       "      <td>misc.forsale</td>\n",
       "      <td>gigabyte Fujitsu disk drive internal drive model M A uses either a SCSI or EDI interface on your disk controller card brand new still in box never used only compare to in cheapest mail order catalogs</td>\n",
       "    </tr>\n",
       "  </tbody>\n",
       "</table>\n",
       "</div>"
      ],
      "text/plain": [
       "                                                                                                                                                                                                                                                                                                                                                                                                                                                                                                                                                                                                                                                                                                                                                                                                                                                                                                                                                                                                                                                                                                                                                                                                                                                                                                                                                                                                                                                                                                                                                                                                                                                                                                                                                                                                                                                                                                                                                                                                                                                                                                                                                                                                        content  \\\n",
       "11152  \\n\\nMy whole point was not to say that the cars *couldn't* go that fast,\\nbut that they *shouldn't* go that fast.  A family sedan designed to be\\noperable at 85mph doesn't suddenly become operable at 130mph because\\nyou added some plastic aero effects, slightly wider tires, and a much\\nlarger engine.  That's what the SHO is -- a slightly modified family\\nsedan with a powerful engine.  They didn't even bother improving the\\n*brakes.*\\n\\nThe Mustang is essentially the same deal as the SHO -- a big power\\nplant stuck in a mid-size sedan, with almost no other modifications.\\nI have real-life experience with the Mustang -- it handles like a\\nbrick (except when you're invoking oversteer, of course, something I\\npersonally avoid doing on the highway) and stopping power is\\ninadequate even from 80mph.  Lots of accelleration -- but the rest of\\nthe car is not up to par.\\n\\nI picked the Porsche example because they are designed with speed in\\nmind.  It didn't have to be the 911 -- it could have been the much\\ncheaper 944 or one of several Mercedes or Audi models.  All of these\\ncars are fairly expensive -- but so are the parts that make them\\ndrivable at high speed.  This should be elementary.\\n\\nThere are a few things to keep in mind about Europe, since you brought\\nit up.  My Autobahn knowledge is admittedly second-hand, but I believe\\nthe following to be true:\\n\\n1. Drivers are much better disciplined in Europe than they are here.\\n2. The roads comprising the Autobahn are much better designed than\\n   they are here, and usually include animal fences.  This makes them\\n   far more predictable than most US highways.\\n3. Not all of Europe is the Autobahn.  Most places in Europe have\\n   speed limits that aren't out-of-line with what we used to have in\\n   the US -- if my friends weren't lying to me they're typically not\\n   much higher than 120km/h.\\n\\nI strongly suspect you won't find a lot of Rabbit owners doing 120mph\\n(nearly 200km/h) on the Autobahn, but I could be wrong.  Some people\\nhave no respect for their own lives.\\n\\n\\n\\nIf you think so you sure don't pay attention to my postings.   \n",
       "6576   +++\\n++Once inflated the substance was no longer\\n++needed since there is nothing to cause the balloon to collapse.\\n++This inflatable structure could suffer multiple holes with no \\n++disastrous deflation.\\n+\\n+preasure (and the internal preasure that was needed to maintain\\n+a spherical shape against this resistance) caused them to\\n+catastrophically deflated.  The large silvered shards\\n+\\n+The billboard should pop like a dime store balloon.\\n\\nNo, you're wrong about this. Give me some time to get my references.\\n\\n                                                                                                                                                                                                                                                                                                                                                                                                                                                                                                                                                                                                                                                                                                                                                                                                                                                                                                                                                                                                                                                                                                                                                                                                                                                                                                                                                                                                                                                                                                                                                                                                                                                               \n",
       "7363   2-gigabyte Fujitsu 5.25\" disk drive\\ninternal drive, model M26525A\\n(uses either a SCSI or EDI interface on your disk controller card)\\nbrand new, still in box, never used\\n\\n  only $1800 (compare to $2400 in cheapest mail-order catalogs)                                                                                                                                                                                                                                                                                                                                                                                                                                                                                                                                                                                                                                                                                                                                                                                                                                                                                                                                                                                                                                                                                                                                                                                                                                                                                                                                                                                                                                                                                                                                                                                                                                                                                                                                                                                                                                                                                                                                                             \n",
       "\n",
       "       target  target_names  \\\n",
       "11152  7       rec.autos      \n",
       "6576   14      sci.space      \n",
       "7363   6       misc.forsale   \n",
       "\n",
       "                                                                                                                                                                                                                                                                                                                                                                                                                                                                                                                                                                                                                                                                                                                                                                                                                                                                                                                                                                                                                                                                                                                                                                                                                                                                                                                                                                                                                                                                                                                                                                                                                                                                                                                                                                                                                                                                                                                                                                                                                       clean_text  \n",
       "11152  My whole point was not to say that the cars couldn t go that fast but that they shouldn t go that fast A family sedan designed to be operable at mph doesn t suddenly become operable at mph because you added some plastic aero effects slightly wider tires and a much larger engine That s what the SHO is a slightly modified family sedan with a powerful engine They didn t even bother improving the brakes The Mustang is essentially the same deal as the SHO a big power plant stuck in a mid size sedan with almost no other modifications I have real life experience with the Mustang it handles like a brick except when you re invoking oversteer of course something I personally avoid doing on the highway and stopping power is inadequate even from mph Lots of accelleration but the rest of the car is not up to par I picked the Porsche example because they are designed with speed in mind It didn t have to be the it could have been the much cheaper or one of several Mercedes or Audi models All of these cars are fairly expensive but so are the parts that make them drivable at high speed This should be elementary There are a few things to keep in mind about Europe since you brought it up My Autobahn knowledge is admittedly second hand but I believe the following to be true Drivers are much better disciplined in Europe than they are here The roads comprising the Autobahn are much better designed than they are here and usually include animal fences This makes them far more predictable than most US highways Not all of Europe is the Autobahn Most places in Europe have speed limits that aren t out of line with what we used to have in the US if my friends weren t lying to me they re typically not much higher than km h I strongly suspect you won t find a lot of Rabbit owners doing mph nearly km h on the Autobahn but I could be wrong Some people have no respect for their own lives If you think so you sure don t pay attention to my postings  \n",
       "6576   Once inflated the substance was no longer needed since there is nothing to cause the balloon to collapse This inflatable structure could suffer multiple holes with no disastrous deflation preasure and the internal preasure that was needed to maintain a spherical shape against this resistance caused them to catastrophically deflated The large silvered shards The billboard should pop like a dime store balloon No you re wrong about this Give me some time to get my references                                                                                                                                                                                                                                                                                                                                                                                                                                                                                                                                                                                                                                                                                                                                                                                                                                                                                                                                                                                                                                                                                                                                                                                                                                                                                                                                                                                                                                                                                                                                \n",
       "7363   gigabyte Fujitsu disk drive internal drive model M A uses either a SCSI or EDI interface on your disk controller card brand new still in box never used only compare to in cheapest mail order catalogs                                                                                                                                                                                                                                                                                                                                                                                                                                                                                                                                                                                                                                                                                                                                                                                                                                                                                                                                                                                                                                                                                                                                                                                                                                                                                                                                                                                                                                                                                                                                                                                                                                                                                                                                                                                                                     "
      ]
     },
     "execution_count": 20,
     "metadata": {},
     "output_type": "execute_result"
    }
   ],
   "source": [
    "df.sample(3)"
   ]
  },
  {
   "cell_type": "code",
   "execution_count": 27,
   "metadata": {
    "colab": {},
    "colab_type": "code",
    "id": "kSW10Cb33Lzk"
   },
   "outputs": [
    {
     "name": "stderr",
     "output_type": "stream",
     "text": [
      "/opt/anaconda3/envs/U4-S1-NLP/lib/python3.7/site-packages/ipykernel/ipkernel.py:287: DeprecationWarning: `should_run_async` will not call `transform_cell` automatically in the future. Please pass the result to `transformed_cell` argument and any exception that happen during thetransform in `preprocessing_exc_tuple` in IPython 7.17 and above.\n",
      "  and should_run_async(code)\n"
     ]
    }
   ],
   "source": [
    "nlp = spacy.load(\"en_core_web_lg\")"
   ]
  },
  {
   "cell_type": "code",
   "execution_count": 28,
   "metadata": {
    "colab": {},
    "colab_type": "code",
    "id": "pkgfv9tc3Lzi"
   },
   "outputs": [
    {
     "name": "stderr",
     "output_type": "stream",
     "text": [
      "/opt/anaconda3/envs/U4-S1-NLP/lib/python3.7/site-packages/ipykernel/ipkernel.py:287: DeprecationWarning: `should_run_async` will not call `transform_cell` automatically in the future. Please pass the result to `transformed_cell` argument and any exception that happen during thetransform in `preprocessing_exc_tuple` in IPython 7.17 and above.\n",
      "  and should_run_async(code)\n"
     ]
    }
   ],
   "source": [
    "# Leverage tqdm for progress_apply\n",
    "from tqdm import tqdm\n",
    "tqdm.pandas()\n",
    "\n",
    "# If you're on macOS, Linux, or python session executed from Windows Subsystem for Linux (WSL)\n",
    "# conda activate U4-S1-NLP\n",
    "# pip install pandarallel\n",
    "#\n",
    "# from pandarallel import pandarallel\n",
    "# pandarallel.initialize(progress_bar=True)\n",
    "#\n",
    "# df['lemmas'] = df['content'].parallel_apply(get_lemmas)\n",
    "#\n",
    "# Ref: https://github.com/nalepae/pandarallel"
   ]
  },
  {
   "cell_type": "code",
   "execution_count": 29,
   "metadata": {
    "colab": {},
    "colab_type": "code",
    "id": "6EBPQXqEKE9P"
   },
   "outputs": [
    {
     "name": "stderr",
     "output_type": "stream",
     "text": [
      "/opt/anaconda3/envs/U4-S1-NLP/lib/python3.7/site-packages/ipykernel/ipkernel.py:287: DeprecationWarning: `should_run_async` will not call `transform_cell` automatically in the future. Please pass the result to `transformed_cell` argument and any exception that happen during thetransform in `preprocessing_exc_tuple` in IPython 7.17 and above.\n",
      "  and should_run_async(code)\n",
      "100%|██████████| 11314/11314 [05:15<00:00, 35.86it/s]\n"
     ]
    }
   ],
   "source": [
    "# Create 'lemmas' column\n",
    "def get_lemmas(x):\n",
    "    lemmas = []\n",
    "    for token in nlp(x):\n",
    "        if (token.is_stop!=True) and (token.is_punct!=True):\n",
    "            lemmas.append(token.lemma_)\n",
    "    return lemmas\n",
    "\n",
    "df['lemmas'] = df['clean_text'].progress_apply(get_lemmas)"
   ]
  },
  {
   "cell_type": "code",
   "execution_count": 30,
   "metadata": {
    "colab": {},
    "colab_type": "code",
    "id": "-yvsyIpvKBlw"
   },
   "outputs": [
    {
     "name": "stderr",
     "output_type": "stream",
     "text": [
      "/opt/anaconda3/envs/U4-S1-NLP/lib/python3.7/site-packages/ipykernel/ipkernel.py:287: DeprecationWarning: `should_run_async` will not call `transform_cell` automatically in the future. Please pass the result to `transformed_cell` argument and any exception that happen during thetransform in `preprocessing_exc_tuple` in IPython 7.17 and above.\n",
      "  and should_run_async(code)\n"
     ]
    },
    {
     "data": {
      "text/html": [
       "<div>\n",
       "<style scoped>\n",
       "    .dataframe tbody tr th:only-of-type {\n",
       "        vertical-align: middle;\n",
       "    }\n",
       "\n",
       "    .dataframe tbody tr th {\n",
       "        vertical-align: top;\n",
       "    }\n",
       "\n",
       "    .dataframe thead th {\n",
       "        text-align: right;\n",
       "    }\n",
       "</style>\n",
       "<table border=\"1\" class=\"dataframe\">\n",
       "  <thead>\n",
       "    <tr style=\"text-align: right;\">\n",
       "      <th></th>\n",
       "      <th>content</th>\n",
       "      <th>target</th>\n",
       "      <th>target_names</th>\n",
       "      <th>clean_text</th>\n",
       "      <th>lemmas</th>\n",
       "    </tr>\n",
       "  </thead>\n",
       "  <tbody>\n",
       "    <tr>\n",
       "      <th>0</th>\n",
       "      <td>I was wondering if anyone out there could enlighten me on this car I saw\\nthe other day. It was a 2-door sports car, looked to be from the late 60s/\\nearly 70s. It was called a Bricklin. The doors were really small. In addition,\\nthe front bumper was separate from the rest of the body. This is \\nall I know. If anyone can tellme a model name, engine specs, years\\nof production, where this car is made, history, or whatever info you\\nhave on this funky looking car, please e-mail.</td>\n",
       "      <td>7</td>\n",
       "      <td>rec.autos</td>\n",
       "      <td>I was wondering if anyone out there could enlighten me on this car I saw the other day It was a door sports car looked to be from the late s early s It was called a Bricklin The doors were really small In addition the front bumper was separate from the rest of the body This is all I know If anyone can tellme a model name engine specs years of production where this car is made history or whatever info you have on this funky looking car please e mail</td>\n",
       "      <td>[wonder, enlighten, car, see, day, door, sport, car, look, late, s, early, s, call, Bricklin, door, small, addition, bumper, separate, rest, body, know, tellme, model, engine, spec, year, production, car, history, info, funky, look, car, e, mail]</td>\n",
       "    </tr>\n",
       "    <tr>\n",
       "      <th>1</th>\n",
       "      <td>A fair number of brave souls who upgraded their SI clock oscillator have\\nshared their experiences for this poll. Please send a brief message detailing\\nyour experiences with the procedure. Top speed attained, CPU rated speed,\\nadd on cards and adapters, heat sinks, hour of usage per day, floppy disk\\nfunctionality with 800 and 1.4 m floppies are especially requested.\\n\\nI will be summarizing in the next two days, so please add to the network\\nknowledge base if you have done the clock upgrade and haven't answered this\\npoll. Thanks.</td>\n",
       "      <td>4</td>\n",
       "      <td>comp.sys.mac.hardware</td>\n",
       "      <td>A fair number of brave souls who upgraded their SI clock oscillator have shared their experiences for this poll Please send a brief message detailing your experiences with the procedure Top speed attained CPU rated speed add on cards and adapters heat sinks hour of usage per day floppy disk functionality with and m floppies are especially requested I will be summarizing in the next two days so please add to the network knowledge base if you have done the clock upgrade and haven t answered this poll Thanks</td>\n",
       "      <td>[fair, number, brave, soul, upgrade, SI, clock, oscillator, share, experience, poll, send, brief, message, detail, experience, procedure, speed, attain, CPU, rate, speed, add, card, adapter, heat, sink, hour, usage, day, floppy, disk, functionality, m, floppy, especially, request, summarize, day, add, network, knowledge, base, clock, upgrade, haven, t, answer, poll, thank]</td>\n",
       "    </tr>\n",
       "    <tr>\n",
       "      <th>2</th>\n",
       "      <td>well folks, my mac plus finally gave up the ghost this weekend after\\nstarting life as a 512k way back in 1985.  sooo, i'm in the market for a\\nnew machine a bit sooner than i intended to be...\\n\\ni'm looking into picking up a powerbook 160 or maybe 180 and have a bunch\\nof questions that (hopefully) somebody can answer:\\n\\n* does anybody know any dirt on when the next round of powerbook\\nintroductions are expected?  i'd heard the 185c was supposed to make an\\nappearence \"this summer\" but haven't heard anymore on it - and since i\\ndon't have access to macleak, i was wondering if anybody out there had\\nmore info...\\n\\n* has anybody heard rumors about price drops to the powerbook line like the\\nones the duo's just went through recently?\\n\\n* what's the impression of the display on the 180?  i could probably swing\\na 180 if i got the 80Mb disk rather than the 120, but i don't really have\\na feel for how much \"better\" the display is (yea, it looks great in the\\nstore, but is that all \"wow\" or is it really that good?).  could i solicit\\nsome opinions of people who use the 160 and 180 day-to-day on if its worth\\ntaking the disk size and money hit to get the active display?  (i realize\\nthis is a real subjective question, but i've only played around with the\\nmachines in a computer store breifly and figured the opinions of somebody\\nwho actually uses the machine daily might prove helpful).\\n\\n* how well does hellcats perform?  ;)\\n\\nthanks a bunch in advance for any info - if you could email, i'll post a\\nsummary (news reading time is at a premium with finals just around the\\ncorner... :( )\\n--\\nTom Willis  \\  twillis@ecn.purdue.edu    \\    Purdue Electrical Engineering</td>\n",
       "      <td>4</td>\n",
       "      <td>comp.sys.mac.hardware</td>\n",
       "      <td>well folks my mac plus finally gave up the ghost this weekend after starting life as a k way back in sooo i m in the market for a new machine a bit sooner than i intended to be i m looking into picking up a powerbook or maybe and have a bunch of questions that hopefully somebody can answer does anybody know any dirt on when the next round of powerbook introductions are expected i d heard the c was supposed to make an appearence this summer but haven t heard anymore on it and since i don t have access to macleak i was wondering if anybody out there had more info has anybody heard rumors about price drops to the powerbook line like the ones the duo s just went through recently what s the impression of the display on the i could probably swing a if i got the Mb disk rather than the but i don t really have a feel for how much better the display is yea it looks great in the store but is that all wow or is it really that good could i solicit some opinions of people who use the and day to day on if its worth taking the disk size and money hit to get the active display i realize this is a real subjective question but i ve only played around with the machines in a computer store breifly and figured the opinions of somebody who actually uses the machine daily might prove helpful how well does hellcats perform thanks a bunch in advance for any info if you could email i ll post a summary news reading time is at a premium with finals just around the corner Tom Willis twillis ecn purdue edu Purdue Electrical Engineering</td>\n",
       "      <td>[folk, mac, plus, finally, give, ghost, weekend, start, life, k, way, sooo, m, market, new, machine, bit, sooner, intend, m, look, pick, powerbook, maybe, bunch, question, hopefully, somebody, answer, anybody, know, dirt, round, powerbook, introduction, expect, d, hear, c, suppose, appearence, summer, haven, t, hear, anymore, don, t, access, macleak, wonder, anybody, info, anybody, hear, rumor, price, drop, powerbook, line, like, one, duo, s, go, recently, s, impression, display, probably, swing, get, Mb, disk, don, t, feel, well, display, yea, look, great, store, wow, good, solicit, opinion, people, use, day, day, worth, take, disk, size, money, hit, active, display, realize, ...]</td>\n",
       "    </tr>\n",
       "    <tr>\n",
       "      <th>3</th>\n",
       "      <td>\\nDo you have Weitek's address/phone number?  I'd like to get some information\\nabout this chip.\\n</td>\n",
       "      <td>1</td>\n",
       "      <td>comp.graphics</td>\n",
       "      <td>Do you have Weitek s address phone number I d like to get some information about this chip</td>\n",
       "      <td>[Weitek, s, address, phone, number, d, like, information, chip]</td>\n",
       "    </tr>\n",
       "    <tr>\n",
       "      <th>4</th>\n",
       "      <td>From article &lt;C5owCB.n3p@world.std.com&gt;, by tombaker@world.std.com (Tom A Baker):\\n\\n\\nMy understanding is that the 'expected errors' are basically\\nknown bugs in the warning system software - things are checked\\nthat don't have the right values in yet because they aren't\\nset till after launch, and suchlike. Rather than fix the code\\nand possibly introduce new bugs, they just tell the crew\\n'ok, if you see a warning no. 213 before liftoff, ignore it'.</td>\n",
       "      <td>14</td>\n",
       "      <td>sci.space</td>\n",
       "      <td>From article C owCB n p world std com by tombaker world std com Tom A Baker My understanding is that the expected errors are basically known bugs in the warning system software things are checked that don t have the right values in yet because they aren t set till after launch and suchlike Rather than fix the code and possibly introduce new bugs they just tell the crew ok if you see a warning no before liftoff ignore it</td>\n",
       "      <td>[article, C, owCB, n, p, world, std, com, tombaker, world, std, com, Tom, Baker, understanding, expect, error, basically, know, bug, warning, system, software, thing, check, don, t, right, value, aren, t, set, till, launch, suchlike, fix, code, possibly, introduce, new, bug, tell, crew, ok, warning, liftoff, ignore]</td>\n",
       "    </tr>\n",
       "  </tbody>\n",
       "</table>\n",
       "</div>"
      ],
      "text/plain": [
       "                                                                                                                                                                                                                                                                                                                                                                                                                                                                                                                                                                                                                                                                                                                                                                                                                                                                                                                                                                                                                                                                                                                                                                                                                                                                                                                                                                                                                                                                                                                                                                                                                                                                                                                                                       content  \\\n",
       "0  I was wondering if anyone out there could enlighten me on this car I saw\\nthe other day. It was a 2-door sports car, looked to be from the late 60s/\\nearly 70s. It was called a Bricklin. The doors were really small. In addition,\\nthe front bumper was separate from the rest of the body. This is \\nall I know. If anyone can tellme a model name, engine specs, years\\nof production, where this car is made, history, or whatever info you\\nhave on this funky looking car, please e-mail.                                                                                                                                                                                                                                                                                                                                                                                                                                                                                                                                                                                                                                                                                                                                                                                                                                                                                                                                                                                                                                                                                                                                                                                                                                                             \n",
       "1  A fair number of brave souls who upgraded their SI clock oscillator have\\nshared their experiences for this poll. Please send a brief message detailing\\nyour experiences with the procedure. Top speed attained, CPU rated speed,\\nadd on cards and adapters, heat sinks, hour of usage per day, floppy disk\\nfunctionality with 800 and 1.4 m floppies are especially requested.\\n\\nI will be summarizing in the next two days, so please add to the network\\nknowledge base if you have done the clock upgrade and haven't answered this\\npoll. Thanks.                                                                                                                                                                                                                                                                                                                                                                                                                                                                                                                                                                                                                                                                                                                                                                                                                                                                                                                                                                                                                                                                                                                                                                                                    \n",
       "2  well folks, my mac plus finally gave up the ghost this weekend after\\nstarting life as a 512k way back in 1985.  sooo, i'm in the market for a\\nnew machine a bit sooner than i intended to be...\\n\\ni'm looking into picking up a powerbook 160 or maybe 180 and have a bunch\\nof questions that (hopefully) somebody can answer:\\n\\n* does anybody know any dirt on when the next round of powerbook\\nintroductions are expected?  i'd heard the 185c was supposed to make an\\nappearence \"this summer\" but haven't heard anymore on it - and since i\\ndon't have access to macleak, i was wondering if anybody out there had\\nmore info...\\n\\n* has anybody heard rumors about price drops to the powerbook line like the\\nones the duo's just went through recently?\\n\\n* what's the impression of the display on the 180?  i could probably swing\\na 180 if i got the 80Mb disk rather than the 120, but i don't really have\\na feel for how much \"better\" the display is (yea, it looks great in the\\nstore, but is that all \"wow\" or is it really that good?).  could i solicit\\nsome opinions of people who use the 160 and 180 day-to-day on if its worth\\ntaking the disk size and money hit to get the active display?  (i realize\\nthis is a real subjective question, but i've only played around with the\\nmachines in a computer store breifly and figured the opinions of somebody\\nwho actually uses the machine daily might prove helpful).\\n\\n* how well does hellcats perform?  ;)\\n\\nthanks a bunch in advance for any info - if you could email, i'll post a\\nsummary (news reading time is at a premium with finals just around the\\ncorner... :( )\\n--\\nTom Willis  \\  twillis@ecn.purdue.edu    \\    Purdue Electrical Engineering   \n",
       "3  \\nDo you have Weitek's address/phone number?  I'd like to get some information\\nabout this chip.\\n                                                                                                                                                                                                                                                                                                                                                                                                                                                                                                                                                                                                                                                                                                                                                                                                                                                                                                                                                                                                                                                                                                                                                                                                                                                                                                                                                                                                                                                                                                                                                                                                                                                            \n",
       "4  From article <C5owCB.n3p@world.std.com>, by tombaker@world.std.com (Tom A Baker):\\n\\n\\nMy understanding is that the 'expected errors' are basically\\nknown bugs in the warning system software - things are checked\\nthat don't have the right values in yet because they aren't\\nset till after launch, and suchlike. Rather than fix the code\\nand possibly introduce new bugs, they just tell the crew\\n'ok, if you see a warning no. 213 before liftoff, ignore it'.                                                                                                                                                                                                                                                                                                                                                                                                                                                                                                                                                                                                                                                                                                                                                                                                                                                                                                                                                                                                                                                                                                                                                                                                                                                                                      \n",
       "\n",
       "   target           target_names  \\\n",
       "0  7       rec.autos               \n",
       "1  4       comp.sys.mac.hardware   \n",
       "2  4       comp.sys.mac.hardware   \n",
       "3  1       comp.graphics           \n",
       "4  14      sci.space               \n",
       "\n",
       "                                                                                                                                                                                                                                                                                                                                                                                                                                                                                                                                                                                                                                                                                                                                                                                                                                                                                                                                                                                                                                                                                                                                                                                                                                                                                                                                                                                                                                                                                                                                                                                    clean_text  \\\n",
       "0  I was wondering if anyone out there could enlighten me on this car I saw the other day It was a door sports car looked to be from the late s early s It was called a Bricklin The doors were really small In addition the front bumper was separate from the rest of the body This is all I know If anyone can tellme a model name engine specs years of production where this car is made history or whatever info you have on this funky looking car please e mail                                                                                                                                                                                                                                                                                                                                                                                                                                                                                                                                                                                                                                                                                                                                                                                                                                                                                                                                                                                                                                                                                                                          \n",
       "1  A fair number of brave souls who upgraded their SI clock oscillator have shared their experiences for this poll Please send a brief message detailing your experiences with the procedure Top speed attained CPU rated speed add on cards and adapters heat sinks hour of usage per day floppy disk functionality with and m floppies are especially requested I will be summarizing in the next two days so please add to the network knowledge base if you have done the clock upgrade and haven t answered this poll Thanks                                                                                                                                                                                                                                                                                                                                                                                                                                                                                                                                                                                                                                                                                                                                                                                                                                                                                                                                                                                                                                                                \n",
       "2  well folks my mac plus finally gave up the ghost this weekend after starting life as a k way back in sooo i m in the market for a new machine a bit sooner than i intended to be i m looking into picking up a powerbook or maybe and have a bunch of questions that hopefully somebody can answer does anybody know any dirt on when the next round of powerbook introductions are expected i d heard the c was supposed to make an appearence this summer but haven t heard anymore on it and since i don t have access to macleak i was wondering if anybody out there had more info has anybody heard rumors about price drops to the powerbook line like the ones the duo s just went through recently what s the impression of the display on the i could probably swing a if i got the Mb disk rather than the but i don t really have a feel for how much better the display is yea it looks great in the store but is that all wow or is it really that good could i solicit some opinions of people who use the and day to day on if its worth taking the disk size and money hit to get the active display i realize this is a real subjective question but i ve only played around with the machines in a computer store breifly and figured the opinions of somebody who actually uses the machine daily might prove helpful how well does hellcats perform thanks a bunch in advance for any info if you could email i ll post a summary news reading time is at a premium with finals just around the corner Tom Willis twillis ecn purdue edu Purdue Electrical Engineering   \n",
       "3  Do you have Weitek s address phone number I d like to get some information about this chip                                                                                                                                                                                                                                                                                                                                                                                                                                                                                                                                                                                                                                                                                                                                                                                                                                                                                                                                                                                                                                                                                                                                                                                                                                                                                                                                                                                                                                                                                                    \n",
       "4  From article C owCB n p world std com by tombaker world std com Tom A Baker My understanding is that the expected errors are basically known bugs in the warning system software things are checked that don t have the right values in yet because they aren t set till after launch and suchlike Rather than fix the code and possibly introduce new bugs they just tell the crew ok if you see a warning no before liftoff ignore it                                                                                                                                                                                                                                                                                                                                                                                                                                                                                                                                                                                                                                                                                                                                                                                                                                                                                                                                                                                                                                                                                                                                                       \n",
       "\n",
       "                                                                                                                                                                                                                                                                                                                                                                                                                                                                                                                                                                                                                                                                                                               lemmas  \n",
       "0  [wonder, enlighten, car, see, day, door, sport, car, look, late, s, early, s, call, Bricklin, door, small, addition, bumper, separate, rest, body, know, tellme, model, engine, spec, year, production, car, history, info, funky, look, car, e, mail]                                                                                                                                                                                                                                                                                                                                                                                                                                                              \n",
       "1  [fair, number, brave, soul, upgrade, SI, clock, oscillator, share, experience, poll, send, brief, message, detail, experience, procedure, speed, attain, CPU, rate, speed, add, card, adapter, heat, sink, hour, usage, day, floppy, disk, functionality, m, floppy, especially, request, summarize, day, add, network, knowledge, base, clock, upgrade, haven, t, answer, poll, thank]                                                                                                                                                                                                                                                                                                                             \n",
       "2  [folk, mac, plus, finally, give, ghost, weekend, start, life, k, way, sooo, m, market, new, machine, bit, sooner, intend, m, look, pick, powerbook, maybe, bunch, question, hopefully, somebody, answer, anybody, know, dirt, round, powerbook, introduction, expect, d, hear, c, suppose, appearence, summer, haven, t, hear, anymore, don, t, access, macleak, wonder, anybody, info, anybody, hear, rumor, price, drop, powerbook, line, like, one, duo, s, go, recently, s, impression, display, probably, swing, get, Mb, disk, don, t, feel, well, display, yea, look, great, store, wow, good, solicit, opinion, people, use, day, day, worth, take, disk, size, money, hit, active, display, realize, ...]  \n",
       "3  [Weitek, s, address, phone, number, d, like, information, chip]                                                                                                                                                                                                                                                                                                                                                                                                                                                                                                                                                                                                                                                     \n",
       "4  [article, C, owCB, n, p, world, std, com, tombaker, world, std, com, Tom, Baker, understanding, expect, error, basically, know, bug, warning, system, software, thing, check, don, t, right, value, aren, t, set, till, launch, suchlike, fix, code, possibly, introduce, new, bug, tell, crew, ok, warning, liftoff, ignore]                                                                                                                                                                                                                                                                                                                                                                                       "
      ]
     },
     "execution_count": 30,
     "metadata": {},
     "output_type": "execute_result"
    }
   ],
   "source": [
    "df.head()"
   ]
  },
  {
   "cell_type": "markdown",
   "metadata": {
    "colab_type": "text",
    "id": "cPuCuK0z3Lzs"
   },
   "source": [
    "### The two main inputs to the LDA topic model are the dictionary (id2word) and the corpus."
   ]
  },
  {
   "cell_type": "code",
   "execution_count": 31,
   "metadata": {
    "colab": {},
    "colab_type": "code",
    "id": "1klqRpqtJxWc"
   },
   "outputs": [
    {
     "name": "stderr",
     "output_type": "stream",
     "text": [
      "/opt/anaconda3/envs/U4-S1-NLP/lib/python3.7/site-packages/ipykernel/ipkernel.py:287: DeprecationWarning: `should_run_async` will not call `transform_cell` automatically in the future. Please pass the result to `transformed_cell` argument and any exception that happen during thetransform in `preprocessing_exc_tuple` in IPython 7.17 and above.\n",
      "  and should_run_async(code)\n"
     ]
    }
   ],
   "source": [
    "# Create Dictionary\n",
    "id2word = corpora.Dictionary(df['lemmas'])"
   ]
  },
  {
   "cell_type": "code",
   "execution_count": 32,
   "metadata": {},
   "outputs": [
    {
     "name": "stderr",
     "output_type": "stream",
     "text": [
      "/opt/anaconda3/envs/U4-S1-NLP/lib/python3.7/site-packages/ipykernel/ipkernel.py:287: DeprecationWarning: `should_run_async` will not call `transform_cell` automatically in the future. Please pass the result to `transformed_cell` argument and any exception that happen during thetransform in `preprocessing_exc_tuple` in IPython 7.17 and above.\n",
      "  and should_run_async(code)\n"
     ]
    },
    {
     "data": {
      "text/plain": [
       "78702"
      ]
     },
     "execution_count": 32,
     "metadata": {},
     "output_type": "execute_result"
    }
   ],
   "source": [
    "# How many words do we have?\n",
    "len(id2word.keys())"
   ]
  },
  {
   "cell_type": "code",
   "execution_count": 33,
   "metadata": {},
   "outputs": [
    {
     "name": "stderr",
     "output_type": "stream",
     "text": [
      "/opt/anaconda3/envs/U4-S1-NLP/lib/python3.7/site-packages/ipykernel/ipkernel.py:287: DeprecationWarning: `should_run_async` will not call `transform_cell` automatically in the future. Please pass the result to `transformed_cell` argument and any exception that happen during thetransform in `preprocessing_exc_tuple` in IPython 7.17 and above.\n",
      "  and should_run_async(code)\n"
     ]
    }
   ],
   "source": [
    "# Let's remove extreme values from the dataset\n",
    "id2word.filter_extremes(no_below=3, no_above=0.75)"
   ]
  },
  {
   "cell_type": "code",
   "execution_count": 34,
   "metadata": {},
   "outputs": [
    {
     "name": "stderr",
     "output_type": "stream",
     "text": [
      "/opt/anaconda3/envs/U4-S1-NLP/lib/python3.7/site-packages/ipykernel/ipkernel.py:287: DeprecationWarning: `should_run_async` will not call `transform_cell` automatically in the future. Please pass the result to `transformed_cell` argument and any exception that happen during thetransform in `preprocessing_exc_tuple` in IPython 7.17 and above.\n",
      "  and should_run_async(code)\n"
     ]
    },
    {
     "data": {
      "text/plain": [
       "22810"
      ]
     },
     "execution_count": 34,
     "metadata": {},
     "output_type": "execute_result"
    }
   ],
   "source": [
    "# How many words do we have?\n",
    "len(id2word.keys())"
   ]
  },
  {
   "cell_type": "code",
   "execution_count": 35,
   "metadata": {},
   "outputs": [
    {
     "name": "stderr",
     "output_type": "stream",
     "text": [
      "/opt/anaconda3/envs/U4-S1-NLP/lib/python3.7/site-packages/ipykernel/ipkernel.py:287: DeprecationWarning: `should_run_async` will not call `transform_cell` automatically in the future. Please pass the result to `transformed_cell` argument and any exception that happen during thetransform in `preprocessing_exc_tuple` in IPython 7.17 and above.\n",
      "  and should_run_async(code)\n"
     ]
    }
   ],
   "source": [
    "# Term Document Frequency\n",
    "corpus = [id2word.doc2bow(text) for text in df['lemmas']]"
   ]
  },
  {
   "cell_type": "code",
   "execution_count": 36,
   "metadata": {
    "colab": {},
    "colab_type": "code",
    "id": "ArZPxcP5LH1J"
   },
   "outputs": [
    {
     "name": "stderr",
     "output_type": "stream",
     "text": [
      "/opt/anaconda3/envs/U4-S1-NLP/lib/python3.7/site-packages/ipykernel/ipkernel.py:287: DeprecationWarning: `should_run_async` will not call `transform_cell` automatically in the future. Please pass the result to `transformed_cell` argument and any exception that happen during thetransform in `preprocessing_exc_tuple` in IPython 7.17 and above.\n",
      "  and should_run_async(code)\n"
     ]
    },
    {
     "data": {
      "text/plain": [
       "'hear'"
      ]
     },
     "execution_count": 36,
     "metadata": {},
     "output_type": "execute_result"
    }
   ],
   "source": [
    "id2word[109]"
   ]
  },
  {
   "cell_type": "code",
   "execution_count": 37,
   "metadata": {
    "colab": {},
    "colab_type": "code",
    "id": "_IIBnI2e3Lzw"
   },
   "outputs": [
    {
     "name": "stderr",
     "output_type": "stream",
     "text": [
      "/opt/anaconda3/envs/U4-S1-NLP/lib/python3.7/site-packages/ipykernel/ipkernel.py:287: DeprecationWarning: `should_run_async` will not call `transform_cell` automatically in the future. Please pass the result to `transformed_cell` argument and any exception that happen during thetransform in `preprocessing_exc_tuple` in IPython 7.17 and above.\n",
      "  and should_run_async(code)\n"
     ]
    },
    {
     "data": {
      "text/plain": [
       "'Of course The term must be rigidly defined in any bill I doubt she uses this term for that You are using a quote allegedly from her can you back it up I read the article as presenting first an argument about weapons of mass destruction as commonly understood and then switching to other topics The first point evidently was to show that not all weapons should be allowed and then the later analysis was given this understanding to consider another class'"
      ]
     },
     "execution_count": 37,
     "metadata": {},
     "output_type": "execute_result"
    }
   ],
   "source": [
    "df.iloc[5]['clean_text']"
   ]
  },
  {
   "cell_type": "code",
   "execution_count": 38,
   "metadata": {
    "colab": {},
    "colab_type": "code",
    "id": "bGFG9E2j3Lzz"
   },
   "outputs": [
    {
     "name": "stderr",
     "output_type": "stream",
     "text": [
      "/opt/anaconda3/envs/U4-S1-NLP/lib/python3.7/site-packages/ipykernel/ipkernel.py:287: DeprecationWarning: `should_run_async` will not call `transform_cell` automatically in the future. Please pass the result to `transformed_cell` argument and any exception that happen during thetransform in `preprocessing_exc_tuple` in IPython 7.17 and above.\n",
      "  and should_run_async(code)\n"
     ]
    },
    {
     "data": {
      "text/plain": [
       "[(105, 1),\n",
       " (162, 1),\n",
       " (179, 1),\n",
       " (205, 1),\n",
       " (209, 1),\n",
       " (210, 1),\n",
       " (211, 1),\n",
       " (212, 1),\n",
       " (213, 1),\n",
       " (214, 1),\n",
       " (215, 1),\n",
       " (216, 1),\n",
       " (217, 1),\n",
       " (218, 1),\n",
       " (219, 1),\n",
       " (220, 1),\n",
       " (221, 1),\n",
       " (222, 1),\n",
       " (223, 1),\n",
       " (224, 1),\n",
       " (225, 1),\n",
       " (226, 1),\n",
       " (227, 1),\n",
       " (228, 1),\n",
       " (229, 2),\n",
       " (230, 1),\n",
       " (231, 1),\n",
       " (232, 2)]"
      ]
     },
     "execution_count": 38,
     "metadata": {},
     "output_type": "execute_result"
    }
   ],
   "source": [
    "corpus[5]"
   ]
  },
  {
   "cell_type": "code",
   "execution_count": 39,
   "metadata": {
    "colab": {},
    "colab_type": "code",
    "id": "TB6wox963Lz2"
   },
   "outputs": [
    {
     "name": "stderr",
     "output_type": "stream",
     "text": [
      "/opt/anaconda3/envs/U4-S1-NLP/lib/python3.7/site-packages/ipykernel/ipkernel.py:287: DeprecationWarning: `should_run_async` will not call `transform_cell` automatically in the future. Please pass the result to `transformed_cell` argument and any exception that happen during thetransform in `preprocessing_exc_tuple` in IPython 7.17 and above.\n",
      "  and should_run_async(code)\n"
     ]
    },
    {
     "data": {
      "text/plain": [
       "'give'"
      ]
     },
     "execution_count": 39,
     "metadata": {},
     "output_type": "execute_result"
    }
   ],
   "source": [
    "id2word[105]"
   ]
  },
  {
   "cell_type": "code",
   "execution_count": 40,
   "metadata": {
    "colab": {},
    "colab_type": "code",
    "id": "kk3g75XX3Lz4"
   },
   "outputs": [
    {
     "name": "stderr",
     "output_type": "stream",
     "text": [
      "/opt/anaconda3/envs/U4-S1-NLP/lib/python3.7/site-packages/ipykernel/ipkernel.py:287: DeprecationWarning: `should_run_async` will not call `transform_cell` automatically in the future. Please pass the result to `transformed_cell` argument and any exception that happen during thetransform in `preprocessing_exc_tuple` in IPython 7.17 and above.\n",
      "  and should_run_async(code)\n"
     ]
    },
    {
     "data": {
      "text/plain": [
       "'weapon'"
      ]
     },
     "execution_count": 40,
     "metadata": {},
     "output_type": "execute_result"
    }
   ],
   "source": [
    "id2word[232]"
   ]
  },
  {
   "cell_type": "code",
   "execution_count": 41,
   "metadata": {
    "colab": {},
    "colab_type": "code",
    "id": "6K2jWxHJLOzK"
   },
   "outputs": [
    {
     "name": "stderr",
     "output_type": "stream",
     "text": [
      "/opt/anaconda3/envs/U4-S1-NLP/lib/python3.7/site-packages/ipykernel/ipkernel.py:287: DeprecationWarning: `should_run_async` will not call `transform_cell` automatically in the future. Please pass the result to `transformed_cell` argument and any exception that happen during thetransform in `preprocessing_exc_tuple` in IPython 7.17 and above.\n",
      "  and should_run_async(code)\n"
     ]
    },
    {
     "data": {
      "text/plain": [
       "[('give', 1),\n",
       " ('use', 1),\n",
       " ('article', 1),\n",
       " ('understanding', 1),\n",
       " ('allegedly', 1),\n",
       " ('allow', 1),\n",
       " ('analysis', 1),\n",
       " ('argument', 1),\n",
       " ('bill', 1),\n",
       " ('class', 1),\n",
       " ('commonly', 1),\n",
       " ('consider', 1),\n",
       " ('course', 1),\n",
       " ('define', 1),\n",
       " ('destruction', 1),\n",
       " ('doubt', 1),\n",
       " ('evidently', 1),\n",
       " ('later', 1),\n",
       " ('mass', 1),\n",
       " ('point', 1),\n",
       " ('present', 1),\n",
       " ('quote', 1),\n",
       " ('read', 1),\n",
       " ('switch', 1),\n",
       " ('term', 2),\n",
       " ('topic', 1),\n",
       " ('understand', 1),\n",
       " ('weapon', 2)]"
      ]
     },
     "execution_count": 41,
     "metadata": {},
     "output_type": "execute_result"
    }
   ],
   "source": [
    "# Human readable format of corpus (term-frequency)\n",
    "[(id2word[word_id], word_count) for word_id, word_count in corpus[5]]"
   ]
  },
  {
   "cell_type": "markdown",
   "metadata": {
    "colab_type": "text",
    "id": "le-XzI923Lz8"
   },
   "source": [
    "# Part 2: Estimate a LDA Model with Gensim"
   ]
  },
  {
   "cell_type": "markdown",
   "metadata": {
    "colab_type": "text",
    "id": "AlNG4bSI3Lz8"
   },
   "source": [
    " ### Train an LDA model"
   ]
  },
  {
   "cell_type": "code",
   "execution_count": 42,
   "metadata": {
    "colab": {},
    "colab_type": "code",
    "id": "Fasvjf0VLQ2a"
   },
   "outputs": [
    {
     "name": "stderr",
     "output_type": "stream",
     "text": [
      "/opt/anaconda3/envs/U4-S1-NLP/lib/python3.7/site-packages/ipykernel/ipkernel.py:287: DeprecationWarning: `should_run_async` will not call `transform_cell` automatically in the future. Please pass the result to `transformed_cell` argument and any exception that happen during thetransform in `preprocessing_exc_tuple` in IPython 7.17 and above.\n",
      "  and should_run_async(code)\n"
     ]
    },
    {
     "name": "stdout",
     "output_type": "stream",
     "text": [
      "CPU times: user 5min 3s, sys: 49.4 s, total: 5min 52s\n",
      "Wall time: 1min 10s\n"
     ]
    }
   ],
   "source": [
    "%%time\n",
    "lda_model = gensim.models.ldamodel.LdaModel(corpus=corpus,\n",
    "                                            id2word=id2word,\n",
    "                                            num_topics=20, \n",
    "                                            chunksize=100,\n",
    "                                            passes=10,\n",
    "                                            per_word_topics=True)\n",
    "\n",
    "# https://radimrehurek.com/gensim/models/ldamodel.html"
   ]
  },
  {
   "cell_type": "code",
   "execution_count": 44,
   "metadata": {
    "colab": {},
    "colab_type": "code",
    "id": "49CabmIj3Lz_"
   },
   "outputs": [
    {
     "name": "stderr",
     "output_type": "stream",
     "text": [
      "/opt/anaconda3/envs/U4-S1-NLP/lib/python3.7/site-packages/ipykernel/ipkernel.py:287: DeprecationWarning: `should_run_async` will not call `transform_cell` automatically in the future. Please pass the result to `transformed_cell` argument and any exception that happen during thetransform in `preprocessing_exc_tuple` in IPython 7.17 and above.\n",
      "  and should_run_async(code)\n"
     ]
    }
   ],
   "source": [
    "lda_model.save('lda_model.model')"
   ]
  },
  {
   "cell_type": "code",
   "execution_count": null,
   "metadata": {},
   "outputs": [],
   "source": [
    "%%time\n",
    "lda_multicore = gensim.models.ldamulticore.LdaMulticore(corpus=corpus,\n",
    "                                                        id2word=id2word,\n",
    "                                                        num_topics=20, \n",
    "                                                        chunksize=100,\n",
    "                                                        passes=10,\n",
    "                                                        per_word_topics=True,\n",
    "                                                        workers=12)\n",
    "\n",
    "# https://radimrehurek.com/gensim/models/ldamulticore.html"
   ]
  },
  {
   "cell_type": "raw",
   "metadata": {
    "colab": {},
    "colab_type": "code",
    "id": "XDgUshRE3L0C"
   },
   "source": [
    "%%time\n",
    "lda_multicore = gensim.models.ldamulticore.LdaMulticore(corpus=corpus,\n",
    "                                                        id2word=id2word,\n",
    "                                                        num_topics=20, \n",
    "                                                        chunksize=100,\n",
    "                                                        passes=10,\n",
    "                                                        per_word_topics=True,\n",
    "                                                        workers=12)\n",
    "\n",
    "# https://radimrehurek.com/gensim/models/ldamulticore.html"
   ]
  },
  {
   "cell_type": "raw",
   "metadata": {
    "colab": {},
    "colab_type": "code",
    "id": "Rgb9AaPq3L0E"
   },
   "source": [
    "lda_multicore.save('lda_multicore.model')"
   ]
  },
  {
   "cell_type": "code",
   "execution_count": 45,
   "metadata": {
    "colab": {},
    "colab_type": "code",
    "id": "VLxvJPoK3L0G"
   },
   "outputs": [
    {
     "name": "stderr",
     "output_type": "stream",
     "text": [
      "/opt/anaconda3/envs/U4-S1-NLP/lib/python3.7/site-packages/ipykernel/ipkernel.py:287: DeprecationWarning: `should_run_async` will not call `transform_cell` automatically in the future. Please pass the result to `transformed_cell` argument and any exception that happen during thetransform in `preprocessing_exc_tuple` in IPython 7.17 and above.\n",
      "  and should_run_async(code)\n"
     ]
    }
   ],
   "source": [
    "from gensim import models\n",
    "lda =  models.LdaModel.load('lda_model.model')"
   ]
  },
  {
   "cell_type": "markdown",
   "metadata": {
    "colab_type": "text",
    "id": "uDH3tzx13L0I"
   },
   "source": [
    "### View the topics in LDA model"
   ]
  },
  {
   "cell_type": "code",
   "execution_count": 46,
   "metadata": {
    "colab": {},
    "colab_type": "code",
    "id": "JawR8yscLVNS"
   },
   "outputs": [
    {
     "name": "stdout",
     "output_type": "stream",
     "text": [
      "[(0,\n",
      "  '0.135*\"W\" + 0.124*\"S\" + 0.085*\"o\" + 0.084*\"c\" + 0.072*\"M\" + 0.068*\"K\" + '\n",
      "  '0.057*\"J\" + 0.048*\"h\" + 0.044*\"s\" + 0.044*\"t\"'),\n",
      " (1,\n",
      "  '0.042*\"law\" + 0.034*\"government\" + 0.032*\"state\" + 0.028*\"public\" + '\n",
      "  '0.023*\"right\" + 0.016*\"provide\" + 0.016*\"system\" + 0.016*\"people\" + '\n",
      "  '0.016*\"issue\" + 0.015*\"country\"'),\n",
      " (2,\n",
      "  '0.049*\"offer\" + 0.040*\"model\" + 0.030*\"sell\" + 0.029*\"black\" + '\n",
      "  '0.028*\"graphic\" + 0.028*\"white\" + 0.027*\"trade\" + 0.021*\"picture\" + '\n",
      "  '0.021*\"price\" + 0.021*\"II\"'),\n",
      " (3,\n",
      "  '0.047*\"New\" + 0.034*\"April\" + 0.032*\"publish\" + 0.026*\"LA\" + '\n",
      "  '0.026*\"University\" + 0.023*\"book\" + 0.021*\"USA\" + 0.020*\"reduce\" + '\n",
      "  '0.019*\"Washington\" + 0.018*\"St\"'),\n",
      " (4,\n",
      "  '0.090*\"death\" + 0.064*\"Mr\" + 0.063*\"security\" + 0.061*\"telnet\" + '\n",
      "  '0.058*\"bomb\" + 0.045*\"session\" + 0.043*\"jewish\" + 0.038*\"Law\" + '\n",
      "  '0.038*\"route\" + 0.037*\"State\"'),\n",
      " (5,\n",
      "  '0.024*\"car\" + 0.021*\"pay\" + 0.019*\"year\" + 0.017*\"buy\" + 0.016*\"new\" + '\n",
      "  '0.015*\"month\" + 0.015*\"old\" + 0.014*\"money\" + 0.014*\"cost\" + 0.014*\"pin\"'),\n",
      " (6,\n",
      "  '0.281*\"Q\" + 0.222*\"q\" + 0.024*\"blind\" + 0.022*\"cable\" + 0.022*\"directory\" + '\n",
      "  '0.021*\"MA\" + 0.019*\"cycle\" + 0.018*\"insert\" + 0.013*\"Microsoft\" + '\n",
      "  '0.012*\"MS\"'),\n",
      " (7,\n",
      "  '0.018*\"s\" + 0.014*\"time\" + 0.011*\"case\" + 0.010*\"problem\" + 0.009*\"talk\" + '\n",
      "  '0.009*\"physical\" + 0.009*\"cause\" + 0.009*\"use\" + 0.008*\"gun\" + '\n",
      "  '0.008*\"question\"'),\n",
      " (8,\n",
      "  '0.089*\"p\" + 0.084*\"m\" + 0.074*\"g\" + 0.070*\"v\" + 0.067*\"d\" + 0.063*\"r\" + '\n",
      "  '0.048*\"e\" + 0.046*\"t\" + 0.044*\"B\" + 0.039*\"z\"'),\n",
      " (9,\n",
      "  '0.016*\"s\" + 0.016*\"group\" + 0.014*\"space\" + 0.010*\"report\" + 0.008*\"easy\" + '\n",
      "  '0.008*\"year\" + 0.007*\"solution\" + 0.007*\"scan\" + 0.006*\"character\" + '\n",
      "  '0.006*\"press\"'),\n",
      " (10,\n",
      "  '0.133*\"God\" + 0.048*\"Jesus\" + 0.040*\"faith\" + 0.035*\"patient\" + 0.033*\"man\" '\n",
      "  '+ 0.030*\"Bible\" + 0.026*\"believe\" + 0.025*\"exist\" + 0.024*\"child\" + '\n",
      "  '0.022*\"life\"'),\n",
      " (11,\n",
      "  '0.019*\"use\" + 0.016*\"key\" + 0.014*\"edu\" + 0.014*\"file\" + 0.013*\"thank\" + '\n",
      "  '0.012*\"program\" + 0.011*\"number\" + 0.011*\"com\" + 0.011*\"work\" + '\n",
      "  '0.010*\"system\"'),\n",
      " (12,\n",
      "  '0.063*\"possibly\" + 0.054*\"recommend\" + 0.047*\"R\" + 0.041*\"shouldn\" + '\n",
      "  '0.038*\"k\" + 0.034*\"O\" + 0.033*\"bank\" + 0.030*\"PS\" + 0.026*\"helmet\" + '\n",
      "  '0.025*\"expand\"'),\n",
      " (13,\n",
      "  '0.088*\"drive\" + 0.052*\"card\" + 0.035*\"driver\" + 0.035*\"cpu\" + 0.032*\"Mac\" + '\n",
      "  '0.023*\"mb\" + 0.023*\"board\" + 0.021*\"memory\" + 0.020*\"pc\" + 0.020*\"mode\"'),\n",
      " (14,\n",
      "  '0.065*\"evidence\" + 0.034*\"sense\" + 0.031*\"reason\" + 0.031*\"claim\" + '\n",
      "  '0.022*\"belief\" + 0.021*\"point\" + 0.021*\"argument\" + 0.020*\"Christians\" + '\n",
      "  '0.020*\"religion\" + 0.019*\"true\"'),\n",
      " (15,\n",
      "  '0.047*\"win\" + 0.041*\"game\" + 0.040*\"s\" + 0.038*\"team\" + 0.037*\"year\" + '\n",
      "  '0.031*\"play\" + 0.023*\"MR\" + 0.020*\"st\" + 0.016*\"run\" + 0.016*\"season\"'),\n",
      " (16,\n",
      "  '0.852*\"ax\" + 0.039*\"F\" + 0.019*\"v\" + 0.009*\"t\" + 0.007*\"p\" + 0.005*\"W\" + '\n",
      "  '0.004*\"d\" + 0.003*\"g\" + 0.003*\"T\" + 0.003*\"e\"'),\n",
      " (17,\n",
      "  '0.516*\"x\" + 0.149*\"X\" + 0.030*\"c\" + 0.026*\"r\" + 0.016*\"HP\" + 0.013*\"output\" '\n",
      "  '+ 0.013*\"SS\" + 0.013*\"motif\" + 0.012*\"t\" + 0.010*\"pointer\"'),\n",
      " (18,\n",
      "  '0.093*\"t\" + 0.055*\"s\" + 0.034*\"think\" + 0.034*\"know\" + 0.033*\"don\" + '\n",
      "  '0.026*\"like\" + 0.020*\"thing\" + 0.020*\"people\" + 0.020*\"good\" + 0.017*\"go\"'),\n",
      " (19,\n",
      "  '0.058*\"Israel\" + 0.028*\"people\" + 0.027*\"soldier\" + 0.027*\"village\" + '\n",
      "  '0.025*\"kill\" + 0.021*\"war\" + 0.017*\"attack\" + 0.017*\"Jews\" + 0.015*\"murder\" '\n",
      "  '+ 0.015*\"military\"')]\n"
     ]
    },
    {
     "name": "stderr",
     "output_type": "stream",
     "text": [
      "/opt/anaconda3/envs/U4-S1-NLP/lib/python3.7/site-packages/ipykernel/ipkernel.py:287: DeprecationWarning: `should_run_async` will not call `transform_cell` automatically in the future. Please pass the result to `transformed_cell` argument and any exception that happen during thetransform in `preprocessing_exc_tuple` in IPython 7.17 and above.\n",
      "  and should_run_async(code)\n"
     ]
    }
   ],
   "source": [
    "# View the top 10 words per topic\n",
    "pprint(lda.print_topics())"
   ]
  },
  {
   "cell_type": "code",
   "execution_count": 47,
   "metadata": {},
   "outputs": [
    {
     "name": "stderr",
     "output_type": "stream",
     "text": [
      "/opt/anaconda3/envs/U4-S1-NLP/lib/python3.7/site-packages/ipykernel/ipkernel.py:287: DeprecationWarning: `should_run_async` will not call `transform_cell` automatically in the future. Please pass the result to `transformed_cell` argument and any exception that happen during thetransform in `preprocessing_exc_tuple` in IPython 7.17 and above.\n",
      "  and should_run_async(code)\n"
     ]
    },
    {
     "data": {
      "text/plain": [
       "[(2, 0.030413385),\n",
       " (3, 0.037253313),\n",
       " (5, 0.26087046),\n",
       " (7, 0.04808746),\n",
       " (11, 0.46622047),\n",
       " (18, 0.13714945)]"
      ]
     },
     "execution_count": 47,
     "metadata": {},
     "output_type": "execute_result"
    }
   ],
   "source": [
    "# Extract Document-Topic distributions for each document in corpus\n",
    "doc_lda = lda[corpus]\n",
    "doc_lda[0][0]"
   ]
  },
  {
   "cell_type": "code",
   "execution_count": 49,
   "metadata": {},
   "outputs": [
    {
     "name": "stderr",
     "output_type": "stream",
     "text": [
      "/opt/anaconda3/envs/U4-S1-NLP/lib/python3.7/site-packages/ipykernel/ipkernel.py:287: DeprecationWarning: `should_run_async` will not call `transform_cell` automatically in the future. Please pass the result to `transformed_cell` argument and any exception that happen during thetransform in `preprocessing_exc_tuple` in IPython 7.17 and above.\n",
      "  and should_run_async(code)\n"
     ]
    },
    {
     "ename": "NameError",
     "evalue": "name 'ida_multicore' is not defined",
     "output_type": "error",
     "traceback": [
      "\u001b[0;31m---------------------------------------------------------------------------\u001b[0m",
      "\u001b[0;31mNameError\u001b[0m                                 Traceback (most recent call last)",
      "\u001b[0;32m<ipython-input-49-3439a8ca2f07>\u001b[0m in \u001b[0;36m<module>\u001b[0;34m\u001b[0m\n\u001b[0;32m----> 1\u001b[0;31m \u001b[0mida_multicore\u001b[0m\u001b[0;34m[\u001b[0m\u001b[0mcorpus\u001b[0m\u001b[0;34m[\u001b[0m\u001b[0;36m5\u001b[0m\u001b[0;34m]\u001b[0m\u001b[0;34m]\u001b[0m\u001b[0;34m\u001b[0m\u001b[0m\n\u001b[0m",
      "\u001b[0;31mNameError\u001b[0m: name 'ida_multicore' is not defined"
     ]
    }
   ],
   "source": [
    "ida_multicore[corpus[5]]"
   ]
  },
  {
   "cell_type": "code",
   "execution_count": 48,
   "metadata": {},
   "outputs": [
    {
     "name": "stderr",
     "output_type": "stream",
     "text": [
      "/opt/anaconda3/envs/U4-S1-NLP/lib/python3.7/site-packages/ipykernel/ipkernel.py:287: DeprecationWarning: `should_run_async` will not call `transform_cell` automatically in the future. Please pass the result to `transformed_cell` argument and any exception that happen during thetransform in `preprocessing_exc_tuple` in IPython 7.17 and above.\n",
      "  and should_run_async(code)\n"
     ]
    },
    {
     "data": {
      "text/plain": [
       "[(2, 0.034235295), (7, 0.53433686), (9, 0.20102176), (14, 0.20373353)]"
      ]
     },
     "execution_count": 48,
     "metadata": {},
     "output_type": "execute_result"
    }
   ],
   "source": [
    "doc_lda[5][0]"
   ]
  },
  {
   "cell_type": "raw",
   "metadata": {},
   "source": [
    "distro[0]"
   ]
  },
  {
   "cell_type": "code",
   "execution_count": 53,
   "metadata": {},
   "outputs": [
    {
     "ename": "NameError",
     "evalue": "name 'distro' is not defined",
     "output_type": "error",
     "traceback": [
      "\u001b[0;31m---------------------------------------------------------------------------\u001b[0m",
      "\u001b[0;31mNameError\u001b[0m                                 Traceback (most recent call last)",
      "\u001b[0;32m<ipython-input-53-90cc3de869b5>\u001b[0m in \u001b[0;36m<module>\u001b[0;34m\u001b[0m\n\u001b[0;32m----> 1\u001b[0;31m \u001b[0mdistro\u001b[0m\u001b[0;34m[\u001b[0m\u001b[0;36m0\u001b[0m\u001b[0;34m]\u001b[0m\u001b[0;34m\u001b[0m\u001b[0m\n\u001b[0m",
      "\u001b[0;31mNameError\u001b[0m: name 'distro' is not defined"
     ]
    }
   ],
   "source": [
    "distro[0]"
   ]
  },
  {
   "cell_type": "markdown",
   "metadata": {
    "colab_type": "text",
    "id": "gKEP0bIC3L0K"
   },
   "source": [
    "### What is topic Perplexity?\n",
    "Perplexity is a statistical measure of how well a probability model predicts a sample. As applied to LDA, for a given value of , you estimate the LDA model. Then given the theoretical word distributions represented by the topics, compare that to the actual topic mixtures, or distribution of words in your documents.\n",
    "\n",
    "### What is topic coherence?\n",
    "Topic Coherence measures score a single topic by measuring the degree of semantic similarity between high scoring words in the topic. These measurements help distinguish between topics that are semantically interpretable topics and topics that are artifacts of statistical inference.\n",
    "A set of statements or facts is said to be coherent, if they support each other. Thus, a coherent fact set can be interpreted in a context that covers all or most of the facts. An example of a coherent fact set is “the game is a team sport”, “the game is played with a ball”, “the game demands great physical efforts”"
   ]
  },
  {
   "cell_type": "code",
   "execution_count": null,
   "metadata": {},
   "outputs": [],
   "source": []
  },
  {
   "cell_type": "code",
   "execution_count": 52,
   "metadata": {
    "colab": {},
    "colab_type": "code",
    "id": "xCjhr8k4LXSy"
   },
   "outputs": [
    {
     "name": "stdout",
     "output_type": "stream",
     "text": [
      "\n",
      "Perplexity:  -14.240671967075873\n",
      "\n",
      "Coherence Score:  0.607541082597753\n"
     ]
    }
   ],
   "source": [
    "# Compute Perplexity\n",
    "print('\\nPerplexity: ', lda.log_perplexity(corpus))  # a measure of how good the model is. lower the better.\n",
    "\n",
    "# Compute Coherence Score\n",
    "coherence_model_lda = CoherenceModel(model=lda, \n",
    "                                     texts=df['lemmas'], \n",
    "                                     dictionary=id2word, \n",
    "                                     coherence='c_v')\n",
    "coherence_lda = coherence_model_lda.get_coherence()\n",
    "print('\\nCoherence Score: ', coherence_lda)"
   ]
  },
  {
   "cell_type": "markdown",
   "metadata": {
    "colab_type": "text",
    "id": "7UvfgYt93L0X"
   },
   "source": [
    "# Part 3: Interpret LDA results & Select the appropriate number of topics"
   ]
  },
  {
   "cell_type": "code",
   "execution_count": 61,
   "metadata": {
    "colab": {},
    "colab_type": "code",
    "id": "CYXi480VLaHK"
   },
   "outputs": [
    {
     "data": {
      "text/html": [
       "\n",
       "<link rel=\"stylesheet\" type=\"text/css\" href=\"https://cdn.rawgit.com/bmabey/pyLDAvis/files/ldavis.v1.0.0.css\">\n",
       "\n",
       "\n",
       "<div id=\"ldavis_el2078817490183166889571476586\"></div>\n",
       "<script type=\"text/javascript\">\n",
       "\n",
       "var ldavis_el2078817490183166889571476586_data = {\"mdsDat\": {\"x\": [0.23055653126970307, 0.2863398351613303, -0.13304023392014655, 0.17544092471934927, -0.17585010984885788, 0.16545637477531291, 0.13956519434994027, 0.13138730543399757, 0.08846542407533246, 0.11143720033685986, 0.06455491134439918, -0.1580231806018322, -0.01457232913950713, -0.09560966557698383, -0.0864178295757344, -0.023317301282071524, -0.2059565582717915, -0.13550674672603233, -0.1782166855286965, -0.18669306099457056], \"y\": [0.19280063668523523, 0.06686929226582927, 0.33291958327014387, 0.012727644129206302, 0.18071030224488338, 0.02266649996726336, -0.05294893061806776, -0.06462553620667913, -0.04123882909655868, -0.09549072395463185, -0.0688389176488503, 0.16518418182489417, -0.15535215941640687, -0.10319821262647184, -0.07916774540804707, -0.02465420235614016, 0.050958192086313164, -0.07833253954957431, -0.13997758702965962, -0.12101094856268102], \"topics\": [1, 2, 3, 4, 5, 6, 7, 8, 9, 10, 11, 12, 13, 14, 15, 16, 17, 18, 19, 20], \"cluster\": [1, 1, 1, 1, 1, 1, 1, 1, 1, 1, 1, 1, 1, 1, 1, 1, 1, 1, 1, 1], \"Freq\": [13.190311129149393, 11.547781732219324, 10.668516743866737, 10.54553163841105, 7.7690485075901705, 7.198074886831378, 5.040223113075621, 4.752483956043336, 4.239647942248634, 4.0436505001772, 3.6345514289347793, 3.1539925664055968, 2.7949414426253085, 2.39158393760765, 2.0739804641181667, 1.8579087578144482, 1.8277741850540818, 1.6015465755831448, 0.9102236787763304, 0.758226813467651]}, \"tinfo\": {\"Term\": [\"ax\", \"x\", \"g\", \"t\", \"Q\", \"W\", \"e\", \"r\", \"M\", \"p\", \"m\", \"S\", \"v\", \"n\", \"c\", \"X\", \"s\", \"o\", \"F\", \"q\", \"drive\", \"K\", \"h\", \"year\", \"don\", \"d\", \"good\", \"J\", \"f\", \"evidence\", \"ve\", \"didn\", \"maybe\", \"pretty\", \"guess\", \"wouldn\", \"oh\", \"bike\", \"ftp\", \"sorry\", \"aren\", \"Don\", \"obviously\", \"ride\", \"wasn\", \"printer\", \"somebody\", \"mirror\", \"couldn\", \"defense\", \"folk\", \"stick\", \"Office\", \"bet\", \"hate\", \"club\", \"screw\", \"yesterday\", \"Russia\", \"gas\", \"don\", \"will\", \"doesn\", \"isn\", \"think\", \"get\", \"t\", \"go\", \"like\", \"want\", \"know\", \"let\", \"sure\", \"bad\", \"little\", \"s\", \"look\", \"probably\", \"thing\", \"tell\", \"good\", \"try\", \"m\", \"time\", \"hear\", \"come\", \"work\", \"way\", \"right\", \"people\", \"d\", \"problem\", \"say\", \"God\", \"Jesus\", \"faith\", \"Bible\", \"money\", \"Christians\", \"religion\", \"conclusion\", \"pin\", \"vs\", \"replace\", \"Christ\", \"family\", \"revelation\", \"hell\", \"logic\", \"christian\", \"motherboard\", \"Christianity\", \"weight\", \"ignore\", \"advice\", \"Christian\", \"willing\", \"warranty\", \"moral\", \"interpretation\", \"belt\", \"gift\", \"necessarily\", \"sense\", \"argument\", \"true\", \"draw\", \"life\", \"exist\", \"believe\", \"longer\", \"word\", \"reason\", \"point\", \"question\", \"opinion\", \"people\", \"claim\", \"answer\", \"thing\", \"fact\", \"man\", \"cause\", \"s\", \"come\", \"know\", \"mean\", \"think\", \"good\", \"way\", \"find\", \"time\", \"like\", \"say\", \"case\", \"W\", \"v\", \"K\", \"h\", \"y\", \"L\", \"SC\", \"H\", \"MD\", \"LA\", \"notice\", \"internal\", \"Bill\", \"zone\", \"Bay\", \"MO\", \"SR\", \"J\", \"ns\", \"GN\", \"SF\", \"COM\", \"Area\", \"o\", \"Duo\", \"portable\", \"LX\", \"BK\", \"Technical\", \"M\", \"B\", \"z\", \"S\", \"b\", \"c\", \"p\", \"T\", \"w\", \"V\", \"m\", \"d\", \"k\", \"U\", \"D\", \"C\", \"r\", \"t\", \"F\", \"e\", \"s\", \"key\", \"file\", \"entry\", \"window\", \"copy\", \"disk\", \"image\", \"explain\", \"MR\", \"advance\", \"info\", \"application\", \"email\", \"mode\", \"code\", \"video\", \"screen\", \"display\", \"hi\", \"reality\", \"graphic\", \"gov\", \"format\", \"telnet\", \"mouse\", \"review\", \"Sun\", \"manual\", \"load\", \"NSA\", \"memory\", \"com\", \"program\", \"user\", \"thank\", \"bit\", \"edu\", \"list\", \"mail\", \"send\", \"information\", \"available\", \"use\", \"system\", \"set\", \"run\", \"work\", \"help\", \"source\", \"need\", \"e\", \"ax\", \"gif\", \"Phone\", \"Conference\", \"extension\", \"au\", \"Adobe\", \"arbitrary\", \"motto\", \"Pennsylvania\", \"PO\", \"proceeding\", \"Type\", \"Address\", \"enclose\", \"convex\", \"Sydney\", \"Remote\", \"ee\", \"Macquarie\", \"Networks\", \"F\", \"q\", \"f\", \"max\", \"N\", \"EI\", \"BHJ\", \"AX\", \"TM\", \"p\", \"d\", \"T\", \"B\", \"z\", \"t\", \"M\", \"e\", \"m\", \"week\", \"age\", \"season\", \"young\", \"hour\", \"night\", \"York\", \"insist\", \"kid\", \"hole\", \"factor\", \"room\", \"foot\", \"left\", \"steal\", \"table\", \"proof\", \"doctor\", \"mile\", \"Toronto\", \"son\", \"father\", \"pre\", \"wear\", \"male\", \"regular\", \"imply\", \"Honda\", \"West\", \"Mike\", \"parent\", \"face\", \"day\", \"body\", \"white\", \"guy\", \"ago\", \"edge\", \"child\", \"home\", \"ground\", \"miss\", \"year\", \"newsgroup\", \"later\", \"save\", \"month\", \"leave\", \"old\", \"woman\", \"head\", \"take\", \"time\", \"start\", \"s\", \"go\", \"lot\", \"say\", \"come\", \"see\", \"end\", \"place\", \"new\", \"find\", \"death\", \"belief\", \"truth\", \"section\", \"fire\", \"authority\", \"Paul\", \"respect\", \"lie\", \"school\", \"withdraw\", \"criminal\", \"effort\", \"Lord\", \"Iran\", \"party\", \"earth\", \"trap\", \"official\", \"debate\", \"generate\", \"justify\", \"aim\", \"poor\", \"meeting\", \"energy\", \"impact\", \"abuse\", \"Volume\", \"Church\", \"evidence\", \"letter\", \"accept\", \"grant\", \"press\", \"break\", \"continue\", \"rule\", \"claim\", \"receive\", \"provide\", \"situation\", \"force\", \"reason\", \"act\", \"s\", \"believe\", \"issue\", \"say\", \"support\", \"source\", \"law\", \"gun\", \"patient\", \"weapon\", \"encryption\", \"private\", \"drug\", \"terrorist\", \"firearm\", \"avoid\", \"enforcement\", \"clipper\", \"treatment\", \"legal\", \"health\", \"disease\", \"tax\", \"protection\", \"court\", \"scientific\", \"freedom\", \"effective\", \"trial\", \"objective\", \"department\", \"target\", \"privacy\", \"scheme\", \"tap\", \"rely\", \"safety\", \"protect\", \"government\", \"public\", \"dangerous\", \"crime\", \"citizen\", \"science\", \"license\", \"anti\", \"state\", \"control\", \"right\", \"study\", \"person\", \"use\", \"case\", \"care\", \"U\", \"issue\", \"people\", \"S\", \"system\", \"chip\", \"address\", \"price\", \"sell\", \"Windows\", \"company\", \"character\", \"phone\", \"technology\", \"product\", \"algorithm\", \"RSA\", \"signal\", \"purchase\", \"font\", \"blind\", \"market\", \"cable\", \"Robert\", \"failure\", \"Clipper\", \"benefit\", \"affect\", \"ring\", \"prefer\", \"bank\", \"merely\", \"double\", \"hello\", \"capacity\", \"quality\", \"offer\", \"past\", \"voice\", \"feature\", \"board\", \"new\", \"buy\", \"sound\", \"computer\", \"box\", \"condition\", \"security\", \"pay\", \"need\", \"interested\", \"good\", \"include\", \"use\", \"old\", \"like\", \"etc\", \"article\", \"serial\", \"error\", \"function\", \"process\", \"define\", \"universe\", \"alt\", \"Apr\", \"following\", \"tool\", \"meaning\", \"analysis\", \"topic\", \"pattern\", \"Blue\", \"stream\", \"primary\", \"ban\", \"initial\", \"auto\", \"ammunition\", \"fee\", \"al\", \"semi\", \"penalty\", \"org\", \"accurate\", \"recover\", \"rec\", \"posting\", \"value\", \"author\", \"block\", \"produce\", \"read\", \"text\", \"group\", \"number\", \"magazine\", \"certain\", \"post\", \"subject\", \"date\", \"fail\", \"field\", \"example\", \"rule\", \"write\", \"follow\", \"give\", \"correct\", \"case\", \"include\", \"discussion\", \"soldier\", \"village\", \"scan\", \"war\", \"Jews\", \"bomb\", \"murder\", \"United\", \"civilian\", \"Armenians\", \"States\", \"turkish\", \"population\", \"greek\", \"land\", \"count\", \"armenian\", \"route\", \"nation\", \"camp\", \"minority\", \"Turks\", \"Turkey\", \"prepare\", \"insert\", \"link\", \"girl\", \"gang\", \"occupy\", \"attack\", \"kill\", \"organization\", \"million\", \"country\", \"military\", \"die\", \"people\", \"Mr\", \"world\", \"live\", \"force\", \"city\", \"X\", \"easy\", \"server\", \"speak\", \"wait\", \"DC\", \"FAQ\", \"circuit\", \"SS\", \"motif\", \"aware\", \"fairly\", \"co\", \"captain\", \"voltage\", \"battery\", \"Leafs\", \"amp\", \"hook\", \"Thomas\", \"IP\", \"rm\", \"useless\", \"heavy\", \"violate\", \"lawyer\", \"workstation\", \"bounce\", \"Oilers\", \"mit\", \"x\", \"f\", \"q\", \"ah\", \"output\", \"version\", \"HP\", \"c\", \"r\", \"s\", \"w\", \"build\", \"source\", \"rate\", \"site\", \"port\", \"bus\", \"transfer\", \"performance\", \"DES\", \"data\", \"vehicle\", \"project\", \"external\", \"impression\", \"insurance\", \"shuttle\", \"bunch\", \"fuel\", \"panel\", \"rational\", \"Team\", \"Koresh\", \"Saturn\", \"coverage\", \"predict\", \"noise\", \"edition\", \"icon\", \"component\", \"flight\", \"assembly\", \"solar\", \"radio\", \"speed\", \"design\", \"handle\", \"station\", \"low\", \"high\", \"option\", \"datum\", \"range\", \"report\", \"watch\", \"increase\", \"build\", \"power\", \"level\", \"model\", \"system\", \"develop\", \"large\", \"available\", \"program\", \"University\", \"trade\", \"San\", \"period\", \"cd\", \"Chicago\", \"St\", \"plane\", \"Law\", \"rider\", \"Germany\", \"Steve\", \"Medical\", \"Society\", \"yeah\", \"pp\", \"rd\", \"Jose\", \"suck\", \"Institute\", \"June\", \"Los\", \"opportunity\", \"Einstein\", \"ice\", \"president\", \"December\", \"planet\", \"Great\", \"July\", \"st\", \"publish\", \"California\", \"New\", \"Dr\", \"nd\", \"II\", \"book\", \"Boston\", \"Press\", \"object\", \"sale\", \"cover\", \"edu\", \"D\", \"page\", \"th\", \"card\", \"driver\", \"software\", \"Mac\", \"hardware\", \"pc\", \"instal\", \"package\", \"SCSI\", \"controller\", \"IDE\", \"cool\", \"heat\", \"IBM\", \"cycle\", \"fax\", \"air\", \"ensure\", \"PS\", \"mailing\", \"mac\", \"Code\", \"thermal\", \"touch\", \"pixel\", \"sheet\", \"oil\", \"tech\", \"exe\", \"backup\", \"drive\", \"mb\", \"slow\", \"fast\", \"version\", \"interface\", \"machine\", \"hot\", \"problem\", \"support\", \"cost\", \"system\", \"use\", \"run\", \"s\", \"game\", \"team\", \"play\", \"cpu\", \"fan\", \"score\", \"thought\", \"buffer\", \"division\", \"Dave\", \"homosexual\", \"pitch\", \"baseball\", \"Milwaukee\", \"tie\", \"Tim\", \"Montreal\", \"stat\", \"Smith\", \"lift\", \"staff\", \"offense\", \"Doug\", \"hitter\", \"inning\", \"ratio\", \"Roger\", \"Hill\", \"suspension\", \"Monday\", \"goal\", \"sport\", \"win\", \"series\", \"pick\", \"year\", \"hit\", \"run\", \"good\", \"average\", \"second\", \"s\", \"point\", \"g\", \"n\", \"MB\", \"shareware\", \"saying\", \"G\", \"ruler\", \"e\", \"r\", \"mb\", \"p\", \"l\", \"u\", \"Y\", \"N\", \"Z\", \"CX\", \"j\", \"cx\", \"echo\", \"CK\", \"MV\", \"HZ\", \"LK\", \"MC\", \"MK\", \"QS\", \"QY\", \"MT\", \"CJ\", \"GC\", \"max\", \"EI\", \"space\", \"launch\", \"Space\", \"orbit\", \"NASA\", \"Earth\", \"Washington\", \"satellite\", \"mission\", \"environment\", \"R\", \"moon\", \"Inc\", \"Division\", \"rocket\", \"observation\", \"Mars\", \"Data\", \"percent\", \"dog\", \"Texas\", \"DoD\", \"ozone\", \"expand\", \"Francisco\", \"Information\", \"Systems\", \"lunar\", \"distant\", \"Road\", \"Center\", \"April\", \"center\", \"surface\", \"schedule\", \"National\", \"Technology\", \"year\", \"s\", \"Israel\", \"physical\", \"car\", \"lose\", \"wire\", \"engine\", \"direct\", \"owner\", \"door\", \"wife\", \"hey\", \"daughter\", \"expansion\", \"probe\", \"super\", \"assign\", \"radar\", \"ray\", \"Adam\", \"shop\", \"sea\", \"survive\", \"deck\", \"sad\", \"Toyota\", \"Sony\", \"competition\", \"sister\", \"Genesis\", \"production\", \"unit\", \"model\", \"blood\", \"light\", \"drive\", \"month\", \"Q\", \"ST\", \"BC\", \"Motorola\", \"cartridge\", \"electrical\", \"GT\", \"mil\", \"Macintosh\", \"Jason\", \"netter\", \"bolt\", \"drain\", \"DE\", \"RT\", \"loop\", \"mot\", \"navy\", \"VR\", \"Cellular\", \"Library\", \"dt\", \"valve\", \"Commander\", \"rv\", \"IV\", \"MS\", \"VW\", \"k\", \"l\"], \"Freq\": [74395.0, 12593.0, 7785.0, 22790.0, 4172.0, 9098.0, 6417.0, 6564.0, 8206.0, 8646.0, 10724.0, 8457.0, 6860.0, 3802.0, 7121.0, 3512.0, 19902.0, 5706.0, 6132.0, 4131.0, 2936.0, 4498.0, 4358.0, 4572.0, 5277.0, 8203.0, 4997.0, 4146.0, 3087.0, 2851.0, 2616.8965781401203, 1216.5321567280907, 920.1420663254471, 729.1494638986275, 641.6171535760484, 614.4141767579844, 609.1228474649662, 588.816896661487, 583.3155544993177, 558.0779776848901, 556.8418977600315, 471.4359448743348, 450.70587123425275, 390.49985307234505, 339.01286248813045, 324.20273008036133, 321.0606580772281, 320.22931293451325, 320.04673599148373, 313.02906506443406, 305.2159717672713, 272.9539199161158, 251.08851107189327, 212.29917803718303, 208.67159988540456, 197.1783612020146, 197.02545164043102, 182.8377306526532, 180.7624406195917, 179.13761191220962, 5038.47218898603, 1944.0447566930775, 1313.288718062581, 771.8301806600826, 4080.165871476007, 2438.430048980841, 14549.505449459353, 2658.0703675140458, 4209.400935828134, 2378.3444928252243, 4178.2144088621735, 1304.5826768232519, 1566.6739088007184, 1114.7171422415015, 1056.6796962614683, 8036.217758826014, 1969.850330340689, 1093.3015362607314, 1907.4996641244848, 1508.5334500634078, 2297.0586478370383, 1597.6115370449043, 3012.386843267783, 1969.0197899851405, 1040.7912222134216, 1501.3854767778987, 1436.9411933299837, 1294.452162299697, 1285.2429095940658, 1512.2103031385004, 1607.5474393991708, 1176.9302630147502, 1184.3895426086508, 3567.030258888599, 1274.9485796017339, 1119.5503910605019, 943.4432047630092, 918.6842706623343, 814.6659384850378, 803.7402889895777, 626.0777949327488, 610.1461066744737, 593.9742879166618, 473.44651952008144, 472.2148659122948, 449.0689182892363, 447.5200797698183, 437.94544456122907, 433.84144842977594, 406.6325619305866, 403.8608128850536, 362.2478434486617, 348.8698075832328, 342.2754102908066, 340.91622938918755, 321.36227919178145, 318.970806160052, 316.88325930071574, 311.8953792459878, 307.24543691213364, 307.06554720609233, 297.36101478409665, 286.4077589281937, 1552.208288844655, 785.2621541749987, 1080.1488768460374, 436.2702316818255, 1054.4792531101496, 1276.5753692595717, 1994.2960325618033, 413.096997957726, 715.5014578027784, 1603.1979411533282, 1606.6427793838125, 1273.6192468763709, 566.8573478917549, 2283.428270247811, 1001.258673807914, 723.5692404995375, 1464.4648989525788, 940.65515451392, 897.7516677916743, 786.7594309307125, 2811.229087352817, 1258.8487551574667, 1604.4466966131758, 974.6006655059148, 1334.58126454484, 1266.016416779275, 1001.0223864211999, 900.5003261343311, 976.212274868103, 917.3253459682368, 861.8502045285796, 839.204918428495, 9096.840154369389, 6859.2756966197685, 4497.214399620126, 4356.794784591353, 2376.114383379309, 1283.1254180394815, 1005.2345170305475, 826.8465851438015, 758.5358769421377, 610.0892490859098, 510.2542497314693, 463.680012228873, 375.4814860586162, 351.66386453915806, 203.30514096202683, 171.36492439578606, 130.03350698582955, 4091.893479080951, 121.6569037815091, 116.45302815449067, 103.79838464774066, 96.22243971355329, 88.23349852229053, 5594.604910626576, 77.96947564650404, 75.31120704896075, 63.060927664171196, 48.10817604906474, 47.12142758593992, 7901.32112909809, 3815.2407531886906, 3356.0198046064356, 7823.2401162061715, 2425.728493464521, 6356.143439153988, 7326.653073484466, 2214.4590354567304, 2519.3597171125075, 444.36337975605954, 7402.289453876861, 5350.2950419542385, 1030.7093013800043, 1573.3733351167596, 1265.521484018297, 1663.9925575489801, 3348.00373913114, 6767.499250301978, 2353.3746618234222, 1682.7818826969667, 2593.4166017003595, 2955.659460771655, 2524.6242880960476, 1446.6883247397532, 1332.8118952654713, 1189.6748349736154, 1148.2060721660573, 1090.1252606913433, 1066.7337891165296, 1055.728033421086, 948.5785588871436, 926.3833218715653, 924.2935525645481, 916.7929729466649, 874.3865718825646, 857.0158726734654, 851.8593886969378, 848.1726512252222, 783.889973932376, 710.4632471467828, 693.6168181618501, 626.4313812857746, 571.8316468891392, 571.2418648217209, 555.609101225746, 511.8221550505471, 506.90578367808104, 463.20888704099485, 442.631968031889, 435.1446370144492, 423.5728180484075, 822.9814757279323, 1849.518426172182, 2297.7057692654703, 796.707600035471, 2031.7946013313863, 1565.2667497780026, 1979.1694055889052, 1400.4659757916663, 1266.6751158231632, 1524.6129075063238, 1316.9132237771546, 1184.8102296558618, 2406.04083268412, 1679.3541039904685, 1150.5086964709258, 1257.895592943939, 1433.8758459957708, 1147.731579244219, 989.0587362814877, 1036.1085232069322, 1032.90242039236, 74394.17070837496, 418.73671384196575, 334.92425407777523, 321.7845268591631, 270.69173074331246, 243.88566506451454, 227.9177374943843, 197.98787882779519, 182.84502078319926, 148.20841120173162, 146.54752058527922, 110.78447445418284, 108.04775936643142, 96.50700969186626, 75.40263487730043, 45.0076067179102, 37.89360132116789, 34.91787936585921, 20.738871417158023, 6.8292525307043, 3.103006942264957, 3777.6413998653647, 1752.8586879888865, 1139.0399698053302, 0.20176983874121923, 0.19903736102125663, 0.19879698596852527, 0.19873775489592033, 0.19873323103069473, 0.1987310848248668, 789.7769842795294, 731.0958453561577, 225.26345825664973, 217.28732652372292, 193.37950796811188, 888.7053477630751, 303.7876345414155, 258.9190252027368, 296.87330068847535, 856.2639181421296, 821.8632832959211, 690.9350792080512, 675.877599912143, 540.3699482047135, 461.56919312337635, 407.78048661028527, 397.7166813424189, 391.4532586426695, 387.4672227926785, 362.13628975941566, 345.7215053085419, 329.84421705277117, 328.5537271165618, 326.3752754995956, 308.17338856485867, 305.1847100929009, 295.20081558711433, 289.4645683570132, 276.669643611032, 265.913331639057, 259.7873522560498, 249.0325774133979, 240.10970139488066, 230.7572276746506, 222.53715912297824, 222.09105225308156, 218.07255702284039, 215.87819511924474, 215.22232000354887, 244.1635106741149, 705.101502601838, 1712.6000214742867, 531.5514173156969, 553.762377077552, 484.0192663271977, 663.4083269927436, 325.0384920192286, 1132.1199412360281, 723.2842652522701, 502.7603862135456, 485.4368988174131, 2471.503525759724, 499.1232986826039, 508.2090904466452, 470.5187193710658, 567.1514522136855, 739.8672954945024, 931.1250706566627, 483.866032500137, 508.5234234118483, 870.5422126102843, 1354.4948833086291, 781.805054330427, 2307.17426006543, 1048.410992487185, 705.9289173574417, 1026.0953881550522, 1014.203996010243, 661.0492926243975, 656.2422300887167, 592.342606292144, 525.1637865815583, 520.8710834502609, 1005.2495154750885, 969.2654510638332, 817.5927302782036, 810.3814023718043, 518.3043385998557, 506.8875676029736, 418.3323613871856, 417.2361304031666, 397.3200467588687, 369.77230895996365, 365.04368759153203, 359.32593665955926, 345.6137398388261, 342.65398327761807, 339.850615478131, 330.59974775718194, 308.93864621551893, 305.08925733835014, 297.78927931335636, 262.98878204836825, 261.934150363141, 261.1563441192009, 261.151088293816, 258.9752045409551, 251.67827377642388, 242.7727249658748, 232.54614681002712, 226.54360282913564, 220.45770648981167, 214.33450217720983, 2747.7182257024338, 260.1163896059264, 728.2267011707115, 483.2950061453689, 463.2196821745135, 435.01874033241745, 424.51816034360104, 540.6065949254494, 658.7559840146395, 543.920113265495, 581.4273606037443, 392.9758834260443, 461.97226234112253, 624.7237877774696, 426.2735221526281, 1113.000421779217, 502.7671123272266, 430.2862050514651, 464.1854121324843, 402.608721052498, 392.5402090494516, 1778.5289047116125, 1188.3323569677127, 1081.0934375867118, 710.1990728523896, 614.3469492277777, 533.4213647357609, 516.7261401384728, 511.9221462125071, 468.6171363158388, 422.26287324270146, 416.78175663384, 412.07318779107135, 384.02177200136987, 365.53998950667943, 362.1583565307541, 348.1867799641755, 342.5837986703362, 295.7136074954495, 292.9297256760369, 279.7911151878957, 247.73780338148808, 247.25142542290558, 243.03063164629108, 225.9189371900444, 225.74002833931007, 221.8377750890362, 199.45545277788622, 196.69272527595035, 194.15987469059453, 182.74793099791543, 627.3647758122701, 537.881195709732, 1422.3202493971537, 1152.6595084903927, 325.8855953342632, 440.8210748855102, 367.96507828537517, 384.4129621214373, 436.1498588998935, 291.91592642888907, 922.9311598022898, 583.8145603565138, 994.7928903007602, 441.8739931446648, 561.8239817363558, 1032.1006182421356, 596.6637850536778, 419.6207846615532, 556.8875525568039, 511.8415357416738, 597.7740374443113, 569.3348320416508, 456.5711166697836, 1515.8848548906817, 1154.4841947268258, 1140.8544258500904, 1109.2887356082795, 630.2070486777685, 623.3317751986286, 618.4535729416639, 579.2890694985626, 563.6943522305303, 544.4431349820917, 450.851879775847, 439.8551483279247, 414.06568864876846, 386.48036048608486, 316.18504784907054, 313.163432340148, 293.94859431525873, 281.27674894937206, 278.24177636289556, 271.83289534700987, 253.0829447625518, 244.25036558613772, 221.213639682185, 218.0962200641868, 211.78304909345036, 203.5209911468558, 184.44065277878005, 182.77607402057654, 177.38982073893703, 168.5691053752448, 428.4778812656033, 933.1353146344064, 479.8835348714196, 291.4730904472454, 365.6736786341092, 547.2160454695158, 1733.2621678810951, 841.3808457196891, 596.7902744276118, 646.9231960767779, 353.8136284693519, 453.22807565352485, 394.95843623974105, 567.945806545648, 1016.9696009431632, 474.89476046892867, 857.5249433500743, 631.9217399927811, 850.5555589125346, 563.5853321397904, 638.9453993158747, 419.62336167834786, 1019.6284376604723, 853.9133575575496, 729.316856540161, 710.8462981389474, 675.1541091972508, 497.4143864607825, 457.788133072784, 419.92913817660383, 406.702309397394, 370.4343495500007, 357.059221241031, 324.8271976584771, 314.85284312443883, 306.8035564426833, 239.76472261433005, 214.20584143828222, 209.4342838822956, 205.47180208811017, 199.06255748365416, 181.80612858860033, 175.5274647255633, 172.85951985045193, 167.72029743639072, 167.08588631282385, 160.11625699102794, 159.11790419782267, 157.7144528025668, 156.68720044128898, 149.210140907562, 145.70115916509775, 498.35630827744876, 663.8637869817844, 483.8293241532416, 509.8409091569776, 560.8170557754217, 1287.833295865856, 393.41864592241717, 1132.5147933229441, 1456.4462725875173, 265.3760200034827, 440.7180318158851, 1025.9674575480985, 501.18938553124394, 382.1599932375044, 376.6905845670366, 389.6073121214338, 512.2330352983893, 482.56604183107015, 605.5010139366901, 523.0798495130281, 490.1356427833981, 399.26001457496886, 447.4886275582664, 394.53313528021664, 988.4137212425813, 836.0774878202526, 835.9130652802376, 675.2171673761634, 629.246955649659, 508.54726395801174, 507.6940649954668, 465.75535041304363, 460.13676046792943, 455.0411535455066, 444.692048904511, 438.45096764127715, 425.9867875701421, 383.3917536874823, 373.23021492587617, 343.79858026318436, 340.0808487410739, 339.13269757604354, 328.5322417544561, 328.08640991624713, 327.80034372659367, 323.53432875416576, 318.1954748518727, 292.24368721249573, 274.3837020772796, 240.2725769277278, 239.17296591189648, 229.41353259206815, 221.76734016938013, 215.93334379463616, 695.63273761806, 810.5797370183228, 455.8943121886449, 474.41253179590996, 531.6003685004537, 486.9846469184477, 526.5755624559774, 1127.0287767743762, 376.3323094289848, 455.94104238086595, 434.2395653050558, 389.1690811362844, 346.8535413800062, 3511.15535196165, 868.8374078880287, 737.6188334713815, 716.6547689103061, 474.4113802090141, 372.3474079040888, 329.5361367900121, 317.04055756231173, 303.94349289492214, 301.05093258604046, 277.2817087182556, 240.94694633380175, 229.80410579564725, 219.6814742734416, 204.02310189447462, 181.7175824001385, 176.17283203254473, 171.01031234879048, 164.68784001310812, 162.9151356594014, 160.559157323824, 155.27764212029874, 146.85649608073433, 140.16431015830102, 139.86090832069618, 137.8191519828204, 137.3998948335891, 135.89800063072838, 135.45244970522307, 119.92098896962253, 11798.751820485444, 1946.7398323685024, 2376.939741020713, 157.69507756569024, 222.63487939528466, 362.4268693316618, 222.79900994019664, 763.85606850459, 717.9281364335477, 1078.9346520089312, 402.29922051801054, 250.13001708265546, 190.3261962418002, 1071.7940332214255, 596.6957558425534, 542.2153399426605, 522.3521625141716, 497.4873330918046, 427.96937463333785, 385.40547615281537, 372.36514040066896, 365.8056888014918, 328.9918173934276, 284.23451052810185, 265.82563699242496, 253.50817445441274, 243.16060304796252, 233.76925079099036, 220.42478398917777, 210.675025893831, 205.02401426709693, 200.90748625531128, 199.87042076961094, 193.6808934801052, 192.26023034464748, 184.51116715268893, 172.9387001148683, 168.3201651884996, 164.19531225196778, 161.02796518512616, 158.36070270387594, 154.02054892027692, 150.58016912600536, 280.7702256426597, 654.9698570022031, 665.0836639016742, 305.64925549532, 252.56572166093957, 649.1627491608147, 961.583439534603, 337.1968756253944, 621.9283081978433, 346.20022747911213, 633.4398963167099, 322.3139255241184, 474.3241678960488, 535.7423001321896, 546.995490028208, 397.6430535191011, 362.3857725093896, 434.3409650815387, 272.5219460136866, 295.65298971209774, 294.2487903942945, 295.25252517570374, 896.0471734228673, 658.6026937619332, 504.5666937584247, 494.5818064146962, 476.6923050262299, 453.9876912594902, 443.97632626300833, 402.8778887619215, 380.865381736041, 357.05865557147735, 337.3394900101811, 287.15104615471614, 275.78069838570264, 270.7242891619462, 240.23983529926545, 231.6544165979099, 231.34475010198054, 215.5668945820249, 212.70120602039776, 209.58209607690662, 208.27425125596037, 208.16194674282903, 206.0315303940348, 201.75227211544717, 199.36751907514966, 186.32663835696837, 181.9077887257135, 181.5416648700054, 165.59288522393385, 161.2053153046992, 953.08566196506, 657.2159863930817, 354.05763383680915, 761.6486243809753, 398.49923316265193, 286.7204261328322, 387.08261582810553, 631.1705189737198, 225.03266870671627, 256.1684250718447, 268.0547421702648, 322.6002456236554, 288.0230046070134, 368.5599324149777, 313.2783873580429, 259.4519723818343, 254.53408001682078, 1608.9120242142699, 1161.6861925981614, 1068.601104734003, 1004.5599432563575, 698.1427604657555, 628.3116429856603, 604.6191051074039, 582.7407485349981, 571.8676245597715, 511.1248992502887, 415.0003467694648, 284.5225139554021, 265.1577183283646, 249.4611801842346, 245.16360066436002, 243.96443077846945, 240.56427879392703, 218.24079761181832, 190.85709836121632, 181.06691077168796, 170.70384985713264, 167.00472791648411, 151.42123674448285, 141.8085744295949, 137.85691151213325, 127.13962831551942, 123.04167269992391, 122.31751406600658, 115.85832965167234, 113.67386688262023, 2778.303678810923, 573.9220953897725, 282.22363527256215, 418.53990072900024, 506.44551154836944, 268.4510238412339, 482.9794127257131, 197.93106412128225, 402.09690975822, 316.61156478459935, 272.2257826844719, 353.1462478996524, 350.52158410938534, 300.43458563670566, 293.0530221369683, 1820.139279119197, 1687.7848377328191, 1406.7384551472169, 1154.4633685306587, 513.2591233087057, 388.00416113907744, 345.5945524824959, 243.42132744564003, 238.83956024967796, 237.22100017776665, 215.409423892961, 213.35196406513992, 209.720112382215, 201.17856046663957, 197.647617598222, 173.12586881267174, 171.24564863974365, 156.86269032031413, 151.0797764033007, 150.01557588690505, 130.02755131393926, 121.45830924470968, 118.78507068914423, 112.40933809736055, 111.00199402444261, 106.02089915669129, 103.739805527438, 90.02280210179006, 74.4037520255663, 67.90250172946281, 411.2730000320823, 201.1954610442327, 1141.376880311998, 308.6218184167081, 316.68947401447963, 1036.7525768730845, 239.29459799614315, 493.9542118378706, 570.3761504588144, 189.92906198005127, 288.3515954188577, 482.2816836499417, 221.59746732638862, 7784.0275167216705, 3801.230060818748, 343.50673090265514, 83.44485053960793, 35.05474979791144, 1058.1016188970882, 21.303565090247265, 3158.861311595515, 2497.5672750429085, 194.77522921585606, 528.9530783252587, 0.09980069815135116, 0.09977631328881431, 0.09953278147854978, 0.09953993951980603, 0.09948501170114811, 0.0994107581611455, 0.09937845292100837, 0.09939084831195281, 0.09936973060517607, 0.09937198791279214, 0.09936469126492789, 0.09936675056310397, 0.09936962169998406, 0.09936535459655192, 0.09935455318159954, 0.09936087958320776, 0.09935784013830365, 0.0993564045698636, 0.0993591569010797, 0.09936090928462377, 0.0994764675938118, 0.09935813715246367, 1480.6086765140396, 658.6507364465231, 631.0362015342411, 464.13809568180534, 463.7208662293959, 452.1748885979769, 420.51803917666706, 418.2702874563027, 372.45677378056007, 366.4852261009378, 322.840545169763, 295.5378308212367, 287.577247793503, 257.41156193760696, 256.98793653038285, 243.4774591441831, 230.7115064314917, 220.99610436765104, 209.21630128813288, 189.48314616312982, 187.84837564558575, 177.563662537076, 172.16005787845413, 171.41850021731807, 171.1095933663113, 170.38962205267472, 169.49127466587385, 154.26229305368147, 151.16172959148838, 149.40817197980323, 432.17939272632594, 661.0703972190724, 268.82709762388924, 293.50569384429093, 246.00721917225033, 332.76145281510685, 198.00778133935168, 218.10328507114625, 219.58771511746355, 1378.6199883781082, 1123.2275248721548, 1006.4355630054008, 761.1886070731587, 582.4178892846679, 396.54818386860205, 280.1872818751727, 275.0487937295599, 220.06455728244893, 204.89920652708759, 169.3600112932923, 166.05393655578106, 151.3585410270367, 140.693489680494, 123.14385982678309, 119.1309842222542, 109.14443060792172, 86.80401808383664, 82.95388298008953, 78.40273789331056, 78.09636630402778, 77.23697791591044, 70.77312454839752, 64.1454956921193, 57.4283126072977, 55.048259289153954, 44.63685572939778, 40.98802831280313, 39.532996767096485, 39.24857702050773, 291.26304674590097, 367.64017179128194, 116.0942083093288, 219.60528515131048, 156.32088936402272, 62.13144441727376, 4170.493469589149, 263.9052397737015, 261.60444997410036, 161.2968917797383, 144.810701978262, 127.79518147487187, 114.49331988157802, 109.62448004938072, 93.86936566840531, 86.57513123105554, 84.42446608175008, 83.5470174449535, 78.61285555794915, 75.2039712208478, 70.27329581230309, 69.69145344567636, 55.80239149593966, 54.11470881672752, 48.788698713750804, 41.11003060991519, 40.718216039090805, 25.388969324341055, 25.117703215914425, 24.0481660180016, 10.20571416373958, 113.46905223027498, 218.709594731462, 43.913823783134234, 283.11069772537905, 0.09019287511841807], \"Total\": [74395.0, 12593.0, 7785.0, 22790.0, 4172.0, 9098.0, 6417.0, 6564.0, 8206.0, 8646.0, 10724.0, 8457.0, 6860.0, 3802.0, 7121.0, 3512.0, 19902.0, 5706.0, 6132.0, 4131.0, 2936.0, 4498.0, 4358.0, 4572.0, 5277.0, 8203.0, 4997.0, 4146.0, 3087.0, 2851.0, 2618.5837156389825, 1218.2172580229922, 921.8271676494223, 730.8345701975823, 643.30225487095, 616.099278052886, 610.80794897969, 590.5019979563887, 585.0006558462583, 559.7630789797918, 558.5269990549332, 473.1210461864536, 452.39097253559004, 392.1849543672467, 340.6979637830321, 325.8878314393233, 322.7457593721297, 321.91441428672954, 321.73183728638537, 314.7141663758351, 306.90107306217294, 274.63902131625304, 252.77361270722702, 213.9842793924562, 210.35670119435306, 198.86346263329656, 198.71055294026306, 184.52283199783736, 182.44754200217403, 180.82271320711126, 5277.756512329178, 2136.611904671089, 1462.0453322865937, 852.356434044349, 5416.364603315197, 3126.8429373874005, 22790.034110567416, 3708.0832246164878, 6304.817254138993, 3280.203629475143, 6609.447018748619, 1688.387324472183, 2134.5879021345972, 1518.0686501454413, 1459.4817953084644, 19902.194043608793, 3254.0355694881364, 1542.3706089351729, 3373.582030371412, 2576.908557975037, 4997.438809117509, 2905.0481843354773, 10724.88600543893, 5078.058648215125, 1636.8800449968528, 3869.172790943246, 3839.024351561862, 3078.081789012934, 3135.547351500845, 5720.130613726013, 8203.986322254248, 3257.2050613506885, 3829.787722354215, 3568.72591576807, 1276.644236481205, 1121.2460479467984, 945.1388616424806, 920.3799275626576, 816.3615953713345, 805.4359458690491, 627.7734518190455, 611.8417636533088, 595.6699448191512, 475.14217646648734, 473.91052279176614, 450.7645751860949, 449.21573665611504, 439.64110145076415, 435.53710535119745, 408.32821881005793, 405.55646979913365, 363.94350032813304, 350.5654645266177, 343.9710672033475, 342.611886297829, 323.0579360712528, 320.6664630573173, 318.57891625719, 313.59103612545914, 308.941093791605, 308.7612048227195, 299.05667175428874, 288.1034158257569, 1591.6246641734695, 839.9212770172566, 1189.5424019340717, 449.9273679437836, 1173.1384996295365, 1453.4071492406817, 2498.6856806697947, 429.74274887780416, 877.4606588327631, 2501.8309677292123, 2641.3798698341743, 1987.408079571051, 668.5139299742217, 5720.130613726013, 1661.637193603318, 1007.0927386063056, 3373.582030371412, 1708.535611662369, 1594.864302095818, 1253.0807962088543, 19902.194043608793, 3869.172790943246, 6609.447018748619, 2246.19734999501, 5416.364603315197, 4997.438809117509, 3078.081789012934, 3053.9069818111325, 5078.058648215125, 6304.817254138993, 3829.787722354215, 2301.146934912122, 9098.518121477464, 6860.953663737745, 4498.892366738265, 4358.472751717873, 2377.7923504959253, 1284.803385187495, 1006.912484171821, 828.524552251876, 760.2138441568444, 611.767216204048, 511.93221694633525, 465.3579795384914, 377.1594533232378, 353.3418329407529, 204.98310817396504, 173.04289151376102, 131.7114741123466, 4146.647728387726, 123.33487091477305, 118.1309953076644, 105.47635179631399, 97.90040697770422, 89.91146570182094, 5706.986932334707, 79.64744292248548, 76.98917425144069, 64.7388948512258, 49.7861431670397, 48.79939470268947, 8206.588234903747, 4034.0075509766552, 3550.878783838789, 8457.558576709109, 2588.8967543028148, 7121.591828326397, 8646.763281491887, 2536.2972464012237, 2923.251258311094, 493.58779954425813, 10724.88600543893, 8203.986322254248, 1315.4079427374886, 2131.860883857398, 1725.785584822798, 2427.1269757423133, 6564.992154314242, 22790.034110567416, 6132.49553296293, 6417.129084851471, 19902.194043608793, 2957.3358175283747, 2526.30064486932, 1448.3646815896245, 1334.4882520157544, 1191.351421921178, 1149.8824289219574, 1091.8016174737081, 1068.4101459463993, 1057.4043908682756, 950.2549156491826, 928.0596786218487, 925.9699093212672, 918.4693296969483, 876.0629286485287, 858.6922294237488, 853.5357454528382, 849.8490079861772, 785.5663307118688, 712.1396039855065, 695.2931750745496, 628.107738041675, 573.5080037345936, 572.9182215720043, 557.2854580656109, 513.4985118064475, 508.5821404446091, 464.8852438075229, 444.30832480278343, 436.8209937747962, 425.2491748051264, 848.9896554166822, 2005.4441812169366, 2594.5530621812572, 841.2567564973335, 2541.73851653986, 1983.560865379476, 2681.2147234649815, 1759.53445322818, 1635.5741392020286, 2117.814033768124, 1794.5022651611505, 1545.6546026779506, 5386.602659513767, 3421.7722196431646, 1672.1634301252132, 2547.181225857611, 3839.024351561862, 2062.172953314232, 1573.4427308003046, 3509.961420472828, 6417.129084851471, 74395.73550341117, 420.3015089655265, 336.48904938960635, 323.34932262274873, 272.25652644880034, 245.4504603657824, 229.4825327577968, 199.55267484569603, 184.40981709529495, 149.77320992934213, 148.1123176216956, 112.34926977941451, 109.61255646468588, 98.07180639087233, 76.96743301712364, 46.572402220014645, 39.45839701719464, 36.48267521157974, 22.303669963954917, 8.394047574465427, 4.667803323905829, 6132.49553296293, 4131.2775776479975, 3087.25895081223, 1.7668421133568768, 1.764580569920714, 1.7637375947302307, 1.7635952935921253, 1.7635625921071327, 1.763564491658846, 8646.763281491887, 8203.986322254248, 2536.2972464012237, 4034.0075509766552, 3550.878783838789, 22790.034110567416, 8206.588234903747, 6417.129084851471, 10724.88600543893, 857.9439723425096, 823.543337537901, 692.6151334184949, 677.5576541307144, 542.0500024215929, 463.2492473237563, 409.4605408235781, 399.39673564365654, 393.1333128548052, 389.14727700160057, 363.8163440177167, 347.4015595089219, 331.52427126182624, 330.23378131694176, 328.0553297380981, 309.85344281034827, 306.86476431749344, 296.8808697874943, 291.1446225573932, 278.3496978279529, 267.59338583943696, 261.4674064564298, 250.71263165577912, 241.78975559526057, 232.4372819045362, 224.21721332335815, 223.77110647767404, 219.75261123572034, 217.55824931962465, 216.9023742039288, 246.9171427262293, 749.248586786967, 1932.5610935885306, 582.9404905781059, 623.0153007808377, 550.7539098552209, 800.300383145749, 346.55382308856923, 1564.2603174037233, 910.7200465688808, 589.2071610449892, 568.8767026367798, 4572.856098355331, 593.3467003881043, 642.02297310881, 595.3266074661223, 799.2585615409591, 1266.9544647228463, 1917.6293265686472, 635.2062555893917, 694.2682271190586, 1871.066451953287, 5078.058648215125, 1745.201180220892, 19902.194043608793, 3708.0832246164878, 1561.2326729696586, 3829.787722354215, 3869.172790943246, 1779.4312149654627, 1867.1750358193797, 1613.501817751651, 3189.482941116262, 3053.9069818111325, 1006.9396852613371, 970.9556208451514, 819.2829000595218, 812.071572186192, 519.9945083811739, 508.57773738429177, 420.02253116850375, 418.9263001844848, 399.0102165575741, 371.4624787412818, 366.73385746304564, 361.01610644731306, 347.3039097238007, 344.3441530686837, 341.54078525944914, 332.2899175385001, 310.6288160228293, 306.77942715062534, 299.4794490946745, 264.6789518296864, 263.62432017655624, 262.84651394834805, 262.84125813181674, 260.66537432227324, 253.36844355774198, 244.4628947471929, 234.2363166140256, 228.23377264492518, 222.1478764139212, 216.02467195852793, 2851.159960902231, 268.7266341882572, 895.2943915454061, 563.8407176962637, 602.1546637215536, 561.9949453673548, 610.3340018857114, 1024.7777397706918, 1661.637193603318, 1174.330528906666, 1628.4481356378706, 691.0058487537306, 1049.7232211042815, 2501.8309677292123, 853.502552940059, 19902.194043608793, 2498.6856806697947, 1558.1347634517747, 3829.787722354215, 1476.6008855751772, 1573.4427308003046, 1780.2142246673966, 1190.0176769234968, 1082.7787575522434, 711.8843928081739, 616.032269183562, 535.1066846915452, 518.4114600942571, 513.607466232189, 470.30245627162304, 423.9481932490291, 418.46707658962424, 413.75850776400443, 385.70709196690154, 367.22530946246366, 363.8436764865383, 349.87209991995974, 344.2691186261204, 297.3989274512337, 294.61504563182115, 281.4764351436799, 249.4231233372723, 248.9367453786898, 244.7159516020753, 227.60425714582863, 227.42534832334016, 223.5230950533625, 201.14077273367045, 198.37804523173457, 195.8451946791644, 184.43325102651855, 676.1236820711039, 590.9562957830135, 1704.1624308603648, 1426.1652676750145, 350.2812852458855, 500.21646361958193, 408.1534861094295, 430.2451963641708, 519.8326582903243, 321.77954217616843, 1961.4525173743582, 1079.8855307284168, 3135.547351500845, 668.0056071402378, 1215.9179268449304, 5386.602659513767, 2301.146934912122, 683.6486926953869, 2131.860883857398, 1558.1347634517747, 5720.130613726013, 8457.558576709109, 3421.7722196431646, 1517.5703452051025, 1156.169685071938, 1142.5399161488303, 1110.9742259070194, 631.8925389994979, 625.017265497369, 620.1390632670381, 580.974559797303, 565.379842551951, 546.128625280832, 452.53737008312936, 441.54063865876213, 415.75117899346503, 388.1658507848251, 317.8705381478108, 314.84892287191775, 295.634084613999, 282.96223925372936, 279.92726669456505, 273.5183857073625, 254.768435061292, 245.93585594155988, 222.89913005881684, 219.78171041089266, 213.46853940225427, 205.2064814617791, 186.1261431095517, 184.46156432938045, 179.07531103767724, 170.2545957452966, 441.200620296292, 1012.2155729347887, 542.321358702693, 317.71134941001037, 421.3121085195335, 712.9132515578569, 3189.482941116262, 1310.629044268434, 866.5117837984004, 1013.1264992765982, 436.4783966219722, 671.0039335046168, 528.2448417114277, 1060.6953295571195, 3509.961420472828, 914.1305279502778, 4997.438809117509, 2256.9825868134726, 5386.602659513767, 1917.6293265686472, 6304.817254138993, 1624.5072426437991, 1021.3066617648092, 855.5915816675035, 730.9950806444979, 712.5245222432843, 676.8323333015877, 499.09261056511934, 459.46635725666897, 421.60736228094066, 408.38053350173084, 372.11257365433755, 358.73744551102925, 326.5054217628139, 316.53106725145614, 308.48178054702015, 241.44294674442975, 215.88406564459098, 211.1125079930681, 207.15002622195271, 200.74078159442666, 183.48435273197236, 177.20568882990014, 174.53774408628607, 169.398521577015, 168.76411043042168, 161.7944811280888, 160.7961283122232, 159.39267690690363, 158.3654245456258, 150.8883650544319, 147.37938327949828, 527.6055012212892, 738.6114562411187, 545.4662052555631, 624.0961787722397, 745.203371605125, 2165.8953045291028, 494.5719472333902, 2056.159276763184, 3200.938642415374, 312.34376817178537, 656.7784727356346, 2322.2752844786605, 830.1745302287115, 596.7881508518659, 602.0188946278865, 647.6108404232453, 1129.1203879157163, 1024.7777397706918, 1751.7209097342452, 1737.905851480507, 1928.4294505381772, 871.6092862798658, 2301.146934912122, 2256.9825868134726, 990.0943422902537, 837.75810879702, 837.593686257005, 676.8977884833961, 630.9275766264263, 510.227884934779, 509.37468603027145, 467.4359713898109, 461.8173814511324, 456.72177452870955, 446.3726698812783, 440.1315886244801, 427.66740854690937, 385.0723746642496, 374.91083590264344, 345.47920126181344, 341.761469745222, 340.8133185528108, 330.21286306964276, 329.76703091079133, 329.48096471342467, 325.21494973093303, 319.87609582863996, 293.924308189263, 276.06432308718826, 241.9531980200093, 240.853586995836, 231.0941535899411, 223.44796116015272, 217.61396477140343, 814.1307562223576, 1079.1742242408388, 584.9060977776495, 658.9137691697815, 797.0052392828879, 707.502650330964, 840.7877647984504, 5720.130613726013, 554.6114781940664, 1196.8467767167854, 1255.5626509798694, 1049.7232211042815, 635.0054686729999, 3512.832996408642, 870.5150524143435, 739.2964779167669, 718.332413434346, 476.08902469900335, 374.02505245483974, 331.2137812297804, 318.7182020145801, 305.6211374121722, 302.72857702580876, 278.95935325749457, 242.62459085779085, 231.48175028602435, 221.35911873949823, 205.70074634755375, 183.39522687244013, 177.85047649860135, 172.68795678855875, 166.36548446618724, 164.59278015190998, 162.23680187966994, 156.9552865944782, 148.5341406355969, 141.84195470040632, 141.53855288781529, 139.4967964921105, 139.0775392917317, 137.5756451781542, 137.13009417775692, 121.5986334093908, 12593.561229736584, 3087.25895081223, 4131.2775776479975, 171.72315103442784, 318.1622060572996, 996.6890587673457, 370.33535222745496, 7121.591828326397, 6564.992154314242, 19902.194043608793, 2923.251258311094, 1315.4522662518941, 1573.4427308003046, 1073.4757350912498, 598.377457719518, 543.897041818102, 524.0338643896131, 499.16903496162905, 429.65107651322603, 387.0871780529085, 374.04684228998707, 367.48739067999134, 330.67351926325205, 285.91621240354334, 267.5073389365752, 255.18987632423713, 244.8423049416143, 235.45095268382317, 222.10648586767724, 212.35672776365539, 206.70571642974747, 202.58918816657632, 201.5521226560081, 195.36259537749044, 193.94193222453558, 186.19286903257702, 174.62040199444013, 170.00186706480122, 165.87701454202292, 162.70966705495056, 160.04240457370034, 155.70225083541956, 152.26187100450483, 283.91959006270207, 725.4468263429214, 768.02173953305, 352.05554971735944, 284.1907580262335, 1036.878862189643, 1826.333138663513, 442.580284128593, 1090.2465764066558, 481.4667307356297, 1241.1525284784652, 434.6955166098242, 868.0254215163882, 1315.4522662518941, 1463.4519162456293, 765.0169418755974, 738.164478133195, 3421.7722196431646, 489.4800326201806, 1247.6921171417932, 1545.6546026779506, 2594.5530621812572, 897.7152223076953, 660.2707426360896, 506.2347426325811, 496.2498552888526, 478.3603540380171, 455.6557401336466, 445.64437513716473, 404.5459376360779, 382.5334306166331, 358.72670447126313, 339.0075388843375, 288.82014775655495, 277.4487475134825, 272.3923380447777, 241.90788418809964, 233.32246552307046, 233.0127989761369, 217.23494345618127, 214.36925489455413, 211.25014499274562, 209.94230017485822, 209.82999562519956, 207.69957927686625, 203.42032108478705, 201.03556794930603, 187.99468724438574, 183.57583759986986, 183.20971375283685, 167.26093409809022, 162.8733641856809, 1012.7691687729229, 761.6875517067751, 415.3623406633978, 1084.7304824480168, 503.19037838973594, 338.0511418976653, 564.074078202827, 1365.6540171003576, 244.8337222882864, 344.89404867506295, 411.50225866706063, 830.6776950364989, 803.9149645808333, 2681.2147234649815, 1725.785584822798, 575.1076791405293, 716.9223936425683, 1610.596428472389, 1163.370596844525, 1070.2855089803666, 1006.2443475027209, 699.8271647207939, 629.9960472491478, 606.3035093537673, 584.4251527895757, 573.5520288061348, 512.8093034966521, 416.6847510158282, 286.20691824578927, 266.84212259590316, 251.1455844392731, 246.84800498071627, 245.6488351665973, 242.24868309825294, 219.92520192688238, 192.54150272671203, 182.7513150711066, 172.38825410349608, 168.6891323043115, 153.1056411481594, 143.49297872986804, 139.5413157584967, 128.8240325846048, 124.72607695121773, 124.00191836257473, 117.542733905176, 115.35827115419964, 2936.2446901715975, 770.2824030396841, 367.9669641248536, 629.56990552634, 996.6890587673457, 415.62041596496584, 1101.2325457395475, 273.5154896374817, 3257.2050613506885, 1476.6008855751772, 996.5340437715312, 3421.7722196431646, 5386.602659513767, 2547.181225857611, 19902.194043608793, 1821.8175211051362, 1689.4630797187583, 1408.416697133156, 1156.141610522215, 514.9373652946448, 389.68240312501655, 347.27279450736694, 245.0995695065429, 240.5178022662653, 238.89924216370576, 217.0876658789001, 215.03020605107903, 211.39835436815412, 202.85680250670677, 199.32585982428782, 174.80411081479394, 172.92389062568276, 158.54093230625324, 152.75801838923982, 151.69381791452025, 131.70579334560873, 123.13655123064879, 120.46331268375839, 114.08758008329966, 112.68023601038172, 107.69914116829185, 105.4180475133771, 91.70104419052038, 76.08199402217701, 69.58074376629268, 445.38241231090103, 238.25054923291026, 2018.0806948820104, 510.97330646678523, 542.8680921629527, 4572.856098355331, 468.23302645235736, 2547.181225857611, 4997.438809117509, 363.5049574855966, 1196.0181732201893, 19902.194043608793, 2641.3798698341743, 7785.691481747304, 3802.8940258529246, 345.1706959582441, 85.108815565159, 36.71871488890666, 1135.997488761218, 22.96753019288365, 6417.129084851471, 6564.992154314242, 770.2824030396841, 8646.763281491887, 1.7649295022587626, 1.7648154651687478, 1.7641148722148716, 1.764580569920714, 1.7641180737158197, 1.7638487973916077, 1.763463860764314, 1.7637272167581688, 1.7633962909648688, 1.7635773713473164, 1.7634616878431204, 1.7635525181633334, 1.7636085669207635, 1.7635376953300141, 1.7633701284831642, 1.763493048398673, 1.7634471192188823, 1.76342303176318, 1.7634785150694485, 1.763522321119143, 1.7668421133568768, 1.7637375947302307, 1482.2851644113978, 660.3272243353392, 632.7126894230572, 465.81458357062155, 465.3973541182121, 453.85137648679313, 422.19452707191897, 419.9467753451189, 374.13326167620164, 368.16171407002696, 324.51703341205206, 297.2143187100529, 289.2537356894594, 259.08804985271155, 258.66442441919907, 245.15394704626024, 232.38799432030788, 222.67259228335396, 210.8927892007018, 191.159634051946, 189.52486353440193, 179.24015042589218, 173.8365457672703, 173.09498811939523, 172.7860813133534, 172.0661099414909, 171.16776258986602, 155.93878094249766, 152.83821754746734, 151.08465988002703, 471.3365313317294, 746.0871222686031, 293.93517368451666, 329.95514820251447, 272.00767752250044, 599.4765236062018, 234.5075471599689, 4572.856098355331, 19902.194043608793, 1380.3189970084213, 1124.9265335458033, 1008.1345716357139, 762.8876157290359, 584.116897914981, 398.24719249891524, 281.886290589699, 276.74780237485083, 221.76356591276206, 206.59821515740072, 171.05901992360543, 167.75294519584162, 153.0575496881829, 142.39249833572694, 124.84286853313618, 120.82999302764719, 110.84343923823486, 88.50302671414978, 84.65289161040268, 80.1017465236237, 79.79537493434093, 78.93598654622359, 72.47213318445186, 65.84450432243244, 59.12732123761085, 56.747267919467106, 46.33586438601936, 42.68703694311628, 41.23200540388686, 40.947585660884585, 322.96344148351125, 738.164478133195, 227.88969598002447, 654.9798001956808, 2936.2446901715975, 799.2585615409591, 4172.166736976999, 265.5785071944413, 263.27771748097115, 162.97015916036506, 146.48396942697119, 129.46844890980628, 116.16658727932872, 111.29774743868253, 95.54263313014737, 88.24839864479594, 86.09773351118444, 85.22028486379814, 80.28612293857589, 76.87723872743823, 71.94656353645424, 71.36472083192015, 57.4756588765664, 55.78797619735426, 50.46196612774624, 42.78329802337151, 42.391483817652805, 27.062236712191293, 26.790970596541168, 25.72143345877841, 11.878981669544968, 166.16908096313298, 332.62228105014697, 136.44749460218742, 1315.4079427374886, 1.7649295022587626], \"Category\": [\"Default\", \"Default\", \"Default\", \"Default\", \"Default\", \"Default\", \"Default\", \"Default\", \"Default\", \"Default\", \"Default\", \"Default\", \"Default\", \"Default\", \"Default\", \"Default\", \"Default\", \"Default\", \"Default\", \"Default\", \"Default\", \"Default\", \"Default\", \"Default\", \"Default\", \"Default\", \"Default\", \"Default\", \"Default\", \"Default\", \"Topic1\", \"Topic1\", \"Topic1\", \"Topic1\", \"Topic1\", \"Topic1\", \"Topic1\", \"Topic1\", \"Topic1\", \"Topic1\", \"Topic1\", \"Topic1\", \"Topic1\", \"Topic1\", \"Topic1\", \"Topic1\", \"Topic1\", \"Topic1\", \"Topic1\", \"Topic1\", \"Topic1\", \"Topic1\", \"Topic1\", \"Topic1\", \"Topic1\", \"Topic1\", \"Topic1\", \"Topic1\", \"Topic1\", \"Topic1\", \"Topic1\", \"Topic1\", \"Topic1\", \"Topic1\", \"Topic1\", \"Topic1\", \"Topic1\", \"Topic1\", \"Topic1\", \"Topic1\", \"Topic1\", \"Topic1\", \"Topic1\", \"Topic1\", \"Topic1\", \"Topic1\", \"Topic1\", \"Topic1\", \"Topic1\", \"Topic1\", \"Topic1\", \"Topic1\", \"Topic1\", \"Topic1\", \"Topic1\", \"Topic1\", \"Topic1\", \"Topic1\", \"Topic1\", \"Topic1\", \"Topic1\", \"Topic1\", \"Topic1\", \"Topic2\", \"Topic2\", \"Topic2\", \"Topic2\", \"Topic2\", \"Topic2\", \"Topic2\", \"Topic2\", \"Topic2\", \"Topic2\", \"Topic2\", \"Topic2\", \"Topic2\", \"Topic2\", \"Topic2\", \"Topic2\", \"Topic2\", \"Topic2\", \"Topic2\", \"Topic2\", \"Topic2\", \"Topic2\", \"Topic2\", \"Topic2\", \"Topic2\", \"Topic2\", \"Topic2\", \"Topic2\", \"Topic2\", \"Topic2\", \"Topic2\", \"Topic2\", \"Topic2\", \"Topic2\", \"Topic2\", \"Topic2\", \"Topic2\", \"Topic2\", \"Topic2\", \"Topic2\", \"Topic2\", \"Topic2\", \"Topic2\", \"Topic2\", \"Topic2\", \"Topic2\", \"Topic2\", \"Topic2\", \"Topic2\", \"Topic2\", \"Topic2\", \"Topic2\", \"Topic2\", \"Topic2\", \"Topic2\", \"Topic2\", \"Topic2\", \"Topic2\", \"Topic2\", \"Topic2\", \"Topic2\", \"Topic2\", \"Topic3\", \"Topic3\", \"Topic3\", \"Topic3\", \"Topic3\", \"Topic3\", \"Topic3\", \"Topic3\", \"Topic3\", \"Topic3\", \"Topic3\", \"Topic3\", \"Topic3\", \"Topic3\", \"Topic3\", \"Topic3\", \"Topic3\", \"Topic3\", \"Topic3\", \"Topic3\", \"Topic3\", \"Topic3\", \"Topic3\", \"Topic3\", \"Topic3\", \"Topic3\", \"Topic3\", \"Topic3\", \"Topic3\", \"Topic3\", \"Topic3\", \"Topic3\", \"Topic3\", \"Topic3\", \"Topic3\", \"Topic3\", \"Topic3\", \"Topic3\", \"Topic3\", \"Topic3\", \"Topic3\", \"Topic3\", \"Topic3\", \"Topic3\", \"Topic3\", \"Topic3\", \"Topic3\", \"Topic3\", \"Topic3\", \"Topic3\", \"Topic4\", \"Topic4\", \"Topic4\", \"Topic4\", \"Topic4\", \"Topic4\", \"Topic4\", \"Topic4\", \"Topic4\", \"Topic4\", \"Topic4\", \"Topic4\", \"Topic4\", \"Topic4\", \"Topic4\", \"Topic4\", \"Topic4\", \"Topic4\", \"Topic4\", \"Topic4\", \"Topic4\", \"Topic4\", \"Topic4\", \"Topic4\", \"Topic4\", \"Topic4\", \"Topic4\", \"Topic4\", \"Topic4\", \"Topic4\", \"Topic4\", \"Topic4\", \"Topic4\", \"Topic4\", \"Topic4\", \"Topic4\", \"Topic4\", \"Topic4\", \"Topic4\", \"Topic4\", \"Topic4\", \"Topic4\", \"Topic4\", \"Topic4\", \"Topic4\", \"Topic4\", \"Topic4\", \"Topic4\", \"Topic4\", \"Topic4\", \"Topic4\", \"Topic5\", \"Topic5\", \"Topic5\", \"Topic5\", \"Topic5\", \"Topic5\", \"Topic5\", \"Topic5\", \"Topic5\", \"Topic5\", \"Topic5\", \"Topic5\", \"Topic5\", \"Topic5\", \"Topic5\", \"Topic5\", \"Topic5\", \"Topic5\", \"Topic5\", \"Topic5\", \"Topic5\", \"Topic5\", \"Topic5\", \"Topic5\", \"Topic5\", \"Topic5\", \"Topic5\", \"Topic5\", \"Topic5\", \"Topic5\", \"Topic5\", \"Topic5\", \"Topic5\", \"Topic5\", \"Topic5\", \"Topic5\", \"Topic5\", \"Topic5\", \"Topic5\", \"Topic6\", \"Topic6\", \"Topic6\", \"Topic6\", \"Topic6\", \"Topic6\", \"Topic6\", \"Topic6\", \"Topic6\", \"Topic6\", \"Topic6\", \"Topic6\", \"Topic6\", \"Topic6\", \"Topic6\", \"Topic6\", \"Topic6\", \"Topic6\", \"Topic6\", \"Topic6\", \"Topic6\", \"Topic6\", \"Topic6\", \"Topic6\", \"Topic6\", \"Topic6\", \"Topic6\", \"Topic6\", \"Topic6\", \"Topic6\", \"Topic6\", \"Topic6\", \"Topic6\", \"Topic6\", \"Topic6\", \"Topic6\", \"Topic6\", \"Topic6\", \"Topic6\", \"Topic6\", \"Topic6\", \"Topic6\", \"Topic6\", \"Topic6\", \"Topic6\", \"Topic6\", \"Topic6\", \"Topic6\", \"Topic6\", \"Topic6\", \"Topic6\", \"Topic6\", \"Topic6\", \"Topic6\", \"Topic6\", \"Topic6\", \"Topic6\", \"Topic6\", \"Topic6\", \"Topic6\", \"Topic6\", \"Topic6\", \"Topic6\", \"Topic6\", \"Topic7\", \"Topic7\", \"Topic7\", \"Topic7\", \"Topic7\", \"Topic7\", \"Topic7\", \"Topic7\", \"Topic7\", \"Topic7\", \"Topic7\", \"Topic7\", \"Topic7\", \"Topic7\", \"Topic7\", \"Topic7\", \"Topic7\", \"Topic7\", \"Topic7\", \"Topic7\", \"Topic7\", \"Topic7\", \"Topic7\", \"Topic7\", \"Topic7\", \"Topic7\", \"Topic7\", \"Topic7\", \"Topic7\", \"Topic7\", \"Topic7\", \"Topic7\", \"Topic7\", \"Topic7\", \"Topic7\", \"Topic7\", \"Topic7\", \"Topic7\", \"Topic7\", \"Topic7\", \"Topic7\", \"Topic7\", \"Topic7\", \"Topic7\", \"Topic7\", \"Topic7\", \"Topic7\", \"Topic7\", \"Topic7\", \"Topic7\", \"Topic7\", \"Topic8\", \"Topic8\", \"Topic8\", \"Topic8\", \"Topic8\", \"Topic8\", \"Topic8\", \"Topic8\", \"Topic8\", \"Topic8\", \"Topic8\", \"Topic8\", \"Topic8\", \"Topic8\", \"Topic8\", \"Topic8\", \"Topic8\", \"Topic8\", \"Topic8\", \"Topic8\", \"Topic8\", \"Topic8\", \"Topic8\", \"Topic8\", \"Topic8\", \"Topic8\", \"Topic8\", \"Topic8\", \"Topic8\", \"Topic8\", \"Topic8\", \"Topic8\", \"Topic8\", \"Topic8\", \"Topic8\", \"Topic8\", \"Topic8\", \"Topic8\", \"Topic8\", \"Topic8\", \"Topic8\", \"Topic8\", \"Topic8\", \"Topic8\", \"Topic8\", \"Topic8\", \"Topic8\", \"Topic8\", \"Topic8\", \"Topic8\", \"Topic8\", \"Topic8\", \"Topic8\", \"Topic9\", \"Topic9\", \"Topic9\", \"Topic9\", \"Topic9\", \"Topic9\", \"Topic9\", \"Topic9\", \"Topic9\", \"Topic9\", \"Topic9\", \"Topic9\", \"Topic9\", \"Topic9\", \"Topic9\", \"Topic9\", \"Topic9\", \"Topic9\", \"Topic9\", \"Topic9\", \"Topic9\", \"Topic9\", \"Topic9\", \"Topic9\", \"Topic9\", \"Topic9\", \"Topic9\", \"Topic9\", \"Topic9\", \"Topic9\", \"Topic9\", \"Topic9\", \"Topic9\", \"Topic9\", \"Topic9\", \"Topic9\", \"Topic9\", \"Topic9\", \"Topic9\", \"Topic9\", \"Topic9\", \"Topic9\", \"Topic9\", \"Topic9\", \"Topic9\", \"Topic9\", \"Topic9\", \"Topic9\", \"Topic9\", \"Topic9\", \"Topic9\", \"Topic9\", \"Topic10\", \"Topic10\", \"Topic10\", \"Topic10\", \"Topic10\", \"Topic10\", \"Topic10\", \"Topic10\", \"Topic10\", \"Topic10\", \"Topic10\", \"Topic10\", \"Topic10\", \"Topic10\", \"Topic10\", \"Topic10\", \"Topic10\", \"Topic10\", \"Topic10\", \"Topic10\", \"Topic10\", \"Topic10\", \"Topic10\", \"Topic10\", \"Topic10\", \"Topic10\", \"Topic10\", \"Topic10\", \"Topic10\", \"Topic10\", \"Topic10\", \"Topic10\", \"Topic10\", \"Topic10\", \"Topic10\", \"Topic10\", \"Topic10\", \"Topic10\", \"Topic10\", \"Topic10\", \"Topic10\", \"Topic10\", \"Topic10\", \"Topic10\", \"Topic10\", \"Topic10\", \"Topic10\", \"Topic10\", \"Topic10\", \"Topic10\", \"Topic10\", \"Topic10\", \"Topic10\", \"Topic10\", \"Topic11\", \"Topic11\", \"Topic11\", \"Topic11\", \"Topic11\", \"Topic11\", \"Topic11\", \"Topic11\", \"Topic11\", \"Topic11\", \"Topic11\", \"Topic11\", \"Topic11\", \"Topic11\", \"Topic11\", \"Topic11\", \"Topic11\", \"Topic11\", \"Topic11\", \"Topic11\", \"Topic11\", \"Topic11\", \"Topic11\", \"Topic11\", \"Topic11\", \"Topic11\", \"Topic11\", \"Topic11\", \"Topic11\", \"Topic11\", \"Topic11\", \"Topic11\", \"Topic11\", \"Topic11\", \"Topic11\", \"Topic11\", \"Topic11\", \"Topic11\", \"Topic11\", \"Topic11\", \"Topic11\", \"Topic11\", \"Topic11\", \"Topic12\", \"Topic12\", \"Topic12\", \"Topic12\", \"Topic12\", \"Topic12\", \"Topic12\", \"Topic12\", \"Topic12\", \"Topic12\", \"Topic12\", \"Topic12\", \"Topic12\", \"Topic12\", \"Topic12\", \"Topic12\", \"Topic12\", \"Topic12\", \"Topic12\", \"Topic12\", \"Topic12\", \"Topic12\", \"Topic12\", \"Topic12\", \"Topic12\", \"Topic12\", \"Topic12\", \"Topic12\", \"Topic12\", \"Topic12\", \"Topic12\", \"Topic12\", \"Topic12\", \"Topic12\", \"Topic12\", \"Topic12\", \"Topic12\", \"Topic12\", \"Topic12\", \"Topic12\", \"Topic12\", \"Topic12\", \"Topic12\", \"Topic13\", \"Topic13\", \"Topic13\", \"Topic13\", \"Topic13\", \"Topic13\", \"Topic13\", \"Topic13\", \"Topic13\", \"Topic13\", \"Topic13\", \"Topic13\", \"Topic13\", \"Topic13\", \"Topic13\", \"Topic13\", \"Topic13\", \"Topic13\", \"Topic13\", \"Topic13\", \"Topic13\", \"Topic13\", \"Topic13\", \"Topic13\", \"Topic13\", \"Topic13\", \"Topic13\", \"Topic13\", \"Topic13\", \"Topic13\", \"Topic13\", \"Topic13\", \"Topic13\", \"Topic13\", \"Topic13\", \"Topic13\", \"Topic13\", \"Topic13\", \"Topic13\", \"Topic13\", \"Topic13\", \"Topic13\", \"Topic13\", \"Topic13\", \"Topic13\", \"Topic13\", \"Topic13\", \"Topic13\", \"Topic13\", \"Topic13\", \"Topic13\", \"Topic13\", \"Topic14\", \"Topic14\", \"Topic14\", \"Topic14\", \"Topic14\", \"Topic14\", \"Topic14\", \"Topic14\", \"Topic14\", \"Topic14\", \"Topic14\", \"Topic14\", \"Topic14\", \"Topic14\", \"Topic14\", \"Topic14\", \"Topic14\", \"Topic14\", \"Topic14\", \"Topic14\", \"Topic14\", \"Topic14\", \"Topic14\", \"Topic14\", \"Topic14\", \"Topic14\", \"Topic14\", \"Topic14\", \"Topic14\", \"Topic14\", \"Topic14\", \"Topic14\", \"Topic14\", \"Topic14\", \"Topic14\", \"Topic14\", \"Topic14\", \"Topic14\", \"Topic14\", \"Topic14\", \"Topic14\", \"Topic14\", \"Topic14\", \"Topic14\", \"Topic14\", \"Topic14\", \"Topic14\", \"Topic15\", \"Topic15\", \"Topic15\", \"Topic15\", \"Topic15\", \"Topic15\", \"Topic15\", \"Topic15\", \"Topic15\", \"Topic15\", \"Topic15\", \"Topic15\", \"Topic15\", \"Topic15\", \"Topic15\", \"Topic15\", \"Topic15\", \"Topic15\", \"Topic15\", \"Topic15\", \"Topic15\", \"Topic15\", \"Topic15\", \"Topic15\", \"Topic15\", \"Topic15\", \"Topic15\", \"Topic15\", \"Topic15\", \"Topic15\", \"Topic15\", \"Topic15\", \"Topic15\", \"Topic15\", \"Topic15\", \"Topic15\", \"Topic15\", \"Topic15\", \"Topic15\", \"Topic15\", \"Topic15\", \"Topic15\", \"Topic15\", \"Topic15\", \"Topic15\", \"Topic16\", \"Topic16\", \"Topic16\", \"Topic16\", \"Topic16\", \"Topic16\", \"Topic16\", \"Topic16\", \"Topic16\", \"Topic16\", \"Topic16\", \"Topic16\", \"Topic16\", \"Topic16\", \"Topic16\", \"Topic16\", \"Topic16\", \"Topic16\", \"Topic16\", \"Topic16\", \"Topic16\", \"Topic16\", \"Topic16\", \"Topic16\", \"Topic16\", \"Topic16\", \"Topic16\", \"Topic16\", \"Topic16\", \"Topic16\", \"Topic16\", \"Topic16\", \"Topic16\", \"Topic16\", \"Topic16\", \"Topic16\", \"Topic16\", \"Topic16\", \"Topic16\", \"Topic16\", \"Topic16\", \"Topic16\", \"Topic16\", \"Topic17\", \"Topic17\", \"Topic17\", \"Topic17\", \"Topic17\", \"Topic17\", \"Topic17\", \"Topic17\", \"Topic17\", \"Topic17\", \"Topic17\", \"Topic17\", \"Topic17\", \"Topic17\", \"Topic17\", \"Topic17\", \"Topic17\", \"Topic17\", \"Topic17\", \"Topic17\", \"Topic17\", \"Topic17\", \"Topic17\", \"Topic17\", \"Topic17\", \"Topic17\", \"Topic17\", \"Topic17\", \"Topic17\", \"Topic17\", \"Topic17\", \"Topic17\", \"Topic17\", \"Topic18\", \"Topic18\", \"Topic18\", \"Topic18\", \"Topic18\", \"Topic18\", \"Topic18\", \"Topic18\", \"Topic18\", \"Topic18\", \"Topic18\", \"Topic18\", \"Topic18\", \"Topic18\", \"Topic18\", \"Topic18\", \"Topic18\", \"Topic18\", \"Topic18\", \"Topic18\", \"Topic18\", \"Topic18\", \"Topic18\", \"Topic18\", \"Topic18\", \"Topic18\", \"Topic18\", \"Topic18\", \"Topic18\", \"Topic18\", \"Topic18\", \"Topic18\", \"Topic18\", \"Topic18\", \"Topic18\", \"Topic18\", \"Topic18\", \"Topic18\", \"Topic18\", \"Topic19\", \"Topic19\", \"Topic19\", \"Topic19\", \"Topic19\", \"Topic19\", \"Topic19\", \"Topic19\", \"Topic19\", \"Topic19\", \"Topic19\", \"Topic19\", \"Topic19\", \"Topic19\", \"Topic19\", \"Topic19\", \"Topic19\", \"Topic19\", \"Topic19\", \"Topic19\", \"Topic19\", \"Topic19\", \"Topic19\", \"Topic19\", \"Topic19\", \"Topic19\", \"Topic19\", \"Topic19\", \"Topic19\", \"Topic19\", \"Topic19\", \"Topic19\", \"Topic19\", \"Topic19\", \"Topic19\", \"Topic19\", \"Topic20\", \"Topic20\", \"Topic20\", \"Topic20\", \"Topic20\", \"Topic20\", \"Topic20\", \"Topic20\", \"Topic20\", \"Topic20\", \"Topic20\", \"Topic20\", \"Topic20\", \"Topic20\", \"Topic20\", \"Topic20\", \"Topic20\", \"Topic20\", \"Topic20\", \"Topic20\", \"Topic20\", \"Topic20\", \"Topic20\", \"Topic20\", \"Topic20\", \"Topic20\", \"Topic20\", \"Topic20\", \"Topic20\", \"Topic20\"], \"logprob\": [30.0, 29.0, 28.0, 27.0, 26.0, 25.0, 24.0, 23.0, 22.0, 21.0, 20.0, 19.0, 18.0, 17.0, 16.0, 15.0, 14.0, 13.0, 12.0, 11.0, 10.0, 9.0, 8.0, 7.0, 6.0, 5.0, 4.0, 3.0, 2.0, 1.0, -4.09499979019165, -4.861000061035156, -5.140200138092041, -5.372900009155273, -5.500699996948242, -5.544099807739258, -5.552700042724609, -5.586599826812744, -5.5960001945495605, -5.640200138092041, -5.642499923706055, -5.809000015258789, -5.853899955749512, -5.997300148010254, -6.138700008392334, -6.1834001541137695, -6.1930999755859375, -6.195700168609619, -6.196300029754639, -6.218400001525879, -6.24370002746582, -6.355400085449219, -6.438899993896484, -6.6066999435424805, -6.624000072479248, -6.680600166320801, -6.681399822235107, -6.756100177764893, -6.767600059509277, -6.776599884033203, -3.4398999214172363, -4.392199993133545, -4.78439998626709, -5.315999984741211, -3.6507999897003174, -4.165599822998047, -2.3794000148773193, -4.079400062561035, -3.6196999549865723, -4.1905999183654785, -3.6270999908447266, -4.791100025177002, -4.607999801635742, -4.948400020599365, -5.001800060272217, -2.9730000495910645, -4.379000186920166, -4.967800140380859, -4.411200046539307, -4.6458001136779785, -4.225399971008301, -4.588500022888184, -3.954200029373169, -4.37939977645874, -5.017000198364258, -4.650599956512451, -4.694499969482422, -4.798900127410889, -4.806000232696533, -4.643400192260742, -4.582300186157227, -4.894100189208984, -4.887800216674805, -3.6522998809814453, -4.681099891662598, -4.811100006103516, -4.9822001457214355, -5.008800029754639, -5.129000186920166, -5.142499923706055, -5.392300128936768, -5.418000221252441, -5.444900035858154, -5.6717000007629395, -5.674300193786621, -5.724599838256836, -5.728000164031982, -5.74970006942749, -5.759099960327148, -5.823800086975098, -5.830699920654297, -5.9394001960754395, -5.9770002365112305, -5.996099948883057, -6.000100135803223, -6.059199810028076, -6.0665998458862305, -6.073200225830078, -6.089099884033203, -6.104100227355957, -6.104700088500977, -6.1367998123168945, -6.174300193786621, -4.484300136566162, -5.1656999588012695, -4.84689998626709, -5.753499984741211, -4.8709001541137695, -4.679800033569336, -4.233699798583984, -5.80810022354126, -5.258800029754639, -4.452000141143799, -4.44980001449585, -4.68209981918335, -5.491600036621094, -4.098299980163574, -4.922699928283691, -5.247499942779541, -4.542500019073486, -4.985199928283691, -5.031899929046631, -5.16379976272583, -3.890399932861328, -4.69379997253418, -4.451200008392334, -4.949699878692627, -4.63539981842041, -4.6880998611450195, -4.922999858856201, -5.028800010681152, -4.9481000900268555, -5.010300159454346, -5.072700023651123, -5.099299907684326, -2.636899948120117, -2.9191999435424805, -3.3413000106811523, -3.3731000423431396, -3.979300022125244, -4.5954999923706055, -4.839600086212158, -5.034900188446045, -5.121200084686279, -5.338900089263916, -5.517600059509277, -5.613399982452393, -5.8242998123168945, -5.889900207519531, -6.43779993057251, -6.608799934387207, -6.884799957275391, -3.435800075531006, -6.951300144195557, -6.995100021362305, -7.110099792480469, -7.1859002113342285, -7.272600173950195, -3.122999906539917, -7.396200180053711, -7.4309000968933105, -7.608399868011475, -7.8790998458862305, -7.899799823760986, -2.7778000831604004, -3.5058000087738037, -3.634000062942505, -2.7876999378204346, -3.958699941635132, -2.9953999519348145, -2.853300094604492, -4.049799919128418, -3.920799970626831, -5.655900001525879, -2.8429999351501465, -3.16759991645813, -4.814499855041504, -4.391600131988525, -4.609300136566162, -4.335599899291992, -3.636399984359741, -2.9326999187469482, -3.9888999462127686, -4.3242998123168945, -3.8917999267578125, -3.749500036239624, -3.907099962234497, -4.463900089263916, -4.545899868011475, -4.6595001220703125, -4.695000171661377, -4.7469000816345215, -4.768599987030029, -4.7789998054504395, -4.886000156402588, -4.9096999168396, -4.911900043487549, -4.920100212097168, -4.967400074005127, -4.987500190734863, -4.993500232696533, -4.997900009155273, -5.076700210571289, -5.175000190734863, -5.198999881744385, -5.300899982452393, -5.392099857330322, -5.393099784851074, -5.420899868011475, -5.502999782562256, -5.512599945068359, -5.602799892425537, -5.648200035095215, -5.665299892425537, -5.692200183868408, -5.0279998779296875, -4.218299865722656, -4.001299858093262, -5.060500144958496, -4.124300003051758, -4.3850998878479, -4.1504998207092285, -4.496399879455566, -4.596799850463867, -4.411499977111816, -4.5578999519348145, -4.663599967956543, -3.955199956893921, -4.314799785614014, -4.692999839782715, -4.603799819946289, -4.472799777984619, -4.695400238037109, -4.844200134277344, -4.797699928283691, -4.80079984664917, -0.218299999833107, -5.398200035095215, -5.621500015258789, -5.661499977111816, -5.834400177001953, -5.938700199127197, -6.006400108337402, -6.147200107574463, -6.226799964904785, -6.436800003051758, -6.447999954223633, -6.727799892425537, -6.752799987792969, -6.865799903869629, -7.112599849700928, -7.628600120544434, -7.800600051879883, -7.882400035858154, -8.403400421142578, -9.514200210571289, -10.303000450134277, -3.198499917984009, -3.966399908065796, -4.397500038146973, -13.03600025177002, -13.049699783325195, -13.05090045928955, -13.051199913024902, -13.051199913024902, -13.051199913024902, -4.763599872589111, -4.84089994430542, -6.018099784851074, -6.054200172424316, -6.1707000732421875, -4.645599842071533, -5.719099998474121, -5.878900051116943, -5.742099761962891, -4.606500148773193, -4.647500038146973, -4.821000099182129, -4.843100070953369, -5.066800117492676, -5.224400043487549, -5.348299980163574, -5.373300075531006, -5.389200210571289, -5.399400234222412, -5.4670000076293945, -5.513400077819824, -5.560400009155273, -5.5644001960754395, -5.571000099182129, -5.628399848937988, -5.6381001472473145, -5.67140007019043, -5.690999984741211, -5.736199855804443, -5.775899887084961, -5.799200057983398, -5.8414998054504395, -5.877999782562256, -5.917699813842773, -5.953999996185303, -5.955999851226807, -5.9741997718811035, -5.984399795532227, -5.987400054931641, -5.861199855804443, -4.8007001876831055, -3.913300037384033, -5.0833001136779785, -5.042300224304199, -5.1768999099731445, -4.861700057983398, -5.575099945068359, -4.327199935913086, -4.775300025939941, -5.138999938964844, -5.173999786376953, -3.5464999675750732, -5.146200180053711, -5.128200054168701, -5.2052001953125, -5.018400192260742, -4.752600193023682, -4.52269983291626, -5.177299976348877, -5.127600193023682, -4.589900016784668, -4.147900104522705, -4.697500228881836, -3.615299940109253, -4.4039998054504395, -4.799600124359131, -4.42549991607666, -4.43720006942749, -4.865200042724609, -4.872499942779541, -4.974999904632568, -5.095399856567383, -5.103600025177002, -4.089700222015381, -4.126200199127197, -4.296299934387207, -4.305200099945068, -4.752099990844727, -4.774400234222412, -4.966400146484375, -4.968999862670898, -5.01800012588501, -5.089799880981445, -5.102700233459473, -5.118500232696533, -5.157400131225586, -5.165999889373779, -5.174200057983398, -5.2017998695373535, -5.269599914550781, -5.282100200653076, -5.306300163269043, -5.430600166320801, -5.434599876403809, -5.437600135803223, -5.437600135803223, -5.446000099182129, -5.474599838256836, -5.5106000900268555, -5.553599834442139, -5.579800128936768, -5.60699987411499, -5.635200023651123, -3.084199905395508, -5.4415998458862305, -4.412099838256836, -4.8221001625061035, -4.864500045776367, -4.927299976348877, -4.951700210571289, -4.710000038146973, -4.51230001449585, -4.70389986038208, -4.637199878692627, -5.0289998054504395, -4.867199897766113, -4.565400123596191, -4.9475998878479, -3.9879000186920166, -4.782599925994873, -4.938300132751465, -4.862400054931641, -5.004700183868408, -5.030099868774414, -3.460400104522705, -3.863600015640259, -3.958199977874756, -4.378399848937988, -4.523399829864502, -4.664599895477295, -4.696400165557861, -4.705699920654297, -4.794099807739258, -4.8983001708984375, -4.911399841308594, -4.922699928283691, -4.993199825286865, -5.042500019073486, -5.051799774169922, -5.09119987487793, -5.107399940490723, -5.254499912261963, -5.263999938964844, -5.309899806976318, -5.43149995803833, -5.433499813079834, -5.450699806213379, -5.52370023727417, -5.524499893188477, -5.541999816894531, -5.6483001708984375, -5.662300109863281, -5.67519998550415, -5.735799789428711, -4.502399921417236, -4.656300067901611, -3.6839001178741455, -3.8940999507904053, -5.157400131225586, -4.855299949645996, -5.035900115966797, -4.992199897766113, -4.865900039672852, -5.267499923706055, -4.116399765014648, -4.5742998123168945, -4.041399955749512, -4.85290002822876, -4.61269998550415, -4.0046000480651855, -4.552599906921387, -4.904600143432617, -4.621600151062012, -4.705900192260742, -4.5507001876831055, -4.5995001792907715, -4.820199966430664, -3.50600004196167, -3.7783000469207764, -3.7901999950408936, -3.8183000087738037, -4.383699893951416, -4.394700050354004, -4.402500152587891, -4.467899799346924, -4.495200157165527, -4.53000020980835, -4.718599796295166, -4.743299961090088, -4.803699970245361, -4.872700214385986, -5.073400020599365, -5.083000183105469, -5.146299839019775, -5.190400123596191, -5.201200008392334, -5.2245001792907715, -5.296000003814697, -5.331500053405762, -5.430600166320801, -5.444799900054932, -5.4741997718811035, -5.513999938964844, -5.612400054931641, -5.621500015258789, -5.651400089263916, -5.702400207519531, -4.769499778747559, -3.9911999702453613, -4.656199932098389, -5.154799938201904, -4.927999973297119, -4.524899959564209, -3.371999979019165, -4.094699859619141, -4.438199996948242, -4.357500076293945, -4.960999965667725, -4.7133002281188965, -4.85099983215332, -4.48769998550415, -3.905100107192993, -4.666600227355957, -4.075699806213379, -4.38100004196167, -4.083799839019775, -4.4953999519348145, -4.369900226593018, -4.79040002822876, -3.8552000522613525, -4.032599925994873, -4.190299987792969, -4.21589994430542, -4.267499923706055, -4.572999954223633, -4.656000137329102, -4.742300033569336, -4.7743000984191895, -4.867700099945068, -4.9045000076293945, -4.999100208282471, -5.030300140380859, -5.05620002746582, -5.302700042724609, -5.415500164031982, -5.438000202178955, -5.457099914550781, -5.488800048828125, -5.579500198364258, -5.61460018157959, -5.629899978637695, -5.660099983215332, -5.663899898529053, -5.706500053405762, -5.712800025939941, -5.72160005569458, -5.728099822998047, -5.7769999504089355, -5.80079984664917, -4.571100234985352, -4.284299850463867, -4.6006999015808105, -4.548299789428711, -4.453000068664551, -3.6217000484466553, -4.807499885559082, -3.750200033187866, -3.4986000061035156, -5.201300144195557, -4.693999767303467, -3.8489999771118164, -4.565400123596191, -4.836599826812744, -4.85099983215332, -4.817299842834473, -4.543600082397461, -4.603300094604492, -4.376299858093262, -4.52269983291626, -4.587699890136719, -4.792799949645996, -4.678699970245361, -4.804699897766113, -3.779599905014038, -3.947000026702881, -3.947200059890747, -4.160699844360352, -4.231200218200684, -4.444200038909912, -4.445899963378906, -4.532100200653076, -4.5441999435424805, -4.5553998947143555, -4.578400135040283, -4.59250020980835, -4.621300220489502, -4.7266998291015625, -4.753499984741211, -4.835700035095215, -4.84660005569458, -4.849299907684326, -4.881100177764893, -4.882500171661377, -4.883299827575684, -4.896399974822998, -4.913099765777588, -4.998199939727783, -5.061200141906738, -5.193999767303467, -5.198599815368652, -5.240200042724609, -5.274099826812744, -5.30079984664917, -4.130899906158447, -3.9779999256134033, -4.553500175476074, -4.513700008392334, -4.399799823760986, -4.487500190734863, -4.409299850463867, -3.648400068283081, -4.745299816131592, -4.553400039672852, -4.602099895477295, -4.711699962615967, -4.8267998695373535, -2.3701999187469482, -3.7667999267578125, -3.930500030517578, -3.9593000411987305, -4.371799945831299, -4.614099979400635, -4.736199855804443, -4.774899959564209, -4.8171000480651855, -4.826600074768066, -4.908899784088135, -5.049300193786621, -5.096700191497803, -5.14169979095459, -5.215700149536133, -5.331500053405762, -5.362500190734863, -5.392199993133545, -5.429900169372559, -5.440700054168701, -5.4552998542785645, -5.488699913024902, -5.54449987411499, -5.591100215911865, -5.593299865722656, -5.607999801635742, -5.611000061035156, -5.622000217437744, -5.62529993057251, -5.747099876403809, -1.1582000255584717, -2.9600000381469727, -2.7604000568389893, -5.473299980163574, -5.128399848937988, -4.64109992980957, -5.127699851989746, -3.8954999446868896, -3.9576001167297363, -3.5501999855041504, -4.5366997718811035, -5.011899948120117, -5.285200119018555, -3.436000108718872, -4.021699905395508, -4.117400169372559, -4.154699802398682, -4.203499794006348, -4.354000091552734, -4.458799839019775, -4.493199825286865, -4.511000156402588, -4.617000102996826, -4.763299942016602, -4.8302001953125, -4.877699851989746, -4.919300079345703, -4.958700180053711, -5.017499923706055, -5.062699794769287, -5.089900016784668, -5.110199928283691, -5.1153998374938965, -5.146900177001953, -5.154200077056885, -5.195400238037109, -5.2600998878479, -5.287199974060059, -5.311999797821045, -5.331500053405762, -5.348199844360352, -5.375999927520752, -5.398600101470947, -4.7754998207092285, -3.928499937057495, -3.9131999015808105, -4.6905999183654785, -4.881400108337402, -3.9374001026153564, -3.5445001125335693, -4.592400074005127, -3.9802000522613525, -4.565999984741211, -3.961899995803833, -4.637499809265137, -4.251200199127197, -4.12939977645874, -4.10860013961792, -4.427499771118164, -4.520400047302246, -4.339200019836426, -4.805300235748291, -4.723899841308594, -4.728600025177002, -4.725200176239014, -3.459199905395508, -3.7671000957489014, -4.0335001945495605, -4.053500175476074, -4.0903000831604, -4.139100074768066, -4.161399841308594, -4.258600234985352, -4.314799785614014, -4.379300117492676, -4.436100006103516, -4.5971999168396, -4.637599945068359, -4.656099796295166, -4.775599956512451, -4.811999797821045, -4.813300132751465, -4.883900165557861, -4.897299766540527, -4.912099838256836, -4.918399810791016, -4.918900012969971, -4.929200172424316, -4.950200080871582, -4.962100028991699, -5.029699802398682, -5.053699970245361, -5.055699825286865, -5.14769983291626, -5.174499988555908, -3.3975000381469727, -3.769200086593628, -4.387700080871582, -3.6217000484466553, -4.269499778747559, -4.598700046539307, -4.298600196838379, -3.8096001148223877, -4.841000080108643, -4.711400032043457, -4.665999889373779, -4.480800151824951, -4.594200134277344, -4.347599983215332, -4.5100998878479, -4.698599815368652, -4.717800140380859, -2.7314000129699707, -3.0571000576019287, -3.1405999660491943, -3.202399969100952, -3.5662999153137207, -3.6717000007629395, -3.710099935531616, -3.746999979019165, -3.7657999992370605, -3.8780999183654785, -4.086400032043457, -4.463900089263916, -4.53439998626709, -4.595399856567383, -4.612800121307373, -4.617700099945068, -4.631700038909912, -4.729100227355957, -4.8632001876831055, -4.915900230407715, -4.974800109863281, -4.996699810028076, -5.094699859619141, -5.160200119018555, -5.188499927520752, -5.269400119781494, -5.302199840545654, -5.30810022354126, -5.362400054931641, -5.381400108337402, -2.1851000785827637, -3.762200117111206, -4.4720001220703125, -4.077899932861328, -3.8873000144958496, -4.52209997177124, -3.9347000122070312, -4.8267998695373535, -4.118000030517578, -4.35699987411499, -4.5081000328063965, -4.247799873352051, -4.255300045013428, -4.4095001220703125, -4.4344000816345215, -2.497999906539917, -2.573499917984009, -2.75570011138916, -2.9532999992370605, -3.7639000415802, -4.043700218200684, -4.15939998626709, -4.509900093078613, -4.528900146484375, -4.535699844360352, -4.632199764251709, -4.6417999267578125, -4.658899784088135, -4.700500011444092, -4.718200206756592, -4.8506999015808105, -4.861599922180176, -4.9492998123168945, -4.9868998527526855, -4.99399995803833, -5.13700008392334, -5.205100059509277, -5.227399826049805, -5.282599925994873, -5.295199871063232, -5.341100215911865, -5.362800121307373, -5.5046000480651855, -5.695199966430664, -5.786600112915039, -3.9853999614715576, -4.700399875640869, -2.9646999835968018, -4.272600173950195, -4.246799945831299, -3.0608999729156494, -4.5269999504089355, -3.802299976348877, -3.658400058746338, -4.7581000328063965, -4.3404998779296875, -3.826200008392334, -4.603799819946289, -1.028499960899353, -1.745300054550171, -4.149099826812744, -5.564199924468994, -6.431399822235107, -3.0241000652313232, -6.929500102996826, -1.930400013923645, -2.165299892425537, -4.7164998054504395, -3.7174999713897705, -12.292900085449219, -12.29319953918457, -12.295599937438965, -12.295499801635742, -12.296099662780762, -12.296799659729004, -12.297200202941895, -12.29699993133545, -12.297300338745117, -12.297200202941895, -12.297300338745117, -12.297300338745117, -12.297300338745117, -12.297300338745117, -12.29740047454834, -12.297300338745117, -12.29740047454834, -12.29740047454834, -12.29740047454834, -12.297300338745117, -12.296199798583984, -12.29740047454834, -2.555999994277954, -3.365999937057495, -3.408900022506714, -3.7160000801086426, -3.716900110244751, -3.7421998977661133, -3.81469988822937, -3.8201000690460205, -3.9361000061035156, -3.9523000717163086, -4.079100131988525, -4.167399883270264, -4.194699764251709, -4.305500030517578, -4.307199954986572, -4.361199855804443, -4.41510009765625, -4.458099842071533, -4.512899875640869, -4.6118998527526855, -4.62060022354126, -4.6768999099731445, -4.707799911499023, -4.712100028991699, -4.713900089263916, -4.718100070953369, -4.723400115966797, -4.817599773406982, -4.837900161743164, -4.8495001792907715, -3.787400007247925, -3.3624000549316406, -4.262199878692627, -4.174300193786621, -4.350900173187256, -4.048799991607666, -4.56790018081665, -4.47130012512207, -4.4644999504089355, -2.062299966812134, -2.267199993133545, -2.377000093460083, -2.6563000679016113, -2.9240000247955322, -3.3083999156951904, -3.6556999683380127, -3.6742000579833984, -3.8973000049591064, -3.9686999320983887, -4.159200191497803, -4.178899765014648, -4.271500110626221, -4.344600200653076, -4.477799892425537, -4.511000156402588, -4.598499774932861, -4.827499866485596, -4.872900009155273, -4.929299831390381, -4.933199882507324, -4.944300174713135, -5.031700134277344, -5.130000114440918, -5.240600109100342, -5.2829999923706055, -5.492599964141846, -5.577899932861328, -5.614099979400635, -5.621300220489502, -3.617000102996826, -3.3840999603271484, -4.536799907684326, -3.899399995803833, -4.239299774169922, -5.161900043487549, -0.7727000117301941, -3.532900094985962, -3.541599988937378, -4.025199890136719, -4.1331000328063965, -4.2581000328063965, -4.368000030517578, -4.411399841308594, -4.5665998458862305, -4.647500038146973, -4.672599792480469, -4.68310022354126, -4.743899822235107, -4.788300037384033, -4.856100082397461, -4.8643999099731445, -5.086699962615967, -5.117400169372559, -5.2210001945495605, -5.392199993133545, -5.401800155639648, -5.874199867248535, -5.884900093078613, -5.928400039672852, -6.7855000495910645, -4.3769001960754395, -3.7207000255584717, -5.326200008392334, -3.462599992752075, -11.514300346374512], \"loglift\": [30.0, 29.0, 28.0, 27.0, 26.0, 25.0, 24.0, 23.0, 22.0, 21.0, 20.0, 19.0, 18.0, 17.0, 16.0, 15.0, 14.0, 13.0, 12.0, 11.0, 10.0, 9.0, 8.0, 7.0, 6.0, 5.0, 4.0, 3.0, 2.0, 1.0, 2.025, 2.0243, 2.0239, 2.0234, 2.0231, 2.0229, 2.0229, 2.0228, 2.0228, 2.0227, 2.0227, 2.0221, 2.022, 2.0214, 2.0207, 2.0205, 2.0205, 2.0204, 2.0204, 2.0203, 2.0202, 2.0195, 2.019, 2.0178, 2.0176, 2.0172, 2.0172, 2.0165, 2.0164, 2.0163, 1.9793, 1.9312, 1.9184, 1.9264, 1.7424, 1.777, 1.5769, 1.6928, 1.6217, 1.7042, 1.5671, 1.7678, 1.7164, 1.7168, 1.7027, 1.1188, 1.5237, 1.6816, 1.4555, 1.4902, 1.2484, 1.4277, 0.7559, 1.0783, 1.5729, 1.079, 1.043, 1.1595, 1.1338, 0.6953, 0.3958, 1.0077, 0.8521, 2.1582, 2.1573, 2.1572, 2.1569, 2.1568, 2.1566, 2.1566, 2.156, 2.1559, 2.1558, 2.1551, 2.1551, 2.1549, 2.1549, 2.1548, 2.1548, 2.1545, 2.1545, 2.154, 2.1538, 2.1537, 2.1537, 2.1534, 2.1534, 2.1533, 2.1533, 2.1532, 2.1532, 2.153, 2.1528, 2.1336, 2.0914, 2.0622, 2.1279, 2.052, 2.0289, 1.9332, 2.1192, 1.9546, 1.7137, 1.6615, 1.7137, 1.9937, 1.2404, 1.6521, 1.8281, 1.3242, 1.5619, 1.584, 1.6932, 0.2015, 1.0358, 0.743, 1.3237, 0.7579, 0.7856, 1.0354, 0.9375, 0.5097, 0.2311, 0.6672, 1.15, 2.2377, 2.2376, 2.2375, 2.2375, 2.2372, 2.2366, 2.2362, 2.2358, 2.2357, 2.2351, 2.2346, 2.2343, 2.2334, 2.2331, 2.2297, 2.2281, 2.2251, 2.2246, 2.2242, 2.2236, 2.2218, 2.2206, 2.219, 2.218, 2.2166, 2.2158, 2.2116, 2.2036, 2.2029, 2.2, 2.1821, 2.1814, 2.1599, 2.1728, 2.1242, 2.0722, 2.1022, 2.0892, 2.1328, 1.8671, 1.8104, 1.994, 1.9341, 1.9277, 1.8604, 1.5645, 1.0237, 1.2801, 0.8994, 0.2, 2.2489, 2.2488, 2.2483, 2.2482, 2.2481, 2.248, 2.2479, 2.2479, 2.2479, 2.2477, 2.2477, 2.2477, 2.2476, 2.2476, 2.2475, 2.2475, 2.2475, 2.2473, 2.2471, 2.2471, 2.2468, 2.2465, 2.2465, 2.2465, 2.2462, 2.2462, 2.2459, 2.2457, 2.2456, 2.2455, 2.2184, 2.1685, 2.128, 2.1951, 2.0255, 2.0126, 1.9459, 2.0212, 1.9939, 1.9208, 1.94, 1.9836, 1.4435, 1.5377, 1.8756, 1.5439, 1.2646, 1.6635, 1.7852, 1.0293, 0.4229, 2.555, 2.5513, 2.5504, 2.5502, 2.5493, 2.5486, 2.5482, 2.5472, 2.5465, 2.5445, 2.5444, 2.541, 2.5406, 2.5389, 2.5345, 2.5208, 2.5146, 2.5112, 2.4823, 2.3487, 2.1467, 2.0705, 1.6977, 1.5579, 0.3852, 0.3728, 0.3721, 0.3719, 0.3719, 0.3719, 0.1618, 0.1372, 0.1338, -0.3663, -0.3553, -0.6893, -0.7413, -0.6552, -1.032, 2.6294, 2.6293, 2.6289, 2.6289, 2.6283, 2.6277, 2.6272, 2.6271, 2.6271, 2.627, 2.6267, 2.6265, 2.6263, 2.6263, 2.6262, 2.6259, 2.6259, 2.6257, 2.6256, 2.6253, 2.6251, 2.6249, 2.6246, 2.6244, 2.6241, 2.6238, 2.6238, 2.6237, 2.6236, 2.6236, 2.6201, 2.5706, 2.5105, 2.5391, 2.5135, 2.5022, 2.4438, 2.5673, 2.308, 2.4009, 2.4727, 2.4727, 2.016, 2.4584, 2.3976, 2.3961, 2.2883, 2.0935, 1.9089, 2.3592, 2.32, 1.8662, 1.3099, 1.8283, 0.4766, 1.3681, 1.8376, 1.3143, 1.2924, 1.6411, 1.5857, 1.6293, 0.8275, 0.8627, 2.986, 2.986, 2.9857, 2.9856, 2.9845, 2.9844, 2.9837, 2.9837, 2.9835, 2.9832, 2.9831, 2.983, 2.9828, 2.9828, 2.9828, 2.9826, 2.9823, 2.9822, 2.9821, 2.9813, 2.9813, 2.9813, 2.9813, 2.9812, 2.981, 2.9808, 2.9805, 2.9803, 2.9801, 2.9799, 2.9508, 2.9552, 2.7812, 2.8336, 2.7254, 2.7316, 2.6247, 2.3482, 2.0625, 2.2181, 1.9578, 2.4233, 2.1669, 1.6003, 2.2935, 0.1039, 1.3843, 1.7009, 0.8774, 1.6882, 1.5993, 3.0456, 3.0451, 3.0449, 3.0441, 3.0438, 3.0433, 3.0432, 3.0432, 3.0429, 3.0425, 3.0425, 3.0424, 3.0421, 3.0419, 3.0419, 3.0417, 3.0416, 3.0408, 3.0408, 3.0405, 3.0397, 3.0397, 3.0396, 3.0391, 3.0391, 3.0389, 3.0381, 3.038, 3.0379, 3.0373, 2.9717, 2.9524, 2.8657, 2.8336, 2.9743, 2.9201, 2.9428, 2.9339, 2.871, 2.9491, 2.2926, 2.4315, 1.8985, 2.6332, 2.2744, 1.3942, 1.6967, 2.5584, 1.7041, 1.9333, 0.788, 0.3482, 1.0323, 3.1596, 3.1592, 3.1592, 3.1592, 3.158, 3.158, 3.158, 3.1578, 3.1577, 3.1576, 3.157, 3.1569, 3.1566, 3.1563, 3.1554, 3.1553, 3.155, 3.1547, 3.1547, 3.1545, 3.1541, 3.1538, 3.1531, 3.153, 3.1528, 3.1524, 3.1516, 3.1515, 3.1512, 3.1507, 3.1314, 3.0793, 3.0384, 3.0745, 3.0191, 2.8962, 2.5508, 2.7175, 2.7878, 2.7121, 2.9507, 2.7683, 2.8699, 2.536, 1.9219, 2.5058, 1.3981, 1.8877, 1.3149, 1.9362, 0.8714, 1.8071, 3.2064, 3.2061, 3.2057, 3.2057, 3.2055, 3.2047, 3.2044, 3.204, 3.2039, 3.2035, 3.2033, 3.2029, 3.2027, 3.2026, 3.201, 3.2002, 3.2, 3.1999, 3.1996, 3.1988, 3.1985, 3.1984, 3.1981, 3.198, 3.1976, 3.1975, 3.1974, 3.1974, 3.1968, 3.1966, 3.151, 3.1013, 3.0881, 3.0058, 2.9238, 2.6881, 2.9792, 2.6116, 2.4206, 3.0451, 2.8091, 2.3911, 2.7034, 2.7623, 2.7392, 2.6999, 2.4176, 2.4549, 2.1457, 2.0073, 1.8382, 2.4273, 1.5705, 1.4639, 3.313, 3.3127, 3.3127, 3.3122, 3.312, 3.3114, 3.3114, 3.3111, 3.311, 3.311, 3.3109, 3.3109, 3.3107, 3.3103, 3.3102, 3.3098, 3.3098, 3.3097, 3.3096, 3.3096, 3.3096, 3.3095, 3.3094, 3.309, 3.3086, 3.3077, 3.3077, 3.3074, 3.3071, 3.3069, 3.1574, 3.0285, 3.0655, 2.9862, 2.9097, 2.9412, 2.8467, 1.6903, 2.9269, 2.3496, 2.2529, 2.3224, 2.71, 3.456, 3.4546, 3.4542, 3.4542, 3.453, 3.452, 3.4514, 3.4512, 3.451, 3.4509, 3.4505, 3.4496, 3.4492, 3.4489, 3.4483, 3.4473, 3.447, 3.4467, 3.4464, 3.4463, 3.4461, 3.4458, 3.4451, 3.4446, 3.4446, 3.4444, 3.4444, 3.4442, 3.4442, 3.4426, 3.3913, 2.9954, 2.9037, 3.3713, 3.0995, 2.4449, 2.9484, 1.224, 1.2434, 0.5416, 1.4732, 1.7965, 1.3442, 3.5758, 3.5745, 3.5743, 3.5741, 3.574, 3.5734, 3.573, 3.5729, 3.5728, 3.5723, 3.5715, 3.5711, 3.5707, 3.5705, 3.5702, 3.5698, 3.5694, 3.5692, 3.569, 3.569, 3.5687, 3.5687, 3.5683, 3.5677, 3.5674, 3.5672, 3.567, 3.5668, 3.5665, 3.5663, 3.5662, 3.4752, 3.4335, 3.436, 3.4594, 3.1091, 2.9359, 3.3054, 3.016, 3.2475, 2.9047, 3.2782, 2.973, 2.6791, 2.5932, 2.923, 2.8659, 1.5133, 2.9917, 2.1375, 1.9186, 1.404, 3.7314, 3.7307, 3.7299, 3.7298, 3.7297, 3.7295, 3.7295, 3.7291, 3.7288, 3.7286, 3.7283, 3.7274, 3.7272, 3.7271, 3.7263, 3.726, 3.726, 3.7255, 3.7254, 3.7253, 3.7252, 3.7252, 3.7252, 3.725, 3.7249, 3.7243, 3.7241, 3.7241, 3.7232, 3.7229, 3.6725, 3.5857, 3.5735, 3.3796, 3.5, 3.5685, 3.3567, 2.9614, 3.6489, 3.4358, 3.3046, 2.7874, 2.7068, 1.7488, 2.0269, 2.9372, 2.6977, 3.8747, 3.8743, 3.8741, 3.874, 3.8733, 3.873, 3.8729, 3.8728, 3.8728, 3.8724, 3.8716, 3.8698, 3.8694, 3.869, 3.8689, 3.8688, 3.8687, 3.868, 3.8669, 3.8664, 3.8659, 3.8657, 3.8646, 3.8639, 3.8636, 3.8625, 3.8621, 3.862, 3.8613, 3.861, 3.8204, 3.5814, 3.6104, 3.4674, 3.1987, 3.4386, 3.0515, 3.5523, 1.7838, 2.3359, 2.578, 1.6047, 1.1435, 1.7382, -0.3425, 3.9848, 3.9847, 3.9845, 3.9843, 3.9825, 3.9814, 3.9809, 3.9788, 3.9787, 3.9787, 3.978, 3.9779, 3.9777, 3.9774, 3.9773, 3.9761, 3.976, 3.9751, 3.9747, 3.9746, 3.9729, 3.972, 3.9717, 3.9709, 3.9707, 3.97, 3.9697, 3.9672, 3.9634, 3.9613, 3.906, 3.8167, 3.4158, 3.4815, 3.4468, 2.5017, 3.3144, 2.3454, 1.8153, 3.3366, 2.5631, 0.2657, 1.5075, 4.0019, 4.0016, 3.9972, 3.9823, 3.9557, 3.931, 3.9269, 3.2933, 3.0356, 2.6272, 1.208, 1.1294, 1.1292, 1.1272, 1.127, 1.1267, 1.1261, 1.126, 1.1259, 1.1259, 1.1258, 1.1258, 1.1258, 1.1258, 1.1258, 1.1258, 1.1258, 1.1258, 1.1258, 1.1258, 1.1258, 1.125, 1.1256, 4.1331, 4.1317, 4.1315, 4.1306, 4.1306, 4.1305, 4.1302, 4.1302, 4.1297, 4.1296, 4.129, 4.1285, 4.1284, 4.1277, 4.1277, 4.1273, 4.127, 4.1266, 4.1262, 4.1254, 4.1253, 4.1248, 4.1245, 4.1245, 4.1245, 4.1244, 4.1244, 4.1234, 4.1232, 4.123, 4.0475, 4.0132, 4.0449, 4.0171, 4.0337, 3.5456, 3.965, 1.0913, -0.3726, 4.698, 4.6977, 4.6975, 4.697, 4.6963, 4.695, 4.6932, 4.6931, 4.6915, 4.691, 4.6893, 4.6891, 4.6881, 4.6872, 4.6855, 4.6851, 4.6838, 4.6799, 4.679, 4.6778, 4.6777, 4.6775, 4.6755, 4.6731, 4.6701, 4.6688, 4.6619, 4.6586, 4.6572, 4.6569, 4.5959, 4.0022, 4.0248, 3.6065, 1.7663, 2.1448, 4.8815, 4.8756, 4.8756, 4.8716, 4.8705, 4.8689, 4.8674, 4.8668, 4.8643, 4.8628, 4.8623, 4.8621, 4.8609, 4.8599, 4.8584, 4.8582, 4.8524, 4.8515, 4.8482, 4.842, 4.8417, 4.8181, 4.8175, 4.8147, 4.7301, 4.5005, 4.4627, 3.7482, 3.3459, 1.908]}, \"token.table\": {\"Topic\": [19, 5, 5, 10, 8, 11, 18, 3, 11, 3, 5, 20, 3, 3, 2, 3, 10, 6, 14, 3, 4, 12, 14, 3, 13, 14, 20, 11, 18, 14, 2, 2, 2, 2, 7, 9, 15, 20, 5, 3, 4, 6, 14, 12, 20, 13, 18, 16, 14, 18, 18, 1, 16, 6, 14, 3, 18, 14, 3, 5, 12, 18, 14, 17, 3, 20, 19, 14, 2, 14, 3, 4, 12, 16, 6, 15, 15, 11, 14, 15, 12, 14, 20, 18, 18, 14, 7, 19, 3, 14, 20, 2, 11, 14, 14, 14, 3, 13, 3, 3, 3, 14, 12, 20, 7, 14, 3, 5, 17, 3, 3, 4, 9, 20, 15, 20, 5, 18, 14, 6, 16, 16, 16, 20, 1, 11, 18, 4, 8, 14, 18, 5, 6, 14, 1, 12, 5, 15, 7, 5, 5, 7, 14, 20, 18, 9, 20, 5, 18, 9, 16, 1, 3, 8, 18, 3, 15, 3, 3, 12, 20, 14, 13, 16, 14, 19, 18, 14, 11, 14, 4, 5, 18, 3, 4, 5, 13, 3, 4, 18, 18, 12, 16, 6, 19, 11, 11, 5, 3, 8, 11, 14, 3, 13, 20, 3, 20, 7, 3, 18, 6, 9, 12, 6, 7, 7, 10, 10, 2, 7, 11, 9, 4, 2, 9, 6, 1, 6, 1, 12, 7, 15, 10, 9, 10, 10, 12, 10, 2, 4, 6, 8, 4, 5, 1, 2, 10, 11, 10, 13, 19, 7, 8, 11, 5, 4, 10, 14, 7, 10, 4, 9, 13, 2, 16, 8, 12, 5, 2, 3, 4, 15, 1, 2, 16, 10, 9, 16, 12, 7, 2, 7, 2, 9, 1, 1, 1, 2, 4, 9, 1, 8, 10, 11, 19, 9, 13, 6, 7, 20, 11, 2, 4, 10, 14, 12, 4, 9, 4, 7, 10, 16, 2, 4, 12, 13, 13, 13, 1, 9, 3, 12, 9, 11, 9, 12, 19, 15, 6, 8, 20, 1, 2, 6, 8, 9, 10, 2, 6, 8, 10, 14, 1, 11, 18, 6, 10, 9, 2, 6, 7, 11, 9, 2, 12, 8, 11, 6, 11, 11, 2, 7, 8, 1, 12, 4, 4, 6, 1, 2, 4, 6, 11, 9, 19, 13, 4, 9, 13, 2, 2, 8, 9, 11, 1, 6, 7, 11, 7, 8, 9, 15, 5, 15, 4, 4, 6, 7, 10, 1, 8, 15, 1, 11, 8, 11, 8, 2, 6, 7, 11, 13, 14, 13, 16, 8, 11, 7, 15, 1, 2, 3, 4, 5, 12, 6, 8, 13, 4, 10, 14, 4, 8, 13, 19, 2, 6, 18, 7, 7, 19, 1, 10, 8, 9, 13, 8, 9, 13, 1, 1, 11, 19, 11, 8, 4, 4, 18, 16, 6, 1, 2, 18, 1, 2, 19, 9, 20, 2, 14, 15, 19, 15, 8, 20, 2, 3, 4, 5, 9, 17, 7, 12, 2, 6, 13, 1, 4, 10, 14, 5, 8, 7, 20, 4, 5, 8, 1, 2, 3, 4, 6, 8, 16, 7, 8, 19, 15, 4, 18, 10, 2, 4, 9, 10, 7, 8, 2, 8, 10, 15, 2, 4, 18, 19, 4, 5, 13, 5, 12, 2, 6, 2, 6, 7, 8, 11, 6, 2, 7, 10, 9, 12, 2, 2, 16, 1, 4, 15, 6, 15, 9, 13, 10, 6, 10, 13, 4, 1, 2, 4, 6, 8, 11, 7, 8, 13, 1, 2, 4, 7, 9, 10, 14, 10, 9, 6, 7, 8, 11, 4, 8, 1, 13, 10, 17, 16, 11, 1, 7, 1, 4, 6, 16, 5, 2, 11, 1, 2, 6, 8, 10, 11, 16, 1, 6, 8, 16, 1, 2, 4, 9, 16, 4, 8, 11, 1, 7, 8, 4, 11, 2, 6, 8, 18, 1, 8, 10, 11, 1, 8, 2, 6, 3, 13, 15, 15, 1, 1, 2, 6, 8, 1, 2, 6, 15, 12, 2, 9, 1, 2, 4, 19, 4, 6, 8, 9, 13, 16, 6, 16, 16, 6, 1, 6, 16, 12, 7, 15, 6, 14, 13, 2, 4, 7, 6, 13, 4, 7, 9, 10, 11, 13, 14, 6, 8, 13, 4, 4, 8, 14, 10, 16, 11, 6, 15, 13, 2, 4, 9, 14, 4, 15, 3, 2, 1, 2, 2, 7, 8, 10, 14, 7, 3, 20, 4, 6, 1, 6, 11, 1, 2, 4, 11, 2, 4, 6, 7, 9, 10, 13, 2, 4, 6, 18, 8, 12, 1, 2, 6, 7, 9, 11, 6, 8, 1, 2, 4, 11, 4, 7, 7, 10, 13, 8, 13, 7, 2, 11, 16, 2, 6, 19, 1, 2, 4, 9, 11, 4, 6, 14, 1, 2, 8, 1, 2, 6, 11, 4, 2, 2, 15, 1, 2, 4, 9, 20, 19, 2, 4, 6, 1, 6, 9, 13, 16, 18, 1, 2, 3, 5, 15, 4, 9, 15, 1, 10, 4, 9, 15, 6, 2, 6, 11, 4, 9, 1, 15, 17, 1, 2, 8, 10, 10, 7, 2, 4, 9, 20, 6, 7, 8, 11, 2, 8, 11, 11, 1, 6, 9, 18, 12, 4, 4, 13, 19, 2, 1, 6, 15, 19, 18, 2, 20, 2, 12, 5, 4, 11, 17, 11, 20, 14, 16, 2, 1, 2, 4, 8, 9, 20, 1, 2, 4, 6, 8, 9, 15, 6, 12, 6, 13, 3, 3, 1, 4, 6, 8, 9, 10, 11, 16, 3, 12, 1, 14, 8, 18, 1, 11, 16, 7, 9, 14, 7, 1, 15, 1, 4, 6, 9, 15, 2, 6, 8, 14, 9, 13, 18, 10, 9, 11, 10, 12, 19, 18, 3, 5, 17, 15, 4, 11, 14, 13, 2, 6, 7, 9, 13, 8, 10, 1, 2, 9, 15, 10, 1, 2, 7, 8, 11, 18, 13, 14, 2, 8, 10, 9, 19, 1, 16, 2, 16, 15, 1, 2, 4, 6, 7, 8, 11, 14, 14, 16, 1, 2, 7, 10, 16, 7, 11, 13, 3, 1, 2, 4, 9, 10, 7, 10, 1, 2, 6, 7, 13, 15, 14, 6, 13, 9, 11, 14, 4, 7, 1, 9, 10, 1, 8, 8, 1, 2, 4, 19, 1, 2, 4, 10, 15, 5, 10, 8, 9, 10, 9, 19, 4, 13, 13, 6, 8, 11, 8, 4, 7, 8, 13, 4, 8, 6, 14, 9, 5, 12, 2, 9, 2, 4, 8, 3, 12, 17, 19, 2, 13, 11, 13, 13, 16, 13, 19, 14, 1, 7, 10, 4, 1, 2, 7, 8, 10, 4, 7, 10, 6, 2, 8, 2, 6, 7, 11, 13, 7, 2, 4, 1, 14, 1, 2, 6, 7, 8, 11, 9, 12, 18, 6, 11, 7, 10, 17, 1, 4, 15, 16, 20, 1, 2, 3, 4, 6, 7, 8, 12, 14, 15, 16, 18, 19, 1, 8, 4, 14, 18, 6, 7, 12, 1, 2, 6, 7, 11, 17, 11, 13, 18, 8, 7, 8, 18, 8, 16, 4, 1, 19, 6, 1, 2, 4, 7, 10, 13, 16, 7, 9, 11, 1, 2, 6, 9, 10, 1, 2, 4, 7, 11, 14, 2, 8, 10, 10, 16, 12, 1, 2, 4, 11, 17, 15, 19, 13, 9, 19, 13, 2, 7, 8, 11, 10, 15, 15, 13, 11, 1, 6, 1, 2, 9, 4, 7, 12, 18, 12, 1, 13, 19, 1, 16, 14, 16, 16, 1, 4, 6, 16, 2, 7, 8, 11, 7, 13, 6, 1, 10, 2, 8, 14, 4, 7, 10, 14, 19, 4, 7, 8, 15, 1, 2, 4, 8, 9, 18, 19, 16, 2, 4, 8, 9, 13, 15, 1, 2, 3, 5, 6, 1, 2, 6, 11, 8, 8, 8, 16, 15, 9, 1, 2, 4, 6, 4, 8, 4, 10, 6, 14, 16, 2, 4, 9, 15, 1, 2, 1, 2, 16, 16, 1, 2, 4, 6, 10, 11, 10, 10, 15, 14, 13, 7, 8, 8, 2, 8, 10, 7, 1, 2, 4, 11, 11, 15, 19, 10, 2, 4, 8, 9, 10, 13, 15, 12, 4, 8, 3, 2, 10, 20, 1, 13, 1, 12, 15, 4, 11, 12, 8, 9, 12, 2, 3, 12, 12, 1, 2, 4, 9, 11, 2, 1, 11, 13, 1, 2, 4, 6, 7, 8, 6, 6, 2, 6, 9, 19, 1, 9, 2, 1, 16, 4, 19, 7, 6, 11, 2, 7, 10, 1, 2, 4, 9, 12, 2, 4, 11, 1, 2, 4, 7, 10, 3, 12, 3, 14, 1, 6, 8, 9, 11, 16, 18, 1, 6, 3, 5, 3], \"Freq\": [0.980474481391495, 0.9890712078188857, 0.9935396705798017, 0.9966194923888922, 0.046911411489822565, 0.06433565004318523, 0.8859555141363632, 0.9787405790029042, 0.996924834395342, 0.9457096824413151, 0.053792660836111506, 0.9951468833245887, 0.964123688773261, 0.9903255044201885, 0.9977369868817333, 0.994274428748344, 0.9912727896847529, 0.07351928415647495, 0.9189910519559368, 0.6855842387442799, 0.2130090453310052, 0.014008331801265332, 0.08693405911961721, 0.9805883648866034, 0.1444521905962171, 0.852267924517681, 0.9583178925945042, 0.0806218009298655, 0.9165425789921551, 0.996366247612373, 0.9959686001895223, 0.9936298235038593, 0.9946598844975092, 0.9983321173128984, 0.9906275892463032, 0.9930586571257678, 0.9899867153192516, 0.9330739687763823, 0.9958270436078105, 0.733578963188519, 0.07648690611444274, 0.008112247618198471, 0.18136667889258012, 0.9945857839159471, 0.9755813455515251, 0.9946079896952226, 0.9924885579037694, 0.9920500285120021, 0.9914158768361192, 0.9919407712787272, 0.9930810679250968, 0.9955169058667964, 0.9878526278984218, 0.20469389802247656, 0.7909531205140357, 0.9793158089947871, 0.9959207428186637, 0.9930178013818244, 0.38369371609850034, 0.6160624136932147, 0.9963353540867964, 0.989663048668172, 0.06690155634311873, 0.9313400869871001, 0.9819607436463701, 0.9813493076617715, 0.9701201677721278, 0.9940781880811729, 0.9995163776067968, 0.992461275522049, 0.9981599190419495, 0.3942372747345189, 0.6021569333273816, 0.9814501110043388, 0.992024617018815, 0.9914568100248965, 0.9959567730479193, 0.02127380155144286, 0.6860801000340322, 0.29074195453638574, 0.992376563977221, 0.30691630298728734, 0.6800302399522249, 0.9956656197145699, 0.9879923481608699, 0.9940821579422416, 0.9954887225012419, 0.9990444259542324, 0.9868212271774112, 0.01278140885640342, 0.9858535830228398, 0.9987120636789643, 0.997593457803789, 0.9943151712310484, 0.988498032228614, 0.9907484095713893, 0.9995793705241193, 0.9922991500384388, 0.9985963726370227, 0.9971112930584718, 0.9731398743333217, 0.995991381422112, 0.9895953244824963, 0.9671753925001002, 0.9960964835421046, 0.9912786748160243, 0.9627630598542719, 0.03704340845408159, 0.9966083564684016, 0.9984032859093869, 0.9881943054933374, 0.9986718507314667, 0.3367182728901874, 0.6584044800263485, 0.9987633744171492, 0.9838539814153332, 0.833924270490663, 0.9940272546162829, 0.9947783238292972, 0.9912293527864282, 0.9908467328491714, 0.9772818788542693, 0.9888743503357366, 0.987910920805898, 0.3191423310897745, 0.6779520705635887, 0.9969975030888183, 0.9970624874094138, 0.346969383802986, 0.09508295613831827, 0.5554846384922804, 0.6427006006520688, 0.2959260435602105, 0.7024786454606867, 0.9929833945551853, 0.9844666176995711, 0.9924900397242, 0.9919939197270108, 0.9951847079182227, 0.9881607002335152, 0.9955747463630465, 0.25225138077684206, 0.7422569365387536, 0.9994806686516634, 0.995325257980755, 0.996510765886823, 0.972944315325527, 0.9593594712289867, 0.9862020414138509, 0.9931151162324321, 0.9865483420834829, 0.9920659824391781, 0.9249714239690173, 0.06727709833035547, 0.007448958163114929, 0.9981006450889384, 0.9972940052023435, 0.9860030066344636, 0.9870058844616169, 0.9946955978702944, 0.9940563443513688, 0.9975609286984926, 0.9930253005962705, 0.9884914820984372, 0.9948884830800606, 0.9692096556622471, 0.9972931008786643, 0.9963101180472466, 0.995156928792269, 0.9936979889710148, 0.9959447114473191, 0.9630396283822903, 0.9873354505716115, 0.8729260748681826, 0.037456177557577845, 0.08871199947847384, 0.992155612148119, 0.9631267003688818, 0.1492489279081701, 0.8443225064519337, 0.9919542823777042, 0.9903229038938407, 0.9896792426311678, 0.9951510713376553, 0.9640213493004033, 0.9934530485038212, 0.9941349295770916, 0.9852885790032149, 0.7378530240462066, 0.2612740841663935, 0.9960647183840898, 0.9980893469720987, 0.8995360104320979, 0.0972471362629295, 0.9710283558106868, 0.6669232019635863, 0.3224683613889868, 0.9903313214215961, 0.9998331462929243, 0.9971706713485761, 0.9928375535080936, 0.9970049670114883, 0.9994781999569817, 0.9964330120293388, 0.99459425907644, 0.813140355702852, 0.18429692127880573, 0.9913780135434018, 0.34329129888446536, 0.4991197724395298, 0.1558284735550645, 0.998123385260873, 0.9986793905208843, 0.995295299543613, 0.9914798677845189, 0.9981259789648532, 0.16868666171238617, 0.828438938631941, 0.06987991967136793, 0.9200856090063444, 0.9929947902969886, 0.9948454493858012, 0.9895468863259941, 0.9966027776162509, 0.9961875374465838, 0.9911896186447451, 0.9902253937104282, 0.995162979530727, 0.7189010229603366, 0.2800139343574792, 0.08701609745180913, 0.9074535877117238, 0.9978725989889767, 0.99221922308535, 0.9972660246370955, 0.9346113992822114, 0.0631011517986716, 0.9946794375275277, 0.9987205980204308, 0.9890672689297287, 0.984854811443807, 0.01596795097180852, 0.12774360777446817, 0.85489952895221, 0.9940906186787312, 0.0531655301842446, 0.8873143658335996, 0.05683211847281319, 0.9968977458738042, 0.9931961053967208, 0.7666654619647286, 0.04205337977021718, 0.19021067157605925, 0.4731709883401391, 0.5226888824687583, 0.9954046431142951, 0.9929762051904172, 0.999976672004122, 0.01583686175659841, 0.9370786980855548, 0.04673805542800995, 0.9882256283783585, 0.7344858876396502, 0.17851630094201362, 0.08563512591314307, 0.9913282115342974, 0.9941206464182574, 0.9933852163971019, 0.9923922399931893, 0.9979858802985772, 0.798019541003449, 0.20130583205854305, 0.9942958998889426, 0.992128614454576, 0.9907269851874635, 0.997456404954451, 0.1925829485080708, 0.017140890704906826, 0.788985116269976, 0.9941275871136777, 0.10254829652362994, 0.07851353952590417, 0.8171817379226761, 0.48268966057000656, 0.5090181875101888, 0.7672742774870526, 0.2300420137255514, 0.9126145954836866, 0.08577204844771491, 0.9856808168882745, 0.9973012282157465, 0.33317369868400826, 0.005125749210523204, 0.19843971943596975, 0.462049678834306, 0.9885470631366925, 0.18557619489734553, 0.8110367036254361, 0.12277690496824185, 0.7740283139302204, 0.09964502432205137, 0.9914338098970555, 0.026606818732940553, 0.37477604672399123, 0.19004870523528966, 0.40746442402446104, 0.993837558662285, 0.9961188302363205, 0.3570804432014002, 0.6416766084025162, 0.8924970923942556, 0.10727938618458327, 0.9930653671002022, 0.9955051585006959, 0.9926310609131898, 0.993860118583605, 0.997882652082598, 0.9990087967139581, 0.3832377693388485, 0.614350622604261, 0.9898694073298512, 0.10733777850193327, 0.3646007941826802, 0.010429581716787038, 0.25943584520507756, 0.06301205620558835, 0.19425095947515858, 0.6280520796272969, 0.2003063176447923, 0.09895610911535556, 0.07262101556046255, 0.9971562149192887, 0.06464010333242008, 0.0170105535085316, 0.9151677787590001, 0.3258328475789415, 0.6714592793566037, 0.99655067162554, 0.08246709231498463, 0.7236647170586248, 0.012785595707749554, 0.18027689947926873, 0.998965224109667, 0.996747178497904, 0.9946090245121881, 0.9016216019807216, 0.0955522893403482, 0.45196461158005, 0.546451986823266, 0.9962301457370053, 0.6024179067810204, 0.3965968037649275, 0.9957499175702571, 0.990629436857726, 0.9935988461976226, 0.998029294588022, 0.9224889016244718, 0.0767909680271182, 0.38793821860669053, 0.32539254978402626, 0.012664205670704755, 0.2620715214305025, 0.011371939785938964, 0.9967724643642225, 0.971169969445473, 0.9894925293260347, 0.35533568636991575, 0.6386171918925986, 0.00493521786624883, 0.9971750130339111, 0.18032681174911094, 0.09090855798922122, 0.6751078158871674, 0.050670343797270846, 0.11305285267872174, 0.15729092546604764, 0.696340034615315, 0.03276894280542659, 0.13890361129185635, 0.5407980599629607, 0.3194783059712696, 0.9964717810610784, 0.9662374680054855, 0.9957830570512178, 0.9988656395616681, 0.2329025208834438, 0.1617697312540176, 0.14570748843446976, 0.4577739203571137, 0.5288329117242099, 0.19668169012892814, 0.2729460189544309, 0.9946171404701742, 0.9948459089126251, 0.3312399806023059, 0.6674987487894953, 0.9945181155688856, 0.0771225847653268, 0.2562460074460858, 0.10075692525792694, 0.03482955441014758, 0.17165994673572738, 0.358246845361518, 0.9899870430171475, 0.9981476226590896, 0.8816183234132484, 0.11594980217226397, 0.994415466758109, 0.9925135915890403, 0.19600227704404097, 0.005119462460105548, 0.6521220038467781, 0.04522191839759901, 0.0891030251985037, 0.012311088296920484, 0.06566151538428548, 0.9306806093598724, 0.9945278450221477, 0.1910225594078475, 0.6400931376648924, 0.16588801211734122, 0.37697894118100794, 0.0513645272655388, 0.5705131421279488, 0.9895504356493106, 0.10193726897098761, 0.8863885367883338, 0.01086640938269411, 0.9980736827739254, 0.9936566477308449, 0.9796869069562907, 0.9945532595638291, 0.9958071698101283, 0.993732676089766, 0.1315066941482764, 0.8658609070158793, 0.39429596130177846, 0.04698863787534147, 0.5577347017377489, 0.9990007874088341, 0.37226992720931285, 0.6267931362278207, 0.9933083280291747, 0.9978847043147331, 0.9946491877449273, 0.9983629379190339, 0.9980061127232256, 0.9879727886325523, 0.9936894389855391, 0.993664563874255, 0.8980569692367257, 0.10054407804859002, 0.9887024576989976, 0.9545722672561548, 0.045094918540485286, 0.9920475398855382, 0.9920765914856353, 0.9839807566799575, 0.9690452972277876, 0.026670971483333607, 0.9461064363262077, 0.05312908713710886, 0.9988218742606677, 0.9972773362417557, 0.9237965163735977, 0.013557464537432423, 0.2622668139827445, 0.16097541226629533, 0.040360727760862046, 0.030387420514934742, 0.49227621234194285, 0.9947563911047145, 0.99825959079037, 0.057711093248821475, 0.937805265293349, 0.9882244407113591, 0.0924953894328557, 0.7380982890629897, 0.03132908351758016, 0.13762418830936998, 0.9415490829060067, 0.9922199297024488, 0.9962456232501452, 0.9886578628061785, 0.9984002408687581, 0.9744381105098577, 0.996701034531429, 0.1933402027526471, 0.24100579290496177, 0.008033526430165392, 0.10925595945024934, 0.3513328892125665, 0.03213410572066157, 0.06373264301264545, 0.9940158822519641, 0.9964941648418785, 0.9968682955651504, 0.9912461059032132, 0.9990577776391739, 0.9941283572207191, 0.9972707331453737, 0.379807478725589, 0.28254721675047867, 0.25853993689586285, 0.07817755234708235, 0.9638182486016721, 0.03577491315770399, 0.4321948352210845, 0.11336257973012052, 0.4534503189204821, 0.9868751231665196, 0.8786250987324207, 0.12040672848721504, 0.987896887471114, 0.9865570192886621, 0.9986801454930492, 0.9953847701460459, 0.9932979931867635, 0.3689356863635748, 0.6306565244511678, 0.057390832306269186, 0.9409427157190645, 0.5507640540687512, 0.048579613695755954, 0.13754468937955, 0.16973599965987018, 0.09247685498710169, 0.9950075249570749, 0.2159400662671131, 0.15448020125262707, 0.626226192174628, 0.9944486886925875, 0.993304096455981, 0.9988886935663407, 0.9960853729790847, 0.996237668063695, 0.31608880642671416, 0.01747224558137616, 0.6655337180542373, 0.9943878035265772, 0.9932878364129873, 0.8687146478796988, 0.1281710136215949, 0.9917441925466912, 0.36750465734090454, 0.6022135141300536, 0.02933860709864364, 0.9994851583195525, 0.20793036715984406, 0.2950319067890071, 0.30321814171656003, 0.17060113589020276, 0.013752874678288899, 0.009496032515961383, 0.9961643664519013, 0.9972305986195598, 0.9872383536154644, 0.9938055835282537, 0.3147466242397512, 0.17204614378004682, 0.09494185191875494, 0.033948904625494186, 0.30093690032429593, 0.08285834349273158, 0.994322756595965, 0.9941154088745998, 0.995402233278352, 0.4401160141184531, 0.18766851684271701, 0.3705738733594767, 0.9966518405249165, 0.9942943408043691, 0.9965800793105708, 0.9905158741337603, 0.997860393297785, 0.9997827448273194, 0.9990023583130139, 0.9935199177802526, 0.9899198879677048, 0.9938385040671953, 0.7797001796441507, 0.08794813347093579, 0.08762832207649601, 0.044133972432687775, 0.9969033921178873, 0.9931228026372922, 0.9909380935977419, 0.18823607983102292, 0.3349876241620959, 0.03941030872495246, 0.0222979378312231, 0.2540927799371935, 0.08089484422490241, 0.0793391741436543, 0.7168123903893517, 0.2826258032836872, 0.07409363074930811, 0.9228024920595647, 0.45963544282108465, 0.253329765176967, 0.0010005125006989216, 0.17168794511993496, 0.11405842507967708, 0.9973705620065044, 0.8344275018914059, 0.16430358687031904, 0.06562136936682106, 0.8566249028155289, 0.07448912198395904, 0.996644304927294, 0.9949032257282111, 0.023760743123301963, 0.8536895565014919, 0.08485979686893558, 0.03733831062233166, 0.1624387778585832, 0.16973393255283098, 0.5510273512388466, 0.11672247510796399, 0.9979756718384093, 0.9983044983594589, 0.1180200427757051, 0.878795395437558, 0.9996620945450921, 0.8691810148871841, 0.12782073748340944, 0.9973891200386271, 0.99355047314086, 0.1930089765969092, 0.07345864034658484, 0.7331460379688565, 0.9949327785373604, 0.6359659665849255, 0.16983529174890424, 0.19366110605900233, 0.9930965824361515, 0.9870140347099923, 0.9962671791937817, 0.9884109594692224, 0.2977441824233058, 0.14499268818333622, 0.5566943345634447, 0.9879631022992825, 0.9969955273186154, 0.18507028802387282, 0.07172842524002171, 0.20149664494906863, 0.5267385120679458, 0.01478372123267623, 0.48480134286960047, 0.510429607690901, 0.9817019514150845, 0.9944820968088343, 0.20423400220600305, 0.7938773311555926, 0.9903833049636975, 0.9917922610536155, 0.2705514049609396, 0.7239078132738654, 0.9962180566139017, 0.9898745880141004, 0.9886842999483367, 0.9942696715180924, 0.9983498673707071, 0.9947219259938124, 0.9920851869325196, 0.9943652426786969, 0.3730644644400115, 0.066903484715489, 0.2800198830476096, 0.17501242690475602, 0.02614109667691292, 0.015064360796865075, 0.06335892923387369, 0.141700919064244, 0.30989875795350924, 0.5460669563939159, 0.9977806614495878, 0.7339082405012903, 0.1967119277881211, 0.06854268305365127, 0.9919101944668783, 0.9850884585454106, 0.9919273725828258, 0.9965028866813205, 0.9978500712371653, 0.9953372902507883, 0.11486324631936069, 0.3467776103165461, 0.5196194476352032, 0.017502970867712107, 0.35128206986902893, 0.6448191419513681, 0.9970818604210072, 0.9937169452992409, 0.9057243767574259, 0.0926842302640371, 0.19189611002428178, 0.27597099434930156, 0.32859802117870324, 0.12579142998247234, 0.07701516121375857, 0.9929749346087545, 0.7837872697152727, 0.21514238344269854, 0.9995483037399888, 0.9945735637631068, 0.14640824108928976, 0.10100315366286447, 0.7515005286292026, 0.63212549978062, 0.24268293481285655, 0.12482133492556524, 0.995718407196697, 0.12503084523557303, 0.10098645192103975, 0.24044393314533274, 0.15067819810440852, 0.09778053281243532, 0.04728730685191544, 0.2372380140367283, 0.16666070293697363, 0.04049699323702163, 0.7912489447848842, 0.9979900505591374, 0.9993179333978058, 0.9892700296368803, 0.17048757947843948, 0.0007892943494372198, 0.5840778185835427, 0.06630072535272646, 0.0678793140516009, 0.10892262022233633, 0.9962639154842925, 0.9966633305741992, 0.7729269114289068, 0.14688572722940144, 0.03849827528189957, 0.041459681072814926, 0.02604877637508804, 0.9675259796461272, 0.17254519838001847, 0.30456841835260834, 0.5202499163276314, 0.8387314514520092, 0.15774307114464392, 0.9949619922644661, 0.8984446425829866, 0.0997324698123429, 0.9888339687285429, 0.033588822118525354, 0.6290270324014748, 0.3358882211852535, 0.6675847737278778, 0.1454443424824101, 0.08533157715980003, 0.10135107398719742, 0.9923040922123861, 0.795665010953011, 0.11139310153342154, 0.09206980841027698, 0.7242296569904121, 0.2569405121772985, 0.01781454217762603, 0.051769618942768436, 0.2819453093190773, 0.3193787260930791, 0.3456617634024846, 0.995831258568733, 0.9964707820933925, 0.9610400665944339, 0.034904602902945545, 0.6054021100666344, 0.05961827885935384, 0.22187833678584265, 0.11247572197177065, 0.980876813977394, 0.9975256961967693, 0.3964815819685512, 0.1505220868539734, 0.45220678008044773, 0.13405616130168269, 0.042435043865280846, 0.16877574264600337, 0.6259168970128925, 0.02700411882336054, 0.987567037969775, 0.28084214587199524, 0.0011188930114422121, 0.6901705058912712, 0.02769260203319475, 0.9919469333295607, 0.43405909301290463, 0.12531413145560846, 0.4385994600946296, 0.14407202763607094, 0.8484241627457512, 0.7746515242764536, 0.22438603741867283, 0.9904169495556013, 0.993816474307566, 0.5630573076467599, 0.2959499434401678, 0.13982380802363858, 0.9970553673434677, 0.9944726109097584, 0.9980178847906148, 0.7451812448718604, 0.25315390722998743, 0.38509528114344965, 0.4340669353929057, 0.14290819103704896, 0.03784173282912511, 0.9953892901542458, 0.9945989976552462, 0.028268895677204517, 0.9693875475974715, 0.9885768701052368, 0.9883398589050735, 0.9926338239100727, 0.014134222670857956, 0.29540525382093125, 0.6883366440707824, 0.12596488931257027, 0.15176492688261478, 0.719365753423594, 0.9962641639569823, 0.9940530333474774, 0.8525573252551811, 0.1441437127235564, 0.9942981234369697, 0.9868531959236037, 0.9976452277786585, 0.009482981377948282, 0.49040560840246833, 0.49853387815499545, 0.9985006978951487, 0.19768321242049414, 0.7094074774836719, 0.012511595722816083, 0.07757189348145972, 0.9959143330801719, 0.9949263979445426, 0.9743254987344209, 0.9961621379140997, 0.9942900104020858, 0.9923549780727432, 0.9970817601765274, 0.9969279827020129, 0.9995019514506456, 0.9946415780076288, 0.9679505097831627, 0.8489839684874679, 0.14790661471907107, 0.9926990944563149, 0.28034496170258333, 0.11481607679485882, 0.29515993935353285, 0.019658335729144563, 0.289746774442609, 0.9756354386389051, 0.058630192872125335, 0.058630192872125335, 0.13889398632273542, 0.16460348266238395, 0.002508243545331565, 0.5433482580074502, 0.032607166089310344, 0.8409922894550644, 0.15673804192248697, 0.9973032933545529, 0.990720431427642, 0.9962256390936658, 0.9891768572434354, 0.07778968228272842, 0.23774276392432261, 0.05592109690204172, 0.0646685310543164, 0.05342183000139181, 0.4548665759182835, 0.024367852281336616, 0.030616019532961388, 0.9803772229264781, 0.019449843028568198, 0.345077085263072, 0.6512722454260796, 0.9929515503534683, 0.9912139001953177, 0.9969252867098699, 0.9925833584572624, 0.9826489274768887, 0.02371036431539488, 0.9217404127609761, 0.053348319709638485, 0.9950599311600616, 0.9970400696606683, 0.9861610579486692, 0.12046123659015218, 0.07613567334269358, 0.4854952868633406, 0.29411314907725467, 0.02294499744574327, 0.8481498658103712, 0.06581762627099882, 0.08376788798127123, 0.9918171270120837, 0.23498561442873153, 0.7614437698315627, 0.9961044938595263, 0.9912626041928071, 0.21712886988618593, 0.779612320221266, 0.2954467822085412, 0.7009003450266456, 0.9936844941139462, 0.9894352147923542, 0.8473690977158127, 0.09136366687532306, 0.06117896174309607, 0.9975614451520898, 0.4051415212333928, 0.1408431897849992, 0.4503504463495654, 0.9936110912145653, 0.004049941567276094, 0.9881857424153669, 0.9961180960648598, 0.8850840784663649, 0.11247943497176721, 0.9983572289908379, 0.9940236533562642, 0.36485500521774444, 0.09804889029107344, 0.5354977854358627, 0.9968316511542201, 0.988829778856767, 0.2643296284829245, 0.39911676046727296, 0.03461459420609726, 0.10454306734972808, 0.19702347308217985, 0.9910248747343349, 0.996157168913377, 0.9974813991872601, 0.5099028366238327, 0.46220224868160326, 0.027139989691268518, 0.9966012973132733, 0.9982874138991719, 0.4144653245386574, 0.5839355905722418, 0.9969898039612208, 0.990558507623823, 0.9889544128911308, 0.14626571684242437, 0.11217836757830005, 0.1425470969227017, 0.36690383207930183, 0.06135722867542378, 0.06197699866204422, 0.10783997767195695, 0.9961785856876689, 0.9933971090939597, 0.998994120748469, 0.1927023090518044, 0.6083941270063845, 0.03445168983047977, 0.08026107960507375, 0.08404697958644515, 0.9936110642750186, 0.9946182203642717, 0.9965121306566391, 0.9741629356233359, 0.1881775183677694, 0.1662162976886933, 0.1597571151360239, 0.043061217017796194, 0.44180808660258897, 0.05306995460658814, 0.9438870497886034, 0.07448143583673793, 0.20431146160719854, 0.14827955574836815, 0.06218174918479955, 0.373773811033905, 0.13597986909642978, 0.9943320266220155, 0.9931689454796577, 0.9935933688611441, 0.9931205815790636, 0.9925223112349209, 0.9893896616248908, 0.2275162981438787, 0.7689054455519404, 0.9974897599643018, 0.9986521992561792, 0.9896209222795412, 0.9942071128247242, 0.9893568434456348, 0.9960630566729707, 0.7086493957211679, 0.19904424930137105, 0.09141771710584141, 0.9902207043769696, 0.3613527480863993, 0.20385575592979532, 0.27508246583297685, 0.03592036663220791, 0.12341869560809898, 0.9879904000972711, 0.9972927810752634, 0.15163645832224903, 0.09393408922617197, 0.7528146293697496, 0.9961023371010127, 0.9524371063775555, 0.8857016776785659, 0.11369973669067751, 0.9949390587217849, 0.9939231722428579, 0.9103888118953928, 0.08630079815365248, 0.9952961247600226, 0.3819587412013953, 0.3567813965241329, 0.18913712586821502, 0.07061938141183353, 0.19072123418306497, 0.8084617022539482, 0.13522605137657762, 0.862558405382636, 0.9944202953957798, 0.4243239450877109, 0.5753668097395829, 0.024931968573872032, 0.9700802317833845, 0.6410359367538506, 0.2742265192549832, 0.0840290435148297, 0.5099777610244107, 0.10936799056616694, 0.38050312038201256, 0.9833689819541527, 0.007044247984291295, 0.9897168417929271, 0.27831621884914526, 0.718637400908987, 0.9986252739181624, 0.9842232616726558, 0.9917480926061994, 0.9830172281112565, 0.9913618522888821, 0.3033387618626568, 0.10157462345477092, 0.5946732500442952, 0.9981401010093175, 0.09233237695897066, 0.6407307370789177, 0.24981703722665224, 0.016387997642068386, 0.9906405953885534, 0.5356243276631975, 0.46324266176276535, 0.9874850187835843, 0.994571276195451, 0.9982171817927747, 0.9922288902974851, 0.9954915042852686, 0.1571120354071642, 0.2908586911896732, 0.04028513728388826, 0.5100098380140253, 0.9954018160625473, 0.9972936463331299, 0.9968891152111123, 0.9944287654513113, 0.9951865739301228, 0.40981680579147645, 0.02806527541606998, 0.14351561292308512, 0.054217009326498825, 0.3173289663521549, 0.04656284330393429, 0.9918932726132594, 0.9875423973482969, 0.9935653137344406, 0.995965592351102, 0.9963270265780441, 0.52791935168406, 0.47132171324103694, 0.9143342720632069, 0.1935472808119539, 0.4938792682787789, 0.1177772499869902, 0.19393987164524387, 0.8418230011784382, 0.4037745779380845, 0.1412407091319009, 0.13028714293099217, 0.03291094431924407, 0.11591686800686422, 0.05592348248445596, 0.015576172120558262, 0.05421512812284634, 5.024571651792988e-05, 0.014721994939753454, 0.024218435361642202, 0.011054057633944573, 0.9719869662409465, 0.06951390883991738, 0.9273451243112383, 0.6091411904081125, 0.38883913933166075, 0.9953642331375946, 0.7911623537283319, 0.0839875110115002, 0.12262176607679029, 0.3091555161371141, 0.22507774907955436, 0.26789996584178977, 0.12115554010778797, 0.07624443472300449, 0.9531924008204897, 0.9971963440925873, 0.08823280364214986, 0.904386237332036, 0.9930534388010285, 0.9960629166470931, 0.8925143226351616, 0.10226726613527894, 0.9947546758472827, 0.995682629978863, 0.997824310002363, 0.9913917357938343, 0.9775002631942235, 0.9976680650760211, 0.30183487850191654, 0.0911357389382518, 0.0911357389382518, 0.05016646180087255, 0.1722381855163291, 0.051838677194234975, 0.24079901664418826, 0.9974490275769473, 0.7477593131250728, 0.2498841248924294, 0.5445560310791825, 0.08317264458175337, 0.3714670139766147, 0.9982229777604358, 0.9889088854231799, 0.06705026869018631, 0.032108579372765275, 0.7200821109333388, 0.025497989501901835, 0.06232841878242671, 0.09254825819208815, 0.9751042660588283, 0.02387497558649193, 0.9981397880699088, 0.3933669282840817, 0.6047282628844838, 0.9982463355967552, 0.09927259322228436, 0.1632615539137568, 0.6883298481858391, 0.048440241271114653, 0.9752221253326631, 0.9858408982547037, 0.9737615393566499, 0.9924755448530286, 0.9957879157487788, 0.9604789401202902, 0.9976980120127391, 0.35600277543768316, 0.5687361412480061, 0.06946395618296257, 0.0043414972614351606, 0.22828136270270788, 0.7663731462162336, 0.9987989102257478, 0.991712495083766, 0.9979014123783958, 0.9945909146086817, 0.9940454961753313, 0.9968503121302585, 0.30928604204920074, 0.6889692802364658, 0.6285579898398731, 0.24977076846013155, 0.12075431554052161, 0.9991329843661303, 0.9981451297346089, 0.08408610774067274, 0.9028918126252565, 0.011027686261071834, 0.14690417341193412, 0.8436496815942504, 0.9409844112401846, 0.057268725972645027, 0.987048456242676, 0.42688488206597736, 0.12434096564874778, 0.44808587620885143, 0.9902805396446349, 0.23452007934189797, 0.17945884332249584, 0.47056963746211267, 0.11471090837375444, 0.10556289799273036, 0.8902471064053593, 0.9937348076626616, 0.9940320887090343, 0.9899934494021668, 0.3068836515873187, 0.6616710926907066, 0.028442875025166122, 0.13129769226956492, 0.26259538453912984, 0.6034875580463489, 0.9936126339794965, 0.9852384957603962, 0.35554631256739216, 0.2729241218374458, 0.15644037752965254, 0.21468224968354915, 0.7340995413836053, 0.11009150748254451, 0.114307777981876, 0.041225755993463474, 0.1060750231983599, 0.8910301948662231, 0.975473967819609, 0.9726348652012178, 0.09147306714432349, 0.4906814049051729, 0.13355652295513046, 0.05377330464714224, 0.12683485987423768, 0.10316291598065876, 0.6384369557943474, 0.025581357060350828, 0.29692803298009274, 0.03900827860489175, 0.9940183242970042, 0.2853987358078781, 0.18385236913466305, 0.46550992301247535, 0.06520345649543283, 0.9905782999568246, 0.9931859611509097, 0.9963135856297971, 0.9991339972229509, 0.9838557468383575, 0.9975594415504401, 0.5855853888683534, 0.23516550407834472, 0.057433159411872964, 0.1210753090304349, 0.9976933579604377, 0.9968702436434942, 0.20219505080988684, 0.7946265496828553, 0.4630905701147944, 0.3556870342749174, 0.1799357938096641, 0.051539526645854185, 0.7994528102624099, 0.1487171074208617, 0.9862471354264355, 0.5652745309975611, 0.4339601014055739, 0.7532727758952475, 0.2464752832892538, 0.9963348856360242, 0.9933482799198428, 0.3877466048353103, 0.19219943439271855, 0.1201246464954491, 0.2666373300898985, 0.028751144898910768, 0.00413543864984333, 0.995156776821683, 0.9951965378817752, 0.989595457958409, 0.9980754218625283, 0.995654708506116, 0.9941996529325559, 0.9955741234671204, 0.9929879863129415, 0.9079121502890799, 0.023538463155642814, 0.06725275187326518, 0.9984341183498049, 0.5500769345640092, 0.22615803880385107, 0.20653702173867677, 0.017211418478223064, 0.9961011559132487, 0.09288977062604047, 0.9010307750725924, 0.9968085644715663, 0.09022384436350273, 0.4466637233304271, 0.19158643494472183, 0.1579845505212774, 0.02803251131458624, 0.020235388962184766, 0.06516166537364086, 0.989671461193823, 0.9473920938458771, 0.051114002553792615, 0.9997152489532074, 0.09883410199390306, 0.8989841606020772, 0.9331502160368766, 0.9993952014482012, 0.9959525395490738, 0.1264185644375693, 0.36320254227301657, 0.5076809016302386, 0.9982007250885275, 0.9980973038799674, 0.9891297963952284, 0.07868777758939041, 0.9159257311405044, 0.9917319388589863, 0.9971965266442003, 0.8617117645423851, 0.13751811407147232, 0.995612113301028, 0.7249549932302519, 0.11919991688520963, 0.11645618478299254, 0.03902196767597656, 0.9969448527884403, 0.9950438771161011, 0.9950162197502495, 0.2553511498477953, 0.7407483806395503, 0.4203916882971957, 0.3252025347646777, 0.11175791404500411, 0.07634624942027897, 0.06562528673572916, 0.997352951086987, 0.992597884923394, 0.9977341500084186, 0.995534458795787, 0.8892237466811177, 0.10914659706555235, 0.9922641386026346, 0.9098517123067608, 0.08939386679557167, 0.9948031264590977, 0.43358028359275197, 0.5653886898049485, 0.9988847769821081, 0.9963759002306948, 0.9952721641927474, 0.7619572315938682, 0.23614377012206658, 0.8159909994739306, 0.12194278902752874, 0.0604015683968133, 0.3743138538351218, 0.1440470154285472, 0.37353240528849313, 0.10783989943475324, 0.9850620071198282, 0.5781859578536098, 0.03926985551895905, 0.38100115141798563, 0.9965926302340095, 0.26374064351957205, 0.34994158977813344, 0.03996070356357152, 0.3459455194217763, 0.06296868578583843, 0.9369073437416238, 0.9992462123551068, 0.9921131789709833, 0.06932210268195667, 0.5405811918921037, 0.06560451357913881, 0.010278040460731747, 0.03958138985941375, 0.22677293527188983, 0.04767261320084087, 0.9917471893242176, 0.9977010751465677, 0.9451181536453044, 0.054352742447420666, 0.9962024509535561], \"Term\": [\"Adam\", \"Address\", \"Adobe\", \"Apr\", \"April\", \"April\", \"April\", \"Area\", \"Armenians\", \"B\", \"B\", \"BC\", \"BK\", \"Bay\", \"Bible\", \"Bill\", \"Blue\", \"Boston\", \"Boston\", \"C\", \"C\", \"C\", \"C\", \"COM\", \"California\", \"California\", \"Cellular\", \"Center\", \"Center\", \"Chicago\", \"Christ\", \"Christian\", \"Christianity\", \"Christians\", \"Church\", \"Clipper\", \"Code\", \"Commander\", \"Conference\", \"D\", \"D\", \"D\", \"D\", \"DC\", \"DE\", \"DES\", \"Data\", \"Dave\", \"December\", \"Division\", \"DoD\", \"Don\", \"Doug\", \"Dr\", \"Dr\", \"Duo\", \"Earth\", \"Einstein\", \"F\", \"F\", \"FAQ\", \"Francisco\", \"G\", \"G\", \"GN\", \"GT\", \"Genesis\", \"Germany\", \"God\", \"Great\", \"H\", \"HP\", \"HP\", \"Hill\", \"Honda\", \"IBM\", \"IDE\", \"II\", \"II\", \"II\", \"IP\", \"IV\", \"IV\", \"Inc\", \"Information\", \"Institute\", \"Iran\", \"Israel\", \"J\", \"J\", \"Jason\", \"Jesus\", \"Jews\", \"Jose\", \"July\", \"June\", \"K\", \"Koresh\", \"L\", \"LA\", \"LX\", \"Law\", \"Leafs\", \"Library\", \"Lord\", \"Los\", \"M\", \"M\", \"MB\", \"MD\", \"MO\", \"MR\", \"MS\", \"MS\", \"Mac\", \"Macintosh\", \"Macquarie\", \"Mars\", \"Medical\", \"Mike\", \"Milwaukee\", \"Monday\", \"Montreal\", \"Motorola\", \"Mr\", \"Mr\", \"NASA\", \"NSA\", \"National\", \"National\", \"National\", \"Networks\", \"New\", \"New\", \"Office\", \"Oilers\", \"PO\", \"PS\", \"Paul\", \"Pennsylvania\", \"Phone\", \"Press\", \"Press\", \"Q\", \"R\", \"RSA\", \"RT\", \"Remote\", \"Road\", \"Robert\", \"Roger\", \"Russia\", \"S\", \"S\", \"S\", \"SC\", \"SCSI\", \"SF\", \"SR\", \"SS\", \"ST\", \"San\", \"Saturn\", \"Smith\", \"Society\", \"Sony\", \"Space\", \"St\", \"States\", \"Steve\", \"Sun\", \"Sydney\", \"Systems\", \"T\", \"T\", \"T\", \"Team\", \"Technical\", \"Technology\", \"Technology\", \"Texas\", \"Thomas\", \"Tim\", \"Toronto\", \"Toyota\", \"Turkey\", \"Turks\", \"Type\", \"U\", \"U\", \"United\", \"University\", \"V\", \"V\", \"VR\", \"VW\", \"VW\", \"Volume\", \"W\", \"Washington\", \"West\", \"Windows\", \"X\", \"York\", \"abuse\", \"accept\", \"accept\", \"accurate\", \"act\", \"act\", \"act\", \"address\", \"advance\", \"advice\", \"affect\", \"age\", \"ago\", \"ago\", \"ah\", \"ah\", \"aim\", \"air\", \"al\", \"algorithm\", \"alt\", \"ammunition\", \"amp\", \"analysis\", \"answer\", \"answer\", \"anti\", \"anti\", \"application\", \"arbitrary\", \"aren\", \"argument\", \"argument\", \"armenian\", \"article\", \"assembly\", \"assign\", \"attack\", \"attack\", \"attack\", \"au\", \"author\", \"author\", \"author\", \"authority\", \"auto\", \"available\", \"available\", \"available\", \"average\", \"average\", \"avoid\", \"aware\", \"ax\", \"b\", \"b\", \"b\", \"backup\", \"bad\", \"bad\", \"bad\", \"ban\", \"bank\", \"baseball\", \"battery\", \"belief\", \"believe\", \"believe\", \"belt\", \"benefit\", \"bet\", \"bike\", \"bit\", \"bit\", \"bit\", \"blind\", \"block\", \"block\", \"block\", \"blood\", \"blood\", \"board\", \"board\", \"body\", \"body\", \"bolt\", \"bomb\", \"book\", \"book\", \"book\", \"book\", \"bounce\", \"box\", \"box\", \"break\", \"break\", \"break\", \"buffer\", \"build\", \"build\", \"build\", \"build\", \"bunch\", \"bus\", \"buy\", \"buy\", \"c\", \"c\", \"cable\", \"camp\", \"capacity\", \"captain\", \"car\", \"card\", \"care\", \"care\", \"cartridge\", \"case\", \"case\", \"case\", \"case\", \"case\", \"case\", \"cause\", \"cause\", \"cause\", \"cause\", \"cd\", \"center\", \"center\", \"center\", \"certain\", \"certain\", \"character\", \"child\", \"child\", \"child\", \"child\", \"chip\", \"christian\", \"circuit\", \"citizen\", \"citizen\", \"city\", \"city\", \"civilian\", \"claim\", \"claim\", \"clipper\", \"club\", \"co\", \"code\", \"com\", \"com\", \"come\", \"come\", \"come\", \"come\", \"come\", \"company\", \"competition\", \"component\", \"computer\", \"computer\", \"computer\", \"conclusion\", \"condition\", \"condition\", \"condition\", \"condition\", \"continue\", \"continue\", \"continue\", \"continue\", \"control\", \"control\", \"control\", \"controller\", \"convex\", \"cool\", \"copy\", \"correct\", \"correct\", \"correct\", \"correct\", \"cost\", \"cost\", \"cost\", \"couldn\", \"count\", \"country\", \"country\", \"court\", \"cover\", \"cover\", \"cover\", \"cover\", \"cover\", \"cover\", \"coverage\", \"cpu\", \"crime\", \"crime\", \"criminal\", \"cycle\", \"d\", \"d\", \"d\", \"d\", \"d\", \"d\", \"dangerous\", \"dangerous\", \"data\", \"date\", \"date\", \"date\", \"datum\", \"datum\", \"datum\", \"daughter\", \"day\", \"day\", \"day\", \"death\", \"debate\", \"deck\", \"defense\", \"define\", \"department\", \"design\", \"design\", \"develop\", \"develop\", \"develop\", \"didn\", \"die\", \"die\", \"direct\", \"discussion\", \"disease\", \"disk\", \"display\", \"distant\", \"division\", \"doctor\", \"doesn\", \"doesn\", \"dog\", \"don\", \"don\", \"door\", \"double\", \"drain\", \"draw\", \"draw\", \"drive\", \"drive\", \"driver\", \"drug\", \"dt\", \"e\", \"e\", \"e\", \"e\", \"e\", \"e\", \"earth\", \"easy\", \"edge\", \"edge\", \"edition\", \"edu\", \"edu\", \"edu\", \"edu\", \"ee\", \"effective\", \"effort\", \"electrical\", \"email\", \"enclose\", \"encryption\", \"end\", \"end\", \"end\", \"end\", \"end\", \"end\", \"end\", \"energy\", \"enforcement\", \"engine\", \"ensure\", \"entry\", \"environment\", \"error\", \"etc\", \"etc\", \"etc\", \"etc\", \"evidence\", \"evidence\", \"example\", \"example\", \"example\", \"exe\", \"exist\", \"exist\", \"expand\", \"expansion\", \"explain\", \"extension\", \"external\", \"f\", \"f\", \"face\", \"face\", \"fact\", \"fact\", \"fact\", \"fact\", \"fact\", \"factor\", \"fail\", \"fail\", \"fail\", \"failure\", \"fairly\", \"faith\", \"family\", \"fan\", \"fast\", \"fast\", \"fast\", \"father\", \"fax\", \"feature\", \"feature\", \"fee\", \"field\", \"field\", \"field\", \"file\", \"find\", \"find\", \"find\", \"find\", \"find\", \"find\", \"fire\", \"firearm\", \"flight\", \"folk\", \"follow\", \"follow\", \"follow\", \"follow\", \"follow\", \"follow\", \"following\", \"font\", \"foot\", \"force\", \"force\", \"force\", \"format\", \"freedom\", \"ftp\", \"fuel\", \"function\", \"g\", \"game\", \"gang\", \"gas\", \"generate\", \"get\", \"get\", \"get\", \"get\", \"gif\", \"gift\", \"girl\", \"give\", \"give\", \"give\", \"give\", \"give\", \"give\", \"give\", \"go\", \"go\", \"goal\", \"goal\", \"good\", \"good\", \"good\", \"good\", \"good\", \"gov\", \"government\", \"government\", \"grant\", \"grant\", \"grant\", \"graphic\", \"greek\", \"ground\", \"ground\", \"ground\", \"ground\", \"group\", \"group\", \"group\", \"group\", \"guess\", \"gun\", \"guy\", \"guy\", \"h\", \"handle\", \"handle\", \"hardware\", \"hate\", \"head\", \"head\", \"head\", \"health\", \"hear\", \"hear\", \"hear\", \"heat\", \"heavy\", \"hell\", \"hello\", \"help\", \"help\", \"help\", \"hey\", \"hi\", \"high\", \"high\", \"high\", \"high\", \"high\", \"hit\", \"hit\", \"hitter\", \"hole\", \"home\", \"home\", \"homosexual\", \"hook\", \"hot\", \"hot\", \"hour\", \"ice\", \"icon\", \"ignore\", \"image\", \"impact\", \"imply\", \"impression\", \"include\", \"include\", \"include\", \"include\", \"include\", \"include\", \"include\", \"increase\", \"increase\", \"increase\", \"info\", \"information\", \"information\", \"information\", \"initial\", \"inning\", \"insert\", \"insist\", \"instal\", \"insurance\", \"interested\", \"interested\", \"interested\", \"interested\", \"interface\", \"interface\", \"internal\", \"interpretation\", \"isn\", \"isn\", \"issue\", \"issue\", \"issue\", \"issue\", \"issue\", \"justify\", \"k\", \"k\", \"key\", \"kid\", \"kill\", \"kill\", \"kill\", \"know\", \"know\", \"know\", \"land\", \"large\", \"large\", \"large\", \"large\", \"large\", \"large\", \"large\", \"later\", \"later\", \"later\", \"launch\", \"law\", \"lawyer\", \"leave\", \"leave\", \"leave\", \"leave\", \"leave\", \"leave\", \"left\", \"legal\", \"let\", \"let\", \"let\", \"let\", \"letter\", \"letter\", \"level\", \"level\", \"level\", \"license\", \"license\", \"lie\", \"life\", \"life\", \"lift\", \"light\", \"light\", \"light\", \"like\", \"like\", \"like\", \"like\", \"link\", \"list\", \"list\", \"list\", \"little\", \"little\", \"little\", \"live\", \"live\", \"live\", \"live\", \"load\", \"logic\", \"longer\", \"longer\", \"look\", \"look\", \"look\", \"look\", \"loop\", \"lose\", \"lot\", \"lot\", \"lot\", \"low\", \"low\", \"low\", \"low\", \"low\", \"lunar\", \"m\", \"m\", \"m\", \"m\", \"mac\", \"machine\", \"machine\", \"machine\", \"magazine\", \"magazine\", \"mail\", \"mail\", \"mailing\", \"male\", \"man\", \"man\", \"man\", \"manual\", \"market\", \"maybe\", \"mb\", \"mb\", \"mean\", \"mean\", \"mean\", \"mean\", \"meaning\", \"meeting\", \"memory\", \"memory\", \"merely\", \"mil\", \"mile\", \"military\", \"military\", \"military\", \"million\", \"million\", \"million\", \"minority\", \"mirror\", \"miss\", \"miss\", \"mission\", \"mit\", \"mode\", \"model\", \"model\", \"model\", \"money\", \"month\", \"month\", \"month\", \"month\", \"moon\", \"moral\", \"mot\", \"motherboard\", \"motif\", \"motto\", \"mouse\", \"murder\", \"n\", \"nation\", \"navy\", \"nd\", \"nd\", \"necessarily\", \"need\", \"need\", \"need\", \"need\", \"need\", \"netter\", \"new\", \"new\", \"new\", \"new\", \"new\", \"new\", \"new\", \"newsgroup\", \"newsgroup\", \"night\", \"noise\", \"notice\", \"ns\", \"number\", \"number\", \"number\", \"number\", \"number\", \"number\", \"number\", \"number\", \"o\", \"o\", \"object\", \"object\", \"objective\", \"observation\", \"obviously\", \"occupy\", \"offense\", \"offer\", \"offer\", \"offer\", \"official\", \"oh\", \"oil\", \"old\", \"old\", \"old\", \"old\", \"old\", \"opinion\", \"opinion\", \"opinion\", \"opportunity\", \"option\", \"option\", \"orbit\", \"org\", \"organization\", \"organization\", \"output\", \"output\", \"owner\", \"ozone\", \"p\", \"p\", \"p\", \"package\", \"page\", \"page\", \"page\", \"panel\", \"parent\", \"parent\", \"party\", \"past\", \"past\", \"patient\", \"pattern\", \"pay\", \"pay\", \"pay\", \"pc\", \"penalty\", \"people\", \"people\", \"people\", \"people\", \"people\", \"percent\", \"performance\", \"period\", \"person\", \"person\", \"person\", \"phone\", \"physical\", \"pick\", \"pick\", \"pin\", \"pitch\", \"pixel\", \"place\", \"place\", \"place\", \"place\", \"place\", \"place\", \"place\", \"plane\", \"planet\", \"play\", \"point\", \"point\", \"point\", \"point\", \"point\", \"poor\", \"population\", \"port\", \"portable\", \"post\", \"post\", \"post\", \"post\", \"post\", \"posting\", \"posting\", \"power\", \"power\", \"power\", \"power\", \"power\", \"power\", \"pp\", \"pre\", \"predict\", \"prefer\", \"prepare\", \"president\", \"press\", \"press\", \"pretty\", \"price\", \"primary\", \"printer\", \"privacy\", \"private\", \"probably\", \"probably\", \"probably\", \"probe\", \"problem\", \"problem\", \"problem\", \"problem\", \"problem\", \"proceeding\", \"process\", \"produce\", \"produce\", \"produce\", \"product\", \"production\", \"program\", \"program\", \"project\", \"proof\", \"protect\", \"protect\", \"protection\", \"provide\", \"provide\", \"provide\", \"provide\", \"public\", \"public\", \"publish\", \"publish\", \"purchase\", \"q\", \"q\", \"quality\", \"quality\", \"question\", \"question\", \"question\", \"r\", \"r\", \"r\", \"radar\", \"radio\", \"radio\", \"range\", \"range\", \"rate\", \"ratio\", \"rational\", \"ray\", \"rd\", \"read\", \"read\", \"read\", \"reality\", \"reason\", \"reason\", \"reason\", \"reason\", \"rec\", \"receive\", \"receive\", \"recover\", \"regular\", \"religion\", \"rely\", \"replace\", \"report\", \"report\", \"report\", \"report\", \"respect\", \"revelation\", \"review\", \"ride\", \"rider\", \"right\", \"right\", \"right\", \"right\", \"right\", \"right\", \"ring\", \"rm\", \"rocket\", \"room\", \"route\", \"rule\", \"rule\", \"ruler\", \"run\", \"run\", \"run\", \"run\", \"rv\", \"s\", \"s\", \"s\", \"s\", \"s\", \"s\", \"s\", \"s\", \"s\", \"s\", \"s\", \"s\", \"sad\", \"safety\", \"safety\", \"sale\", \"sale\", \"satellite\", \"save\", \"save\", \"save\", \"say\", \"say\", \"say\", \"say\", \"say\", \"saying\", \"scan\", \"schedule\", \"schedule\", \"scheme\", \"school\", \"science\", \"science\", \"scientific\", \"score\", \"screen\", \"screw\", \"sea\", \"season\", \"second\", \"second\", \"second\", \"second\", \"second\", \"second\", \"second\", \"section\", \"security\", \"security\", \"see\", \"see\", \"see\", \"sell\", \"semi\", \"send\", \"send\", \"send\", \"send\", \"send\", \"send\", \"sense\", \"sense\", \"serial\", \"series\", \"series\", \"server\", \"set\", \"set\", \"set\", \"set\", \"shareware\", \"sheet\", \"shop\", \"shuttle\", \"signal\", \"sister\", \"site\", \"situation\", \"situation\", \"situation\", \"situation\", \"slow\", \"slow\", \"software\", \"solar\", \"soldier\", \"somebody\", \"son\", \"sorry\", \"sound\", \"sound\", \"source\", \"source\", \"source\", \"space\", \"speak\", \"speed\", \"speed\", \"speed\", \"sport\", \"sport\", \"st\", \"st\", \"staff\", \"start\", \"start\", \"start\", \"stat\", \"state\", \"state\", \"state\", \"state\", \"station\", \"station\", \"steal\", \"stick\", \"stream\", \"study\", \"study\", \"study\", \"subject\", \"subject\", \"subject\", \"suck\", \"super\", \"support\", \"support\", \"support\", \"support\", \"sure\", \"sure\", \"sure\", \"sure\", \"surface\", \"surface\", \"survive\", \"suspension\", \"system\", \"system\", \"system\", \"system\", \"system\", \"system\", \"t\", \"t\", \"t\", \"t\", \"table\", \"take\", \"take\", \"take\", \"take\", \"tap\", \"target\", \"tax\", \"team\", \"tech\", \"technology\", \"tell\", \"tell\", \"tell\", \"tell\", \"telnet\", \"terrorist\", \"text\", \"text\", \"th\", \"th\", \"th\", \"thank\", \"thank\", \"thank\", \"thermal\", \"thing\", \"thing\", \"think\", \"think\", \"thought\", \"tie\", \"time\", \"time\", \"time\", \"time\", \"time\", \"time\", \"tool\", \"topic\", \"touch\", \"trade\", \"transfer\", \"trap\", \"treatment\", \"trial\", \"true\", \"true\", \"true\", \"truth\", \"try\", \"try\", \"try\", \"try\", \"turkish\", \"unit\", \"unit\", \"universe\", \"use\", \"use\", \"use\", \"use\", \"use\", \"use\", \"use\", \"useless\", \"user\", \"user\", \"v\", \"value\", \"value\", \"valve\", \"ve\", \"vehicle\", \"version\", \"version\", \"version\", \"video\", \"village\", \"violate\", \"voice\", \"voice\", \"voltage\", \"vs\", \"w\", \"w\", \"wait\", \"want\", \"want\", \"want\", \"want\", \"war\", \"warranty\", \"wasn\", \"watch\", \"watch\", \"way\", \"way\", \"way\", \"way\", \"way\", \"weapon\", \"wear\", \"week\", \"weight\", \"white\", \"white\", \"wife\", \"will\", \"will\", \"willing\", \"win\", \"win\", \"window\", \"wire\", \"withdraw\", \"woman\", \"woman\", \"word\", \"word\", \"word\", \"work\", \"work\", \"work\", \"work\", \"workstation\", \"world\", \"world\", \"world\", \"wouldn\", \"write\", \"write\", \"write\", \"write\", \"x\", \"x\", \"y\", \"yeah\", \"year\", \"year\", \"year\", \"year\", \"year\", \"year\", \"year\", \"yesterday\", \"young\", \"z\", \"z\", \"zone\"]}, \"R\": 30, \"lambda.step\": 0.01, \"plot.opts\": {\"xlab\": \"PC1\", \"ylab\": \"PC2\"}, \"topic.order\": [12, 13, 11, 4, 8, 1, 17, 7, 20, 14, 10, 19, 15, 9, 3, 18, 5, 2, 16, 6]};\n",
       "\n",
       "function LDAvis_load_lib(url, callback){\n",
       "  var s = document.createElement('script');\n",
       "  s.src = url;\n",
       "  s.async = true;\n",
       "  s.onreadystatechange = s.onload = callback;\n",
       "  s.onerror = function(){console.warn(\"failed to load library \" + url);};\n",
       "  document.getElementsByTagName(\"head\")[0].appendChild(s);\n",
       "}\n",
       "\n",
       "if(typeof(LDAvis) !== \"undefined\"){\n",
       "   // already loaded: just create the visualization\n",
       "   !function(LDAvis){\n",
       "       new LDAvis(\"#\" + \"ldavis_el2078817490183166889571476586\", ldavis_el2078817490183166889571476586_data);\n",
       "   }(LDAvis);\n",
       "}else if(typeof define === \"function\" && define.amd){\n",
       "   // require.js is available: use it to load d3/LDAvis\n",
       "   require.config({paths: {d3: \"https://cdnjs.cloudflare.com/ajax/libs/d3/3.5.5/d3.min\"}});\n",
       "   require([\"d3\"], function(d3){\n",
       "      window.d3 = d3;\n",
       "      LDAvis_load_lib(\"https://cdn.rawgit.com/bmabey/pyLDAvis/files/ldavis.v1.0.0.js\", function(){\n",
       "        new LDAvis(\"#\" + \"ldavis_el2078817490183166889571476586\", ldavis_el2078817490183166889571476586_data);\n",
       "      });\n",
       "    });\n",
       "}else{\n",
       "    // require.js not available: dynamically load d3 & LDAvis\n",
       "    LDAvis_load_lib(\"https://cdnjs.cloudflare.com/ajax/libs/d3/3.5.5/d3.min.js\", function(){\n",
       "         LDAvis_load_lib(\"https://cdn.rawgit.com/bmabey/pyLDAvis/files/ldavis.v1.0.0.js\", function(){\n",
       "                 new LDAvis(\"#\" + \"ldavis_el2078817490183166889571476586\", ldavis_el2078817490183166889571476586_data);\n",
       "            })\n",
       "         });\n",
       "}\n",
       "</script>"
      ],
      "text/plain": [
       "<IPython.core.display.HTML object>"
      ]
     },
     "execution_count": 61,
     "metadata": {},
     "output_type": "execute_result"
    }
   ],
   "source": [
    "pyLDAvis.enable_notebook()\n",
    "vis = pyLDAvis.gensim.prepare(lda, corpus, id2word)\n",
    "pyLDAvis.display(vis)"
   ]
  },
  {
   "cell_type": "code",
   "execution_count": 62,
   "metadata": {
    "colab": {},
    "colab_type": "code",
    "id": "rjtXk8J3LaXC"
   },
   "outputs": [],
   "source": [
    "def compute_coherence_values(dictionary, corpus, texts, limit, start=2, step=3):\n",
    "    \"\"\"\n",
    "    Compute c_v coherence for various number of topics\n",
    "\n",
    "    Parameters:\n",
    "    ----------\n",
    "    dictionary : Gensim dictionary\n",
    "    corpus : Gensim corpus\n",
    "    texts : List of input texts\n",
    "    limit : Max num of topics\n",
    "\n",
    "    Returns:\n",
    "    -------\n",
    "    model_list : List of LDA topic models\n",
    "    coherence_values : Coherence values corresponding to the LDA model with respective number of topics\n",
    "    \"\"\"\n",
    "    coherence_values = []\n",
    "    model_list = []\n",
    "    for num_topics in range(start, limit, step):\n",
    "        model = gensim.models.ldamulticore.LdaMulticore(corpus=corpus,\n",
    "                                                        id2word=id2word,\n",
    "                                                        num_topics=num_topics, \n",
    "                                                        chunksize=100,\n",
    "                                                        passes=10,\n",
    "                                                        per_word_topics=True,\n",
    "                                                        workers=12)\n",
    "        model_list.append(model)\n",
    "        coherencemodel = CoherenceModel(model=model, texts=texts, dictionary=dictionary, coherence='c_v')\n",
    "        coherence_values.append(coherencemodel.get_coherence())\n",
    "\n",
    "    return model_list, coherence_values"
   ]
  },
  {
   "cell_type": "code",
   "execution_count": 71,
   "metadata": {
    "colab": {},
    "colab_type": "code",
    "id": "pRA9EjvQ3L0c"
   },
   "outputs": [
    {
     "name": "stdout",
     "output_type": "stream",
     "text": [
      "Wall time: 7min 37s\n"
     ]
    }
   ],
   "source": [
    "%%time\n",
    "model_list, coherence_values = compute_coherence_values(dictionary=id2word, \n",
    "                                                        corpus=corpus, \n",
    "                                                        texts=df['lemmas'], \n",
    "                                                        start=10, \n",
    "                                                        limit=41, \n",
    "                                                        step=5)"
   ]
  },
  {
   "cell_type": "code",
   "execution_count": 68,
   "metadata": {
    "colab": {},
    "colab_type": "code",
    "id": "2e9X-Ql-3L0e"
   },
   "outputs": [],
   "source": [
    "# coherence_values = [0.5054, 0.5332, 0.5452, 0.564, 0.5678, 0.5518, 0.519]"
   ]
  },
  {
   "cell_type": "code",
   "execution_count": 69,
   "metadata": {
    "colab": {},
    "colab_type": "code",
    "id": "ybEBYQNF3L0g"
   },
   "outputs": [
    {
     "data": {
      "image/png": "[encoded data removed]",
      "text/plain": [
       "<Figure size 432x288 with 1 Axes>"
      ]
     },
     "metadata": {
      "needs_background": "light"
     },
     "output_type": "display_data"
    }
   ],
   "source": [
    "start=10; limit=41; step=5;\n",
    "x = range(start, limit, step)\n",
    "plt.plot(x, coherence_values)\n",
    "plt.xlabel(\"Num Topics\")\n",
    "plt.ylabel(\"Coherence score\")\n",
    "plt.legend((\"coherence_values\"), loc='best')\n",
    "plt.show()"
   ]
  },
  {
   "cell_type": "code",
   "execution_count": 70,
   "metadata": {
    "colab": {},
    "colab_type": "code",
    "id": "DmvQ2zKZ3L0i"
   },
   "outputs": [
    {
     "name": "stdout",
     "output_type": "stream",
     "text": [
      "Num Topics = 2  has Coherence Value of 0.7858\n",
      "Num Topics = 8  has Coherence Value of 0.6855\n",
      "Num Topics = 14  has Coherence Value of 0.5927\n",
      "Num Topics = 20  has Coherence Value of 0.6212\n",
      "Num Topics = 26  has Coherence Value of 0.5869\n",
      "Num Topics = 32  has Coherence Value of 0.6021\n",
      "Num Topics = 38  has Coherence Value of 0.5959\n"
     ]
    }
   ],
   "source": [
    "# Print the coherence scores\n",
    "for m, cv in zip(x, coherence_values):\n",
    "    print(\"Num Topics =\", m, \" has Coherence Value of\", round(cv, 4))"
   ]
  },
  {
   "cell_type": "code",
   "execution_count": null,
   "metadata": {
    "colab": {},
    "colab_type": "code",
    "id": "Yol5vG3R3L0k"
   },
   "outputs": [],
   "source": [
    "# Select the model and print the topics\n",
    "# optimal_model = model_list[4]\n",
    "# optimal_model =  models.LdaModel.load('optimal_model.model')\n",
    "# model_topics = optimal_model.show_topics(formatted=False)\n",
    "# pprint(optimal_model.print_topics(num_words=10))"
   ]
  },
  {
   "cell_type": "code",
   "execution_count": null,
   "metadata": {
    "colab": {},
    "colab_type": "code",
    "id": "8HwVEUDI3L0m"
   },
   "outputs": [],
   "source": []
  }
 ],
 "metadata": {
  "colab": {
   "collapsed_sections": [],
   "name": "DSPT6_LS_DS_414_Topic_Modeling.ipynb",
   "provenance": []
  },
  "kernelspec": {
   "display_name": "U4-S1-NLP",
   "language": "python",
   "name": "u4-s1-nlp"
  },
  "language_info": {
   "codemirror_mode": {
    "name": "ipython",
    "version": 3
   },
   "file_extension": ".py",
   "mimetype": "text/x-python",
   "name": "python",
   "nbconvert_exporter": "python",
   "pygments_lexer": "ipython3",
   "version": "3.7.0"
  }
 },
 "nbformat": 4,
 "nbformat_minor": 4
}
