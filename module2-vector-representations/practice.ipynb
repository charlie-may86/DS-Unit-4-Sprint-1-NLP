{
 "cells": [
  {
   "cell_type": "code",
   "execution_count": 12,
   "metadata": {},
   "outputs": [],
   "source": [
    "# create my corpus of sentences\n",
    "corpus = ['I really like to go cycling.',\n",
    "         'I wish I had a faster bike, but that is okay because cycling is so fun.',\n",
    "         'My brother goes cycling too.',\n",
    "         'My brother has a faster bike than me.']"
   ]
  },
  {
   "cell_type": "code",
   "execution_count": 2,
   "metadata": {},
   "outputs": [],
   "source": [
    "from sklearn.feature_extraction.text import CountVectorizer"
   ]
  },
  {
   "cell_type": "code",
   "execution_count": 13,
   "metadata": {},
   "outputs": [
    {
     "name": "stdout",
     "output_type": "stream",
     "text": [
      "[[0 0 0 0 1 0 0 1 0 0 0 0 1 0 0 0 1 0 0 0 1 0 0]\n",
      " [1 1 0 1 1 1 1 0 0 1 0 2 0 0 0 1 0 1 0 1 0 0 1]\n",
      " [0 0 1 0 1 0 0 0 1 0 0 0 0 0 1 0 0 0 0 0 0 1 0]\n",
      " [0 1 1 0 0 1 0 0 0 0 1 0 0 1 1 0 0 0 1 0 0 0 0]]\n"
     ]
    }
   ],
   "source": [
    "#creating a count vector\n",
    "\n",
    "# Instantiate the object and count the words\n",
    "vectorizer = CountVectorizer()\n",
    "vectors = vectorizer.fit_transform(corpus)\n",
    "\n",
    "# convert to dense vectors (leave out the zeros)\n",
    "print(vectors.todense())"
   ]
  },
  {
   "cell_type": "code",
   "execution_count": 4,
   "metadata": {},
   "outputs": [],
   "source": [
    "# creating a one-hot encoded word count\n",
    "from sklearn.preprocessing import Binarizer"
   ]
  },
  {
   "cell_type": "code",
   "execution_count": 14,
   "metadata": {},
   "outputs": [],
   "source": [
    "# Instantiate the object and get the word count\n",
    "freq = CountVectorizer()\n",
    "corpus_freq = freq.fit_transform(corpus)"
   ]
  },
  {
   "cell_type": "code",
   "execution_count": 15,
   "metadata": {},
   "outputs": [
    {
     "data": {
      "text/plain": [
       "array([[0, 0, 0, 0, 1, 0, 0, 1, 0, 0, 0, 0, 1, 0, 0, 0, 1, 0, 0, 0, 1, 0,\n",
       "        0],\n",
       "       [1, 1, 0, 1, 1, 1, 1, 0, 0, 1, 0, 1, 0, 0, 0, 1, 0, 1, 0, 1, 0, 0,\n",
       "        1],\n",
       "       [0, 0, 1, 0, 1, 0, 0, 0, 1, 0, 0, 0, 0, 0, 1, 0, 0, 0, 0, 0, 0, 1,\n",
       "        0],\n",
       "       [0, 1, 1, 0, 0, 1, 0, 0, 0, 0, 1, 0, 0, 1, 1, 0, 0, 0, 1, 0, 0, 0,\n",
       "        0]])"
      ]
     },
     "execution_count": 15,
     "metadata": {},
     "output_type": "execute_result"
    }
   ],
   "source": [
    "# Initialize the binarizer and create the binary encoded vector\n",
    "onehot = Binarizer()\n",
    "corpus_onehot = onehot.fit_transform(corpus_freq.toarray())\n",
    "\n",
    "# Display\n",
    "corpus_onehot"
   ]
  },
  {
   "cell_type": "code",
   "execution_count": 16,
   "metadata": {},
   "outputs": [
    {
     "name": "stdout",
     "output_type": "stream",
     "text": [
      "[[0 0 0 0 1 0 0 1 0 0 0 0 1 0 0 0 1 0 0 0 1 0 0]\n",
      " [1 1 0 1 1 1 1 0 0 1 0 1 0 0 0 1 0 1 0 1 0 0 1]\n",
      " [0 0 1 0 1 0 0 0 1 0 0 0 0 0 1 0 0 0 0 0 0 1 0]\n",
      " [0 1 1 0 0 1 0 0 0 0 1 0 0 1 1 0 0 0 1 0 0 0 0]]\n"
     ]
    }
   ],
   "source": [
    "# could have skipped a step above\n",
    "# same as above, saved some time\n",
    "\n",
    "corpus_onehot_2 = onehot.fit_transform(vectors)\n",
    "print(corpus_onehot_2.todense())"
   ]
  },
  {
   "cell_type": "code",
   "execution_count": 8,
   "metadata": {},
   "outputs": [],
   "source": [
    "# term frequency inverwse document frequency tf-idf\n",
    "import pandas as pd\n",
    "from sklearn.feature_extraction.text import TfidfVectorizer"
   ]
  },
  {
   "cell_type": "code",
   "execution_count": 17,
   "metadata": {},
   "outputs": [
    {
     "data": {
      "text/html": [
       "<div>\n",
       "<style scoped>\n",
       "    .dataframe tbody tr th:only-of-type {\n",
       "        vertical-align: middle;\n",
       "    }\n",
       "\n",
       "    .dataframe tbody tr th {\n",
       "        vertical-align: top;\n",
       "    }\n",
       "\n",
       "    .dataframe thead th {\n",
       "        text-align: right;\n",
       "    }\n",
       "</style>\n",
       "<table border=\"1\" class=\"dataframe\">\n",
       "  <thead>\n",
       "    <tr style=\"text-align: right;\">\n",
       "      <th></th>\n",
       "      <th>bike</th>\n",
       "      <th>brother</th>\n",
       "      <th>cycling</th>\n",
       "      <th>faster</th>\n",
       "      <th>fun</th>\n",
       "      <th>goes</th>\n",
       "      <th>like</th>\n",
       "      <th>okay</th>\n",
       "      <th>really</th>\n",
       "      <th>wish</th>\n",
       "    </tr>\n",
       "  </thead>\n",
       "  <tbody>\n",
       "    <tr>\n",
       "      <th>0</th>\n",
       "      <td>0.000000</td>\n",
       "      <td>0.000000</td>\n",
       "      <td>0.411378</td>\n",
       "      <td>0.000000</td>\n",
       "      <td>0.000000</td>\n",
       "      <td>0.000000</td>\n",
       "      <td>0.644503</td>\n",
       "      <td>0.000000</td>\n",
       "      <td>0.644503</td>\n",
       "      <td>0.000000</td>\n",
       "    </tr>\n",
       "    <tr>\n",
       "      <th>1</th>\n",
       "      <td>0.365594</td>\n",
       "      <td>0.000000</td>\n",
       "      <td>0.295980</td>\n",
       "      <td>0.365594</td>\n",
       "      <td>0.463709</td>\n",
       "      <td>0.000000</td>\n",
       "      <td>0.000000</td>\n",
       "      <td>0.463709</td>\n",
       "      <td>0.000000</td>\n",
       "      <td>0.463709</td>\n",
       "    </tr>\n",
       "    <tr>\n",
       "      <th>2</th>\n",
       "      <td>0.000000</td>\n",
       "      <td>0.553492</td>\n",
       "      <td>0.448100</td>\n",
       "      <td>0.000000</td>\n",
       "      <td>0.000000</td>\n",
       "      <td>0.702035</td>\n",
       "      <td>0.000000</td>\n",
       "      <td>0.000000</td>\n",
       "      <td>0.000000</td>\n",
       "      <td>0.000000</td>\n",
       "    </tr>\n",
       "    <tr>\n",
       "      <th>3</th>\n",
       "      <td>0.577350</td>\n",
       "      <td>0.577350</td>\n",
       "      <td>0.000000</td>\n",
       "      <td>0.577350</td>\n",
       "      <td>0.000000</td>\n",
       "      <td>0.000000</td>\n",
       "      <td>0.000000</td>\n",
       "      <td>0.000000</td>\n",
       "      <td>0.000000</td>\n",
       "      <td>0.000000</td>\n",
       "    </tr>\n",
       "  </tbody>\n",
       "</table>\n",
       "</div>"
      ],
      "text/plain": [
       "       bike   brother   cycling    faster       fun      goes      like  \\\n",
       "0  0.000000  0.000000  0.411378  0.000000  0.000000  0.000000  0.644503   \n",
       "1  0.365594  0.000000  0.295980  0.365594  0.463709  0.000000  0.000000   \n",
       "2  0.000000  0.553492  0.448100  0.000000  0.000000  0.702035  0.000000   \n",
       "3  0.577350  0.577350  0.000000  0.577350  0.000000  0.000000  0.000000   \n",
       "\n",
       "       okay    really      wish  \n",
       "0  0.000000  0.644503  0.000000  \n",
       "1  0.463709  0.000000  0.463709  \n",
       "2  0.000000  0.000000  0.000000  \n",
       "3  0.000000  0.000000  0.000000  "
      ]
     },
     "execution_count": 17,
     "metadata": {},
     "output_type": "execute_result"
    }
   ],
   "source": [
    "# Instantiate the object\n",
    "tfidf = TfidfVectorizer(stop_words='english', max_features=5000)\n",
    "\n",
    "#create a vocab and get word counts per doc\n",
    "dtm = tfidf.fit_transform(corpus)\n",
    "\n",
    "#Get featrure names to use as df column headers\n",
    "dtm = pd.DataFrame(dtm.todense(), columns=tfidf.get_feature_names())\n",
    "\n",
    "# View\n",
    "dtm.head()"
   ]
  },
  {
   "cell_type": "code",
   "execution_count": 32,
   "metadata": {},
   "outputs": [
    {
     "name": "stdout",
     "output_type": "stream",
     "text": [
      "WASHINGTON—Senate Republicans, facing a Democratic offensive, won enough of their Tuesday re-elections to diminish any chance that Democrats could pick up enough seats to take control of the Senate. \n",
      "Their political prospects brightened on Wednesday when GOP Sen. Susan Collins of Maine defeated Democrat Sara Gideon in her toughest re-election race. Her victory and that of Sen. Joni Ernst of Iowa \n",
      "minimized the party’s losses elsewhere and eased the way for a Republican majority to hold the chamber for two more years. With Democrats retaining control of the House, albeit with a slightly smaller \n",
      "majority, the U.S. will likely remain a divided government, an outcome that would serve as a check on the next president and attempts at sweeping legislative initiatives. “People are disappointed,”\n",
      "said Rep. Debbie Dingell (D., Mich.). Democrats took solace in the high turnout among women, she added, but “we still have a challenge connecting with a lot of working men and women.”; \n",
      "We investigate the relationship between ethnic diversity and the rise of individualism in the United States during the 20th and 21st centuries. Tests of the historical rates of ethnic diversity \n",
      "alongside individualistic relational structures (e.g., adults living alone, single-/multi-child families) from the years 1950 to 2018 reveal that societal and regional rates of ethnic diversity \n",
      "accompanied individualistic relational structures. These effects hold above and beyond time-series trends in each variable. Further evidence from experimental studies (N = 707) suggests that the \n",
      "presence of, and contact with, ethnically diverse others contributes to greater individualistic values (e.g., the importance of uniqueness and personal achievement). Converging evidence across societal-, \n",
      "regional-, and individual-level analyses suggests a systematic link between ethnic diversity and individualism. We discuss the implications of these findings for sociocultural livelihood in light of the \n",
      "rising rates of ethnic diversity across the globe.; The president has been tweeting more this morning about wanting to “stop” the (legitimate, of course) vote count. Apparently, what Trump means, \n",
      "according to his campaign, is that they want to stop the count until the Trump campaign can monitor it (again, as we’ve said before, there is no proof of fraud.) The specific rules for partisans observing \n",
      "the vote-counting process vary from state to state and the National Conference of State Legislatures has a handy guide for those rules. But take for instance, Pennsylvania, which is a pretty big prize \n",
      "today. “Partisan observers are permitted to be present when absentee and mail-in ballot envelopes are opened, and when the ballots are counted and recorded,” the NCSL writes. In Arizona, “Partisan \n",
      "observers are authorized to observe processing at the county recorder’s office.” In Nevada, “Members of the general public may observe the preparation of absentee ballots at central counting boards.” So, \n",
      "it’s unclear why the Trump campaign would argue that these vote counts would need to be stopped so they can observe them; they’re already allowed to observe.\n"
     ]
    }
   ],
   "source": [
    "# first open and read the file\n",
    "my_file = open(\"news.txt\", \"r\")\n",
    "print(my_file.read())\n"
   ]
  },
  {
   "cell_type": "code",
   "execution_count": 33,
   "metadata": {},
   "outputs": [
    {
     "ename": "AttributeError",
     "evalue": "'_io.TextIOWrapper' object has no attribute 'split'",
     "output_type": "error",
     "traceback": [
      "\u001b[0;31m---------------------------------------------------------------------------\u001b[0m",
      "\u001b[0;31mAttributeError\u001b[0m                            Traceback (most recent call last)",
      "\u001b[0;32m<ipython-input-33-cf3d2b70ef3d>\u001b[0m in \u001b[0;36m<module>\u001b[0;34m\u001b[0m\n\u001b[0;32m----> 1\u001b[0;31m \u001b[0mcorpus\u001b[0m \u001b[0;34m=\u001b[0m \u001b[0mmy_file\u001b[0m\u001b[0;34m.\u001b[0m\u001b[0msplit\u001b[0m\u001b[0;34m(\u001b[0m\u001b[0;34m';'\u001b[0m\u001b[0;34m)\u001b[0m\u001b[0;34m\u001b[0m\u001b[0m\n\u001b[0m\u001b[1;32m      2\u001b[0m \u001b[0;34m\u001b[0m\u001b[0m\n\u001b[1;32m      3\u001b[0m \u001b[0;31m# for i in [0, 1, 2]:\u001b[0m\u001b[0;34m\u001b[0m\u001b[0;34m\u001b[0m\u001b[0m\n\u001b[1;32m      4\u001b[0m \u001b[0;31m#     print('Document', i)\u001b[0m\u001b[0;34m\u001b[0m\u001b[0;34m\u001b[0m\u001b[0m\n\u001b[1;32m      5\u001b[0m \u001b[0;31m#     print(corpus[i][0:300])\u001b[0m\u001b[0;34m\u001b[0m\u001b[0;34m\u001b[0m\u001b[0m\n",
      "\u001b[0;31mAttributeError\u001b[0m: '_io.TextIOWrapper' object has no attribute 'split'"
     ]
    }
   ],
   "source": [
    "\n",
    "corpus = my_file.split(';')\n",
    "\n",
    "# for i in [0, 1, 2]:\n",
    "#     print('Document', i)\n",
    "#     print(corpus[i][0:300])"
   ]
  },
  {
   "cell_type": "code",
   "execution_count": 35,
   "metadata": {},
   "outputs": [],
   "source": [
    "# import PCA\n",
    "from sklearn.decomposition import PCA"
   ]
  },
  {
   "cell_type": "code",
   "execution_count": 37,
   "metadata": {},
   "outputs": [],
   "source": [
    "import spacy\n",
    "nlp = spacy.load('en_core_web_lg')"
   ]
  },
  {
   "cell_type": "code",
   "execution_count": 38,
   "metadata": {},
   "outputs": [
    {
     "data": {
      "text/plain": [
       "array([[-1.99549088,  0.81990097],\n",
       "       [-0.49083884, -2.2135591 ],\n",
       "       [-2.74332493,  2.09061406],\n",
       "       [-1.12313944, -1.83272002],\n",
       "       [ 0.60048558,  1.88731102],\n",
       "       [-0.09937025,  5.15581135],\n",
       "       [ 5.03006781,  0.69508886],\n",
       "       [ 5.03508816, -1.06444853],\n",
       "       [-1.2549999 , -0.88699889],\n",
       "       [-0.78974002, -1.92846408],\n",
       "       [-1.33345271, -1.12101953],\n",
       "       [-0.83528457, -1.6015161 ]])"
      ]
     },
     "execution_count": 38,
     "metadata": {},
     "output_type": "execute_result"
    }
   ],
   "source": [
    "# define a function to find the vector for a word\n",
    "def get_word_vectors(words):\n",
    "    return [nlp(word).vector for word in words]\n",
    "\n",
    "words = ['bike', 'skate', 'wheel', 'ball',\n",
    "        'rider', 'driver', 'diver', 'swimmer',\n",
    "        'fast', 'climb', 'run', 'skip']\n",
    "\n",
    "# Initialize the PCA model and project down to two demensions\n",
    "pca = PCA(n_components=2)\n",
    "\n",
    "#Fit PCA model\n",
    "pca.fit(get_word_vectors(words))\n",
    "\n",
    "#APply the tranformation learned from the PCA model\n",
    "word_vecs_2d = pca.transform(get_word_vectors(words))\n",
    "\n",
    "word_vecs_2d"
   ]
  },
  {
   "cell_type": "code",
   "execution_count": 39,
   "metadata": {},
   "outputs": [
    {
     "data": {
      "image/png": "[encoded data removed]",
      "text/plain": [
       "<Figure size 720x576 with 1 Axes>"
      ]
     },
     "metadata": {
      "needs_background": "light"
     },
     "output_type": "display_data"
    }
   ],
   "source": [
    "# Imports for plotting\n",
    "import matplotlib.pyplot as plt\n",
    "\n",
    "plt.figure(figsize=(10,8))\n",
    "plt.scatter(word_vecs_2d[:,0], word_vecs_2d[:,1])\n",
    "\n",
    "# Display the text of the word at each point\n",
    "for word, coord in zip(words, word_vecs_2d):\n",
    "    x, y = coord\n",
    "    plt.text(x+0.05, y, word, size= 15)\n",
    "\n",
    "# show the plot\n",
    "plt.show()"
   ]
  },
  {
   "cell_type": "code",
   "execution_count": null,
   "metadata": {},
   "outputs": [],
   "source": []
  }
 ],
 "metadata": {
  "kernelspec": {
   "display_name": "U4-S1-NLP",
   "language": "python",
   "name": "u4-s1-nlp"
  },
  "language_info": {
   "codemirror_mode": {
    "name": "ipython",
    "version": 3
   },
   "file_extension": ".py",
   "mimetype": "text/x-python",
   "name": "python",
   "nbconvert_exporter": "python",
   "pygments_lexer": "ipython3",
   "version": "3.7.0"
  }
 },
 "nbformat": 4,
 "nbformat_minor": 4
}
